{
 "cells": [
  {
   "cell_type": "markdown",
   "metadata": {},
   "source": [
    "# ML Hackathon"
   ]
  },
  {
   "cell_type": "code",
   "execution_count": 1,
   "metadata": {},
   "outputs": [],
   "source": [
    "# Supress warnings.\n",
    "import warnings\n",
    "warnings.filterwarnings(\"ignore\")"
   ]
  },
  {
   "cell_type": "code",
   "execution_count": 2,
   "metadata": {},
   "outputs": [],
   "source": [
    "# Importing the necessary libraries.\n",
    "import pandas as pd\n",
    "import numpy as np\n",
    "import matplotlib.pyplot as plt\n",
    "import seaborn as sns\n",
    "import datetime as dt\n",
    "from datetime import datetime\n",
    "import statsmodels.api as sm\n",
    "from sklearn.preprocessing import StandardScaler\n",
    "from sklearn.linear_model import LogisticRegression\n",
    "from sklearn.feature_selection import RFE\n",
    "from sklearn.metrics import precision_score, recall_score\n",
    "from sklearn.metrics import precision_recall_curve\n",
    "from sklearn.tree import DecisionTreeClassifier\n",
    "from sklearn.ensemble import RandomForestClassifier\n",
    "from statsmodels.stats.outliers_influence import variance_inflation_factor\n",
    "from sklearn import metrics"
   ]
  },
  {
   "cell_type": "markdown",
   "metadata": {},
   "source": [
    "## Logistic Regresssion"
   ]
  },
  {
   "cell_type": "code",
   "execution_count": 3,
   "metadata": {},
   "outputs": [],
   "source": [
    "# Importing the dataset.\n",
    "lead= pd.read_csv('C:\\\\Users\\\\shrey\\\\Downloads\\\\train_wn75k28.csv')"
   ]
  },
  {
   "cell_type": "code",
   "execution_count": 4,
   "metadata": {},
   "outputs": [
    {
     "data": {
      "text/html": [
       "<div>\n",
       "<style scoped>\n",
       "    .dataframe tbody tr th:only-of-type {\n",
       "        vertical-align: middle;\n",
       "    }\n",
       "\n",
       "    .dataframe tbody tr th {\n",
       "        vertical-align: top;\n",
       "    }\n",
       "\n",
       "    .dataframe thead th {\n",
       "        text-align: right;\n",
       "    }\n",
       "</style>\n",
       "<table border=\"1\" class=\"dataframe\">\n",
       "  <thead>\n",
       "    <tr style=\"text-align: right;\">\n",
       "      <th></th>\n",
       "      <th>id</th>\n",
       "      <th>created_at</th>\n",
       "      <th>campaign_var_1</th>\n",
       "      <th>campaign_var_2</th>\n",
       "      <th>products_purchased</th>\n",
       "      <th>signup_date</th>\n",
       "      <th>user_activity_var_1</th>\n",
       "      <th>user_activity_var_2</th>\n",
       "      <th>user_activity_var_3</th>\n",
       "      <th>user_activity_var_4</th>\n",
       "      <th>user_activity_var_5</th>\n",
       "      <th>user_activity_var_6</th>\n",
       "      <th>user_activity_var_7</th>\n",
       "      <th>user_activity_var_8</th>\n",
       "      <th>user_activity_var_9</th>\n",
       "      <th>user_activity_var_10</th>\n",
       "      <th>user_activity_var_11</th>\n",
       "      <th>user_activity_var_12</th>\n",
       "      <th>buy</th>\n",
       "    </tr>\n",
       "  </thead>\n",
       "  <tbody>\n",
       "    <tr>\n",
       "      <th>0</th>\n",
       "      <td>1</td>\n",
       "      <td>2021-01-01</td>\n",
       "      <td>1</td>\n",
       "      <td>2</td>\n",
       "      <td>2.0</td>\n",
       "      <td>2020-09-24</td>\n",
       "      <td>0</td>\n",
       "      <td>0</td>\n",
       "      <td>0</td>\n",
       "      <td>0</td>\n",
       "      <td>0</td>\n",
       "      <td>0</td>\n",
       "      <td>1</td>\n",
       "      <td>1</td>\n",
       "      <td>0</td>\n",
       "      <td>0</td>\n",
       "      <td>0</td>\n",
       "      <td>0</td>\n",
       "      <td>0</td>\n",
       "    </tr>\n",
       "    <tr>\n",
       "      <th>1</th>\n",
       "      <td>2</td>\n",
       "      <td>2021-01-01</td>\n",
       "      <td>2</td>\n",
       "      <td>1</td>\n",
       "      <td>2.0</td>\n",
       "      <td>2020-09-19</td>\n",
       "      <td>1</td>\n",
       "      <td>0</td>\n",
       "      <td>1</td>\n",
       "      <td>0</td>\n",
       "      <td>0</td>\n",
       "      <td>0</td>\n",
       "      <td>1</td>\n",
       "      <td>0</td>\n",
       "      <td>0</td>\n",
       "      <td>0</td>\n",
       "      <td>0</td>\n",
       "      <td>0</td>\n",
       "      <td>0</td>\n",
       "    </tr>\n",
       "    <tr>\n",
       "      <th>2</th>\n",
       "      <td>3</td>\n",
       "      <td>2021-01-01</td>\n",
       "      <td>9</td>\n",
       "      <td>3</td>\n",
       "      <td>3.0</td>\n",
       "      <td>2021-08-11</td>\n",
       "      <td>1</td>\n",
       "      <td>0</td>\n",
       "      <td>0</td>\n",
       "      <td>0</td>\n",
       "      <td>0</td>\n",
       "      <td>0</td>\n",
       "      <td>0</td>\n",
       "      <td>0</td>\n",
       "      <td>0</td>\n",
       "      <td>0</td>\n",
       "      <td>0</td>\n",
       "      <td>0</td>\n",
       "      <td>0</td>\n",
       "    </tr>\n",
       "    <tr>\n",
       "      <th>3</th>\n",
       "      <td>4</td>\n",
       "      <td>2021-01-01</td>\n",
       "      <td>6</td>\n",
       "      <td>7</td>\n",
       "      <td>2.0</td>\n",
       "      <td>2017-10-04</td>\n",
       "      <td>0</td>\n",
       "      <td>0</td>\n",
       "      <td>0</td>\n",
       "      <td>0</td>\n",
       "      <td>0</td>\n",
       "      <td>0</td>\n",
       "      <td>0</td>\n",
       "      <td>0</td>\n",
       "      <td>0</td>\n",
       "      <td>0</td>\n",
       "      <td>0</td>\n",
       "      <td>0</td>\n",
       "      <td>0</td>\n",
       "    </tr>\n",
       "    <tr>\n",
       "      <th>4</th>\n",
       "      <td>5</td>\n",
       "      <td>2021-01-01</td>\n",
       "      <td>4</td>\n",
       "      <td>6</td>\n",
       "      <td>NaN</td>\n",
       "      <td>2020-06-08</td>\n",
       "      <td>0</td>\n",
       "      <td>0</td>\n",
       "      <td>0</td>\n",
       "      <td>0</td>\n",
       "      <td>0</td>\n",
       "      <td>0</td>\n",
       "      <td>1</td>\n",
       "      <td>0</td>\n",
       "      <td>0</td>\n",
       "      <td>0</td>\n",
       "      <td>1</td>\n",
       "      <td>0</td>\n",
       "      <td>0</td>\n",
       "    </tr>\n",
       "  </tbody>\n",
       "</table>\n",
       "</div>"
      ],
      "text/plain": [
       "   id  created_at  campaign_var_1  campaign_var_2  products_purchased  \\\n",
       "0   1  2021-01-01               1               2                 2.0   \n",
       "1   2  2021-01-01               2               1                 2.0   \n",
       "2   3  2021-01-01               9               3                 3.0   \n",
       "3   4  2021-01-01               6               7                 2.0   \n",
       "4   5  2021-01-01               4               6                 NaN   \n",
       "\n",
       "  signup_date  user_activity_var_1  user_activity_var_2  user_activity_var_3  \\\n",
       "0  2020-09-24                    0                    0                    0   \n",
       "1  2020-09-19                    1                    0                    1   \n",
       "2  2021-08-11                    1                    0                    0   \n",
       "3  2017-10-04                    0                    0                    0   \n",
       "4  2020-06-08                    0                    0                    0   \n",
       "\n",
       "   user_activity_var_4  user_activity_var_5  user_activity_var_6  \\\n",
       "0                    0                    0                    0   \n",
       "1                    0                    0                    0   \n",
       "2                    0                    0                    0   \n",
       "3                    0                    0                    0   \n",
       "4                    0                    0                    0   \n",
       "\n",
       "   user_activity_var_7  user_activity_var_8  user_activity_var_9  \\\n",
       "0                    1                    1                    0   \n",
       "1                    1                    0                    0   \n",
       "2                    0                    0                    0   \n",
       "3                    0                    0                    0   \n",
       "4                    1                    0                    0   \n",
       "\n",
       "   user_activity_var_10  user_activity_var_11  user_activity_var_12  buy  \n",
       "0                     0                     0                     0    0  \n",
       "1                     0                     0                     0    0  \n",
       "2                     0                     0                     0    0  \n",
       "3                     0                     0                     0    0  \n",
       "4                     0                     1                     0    0  "
      ]
     },
     "execution_count": 4,
     "metadata": {},
     "output_type": "execute_result"
    }
   ],
   "source": [
    "# Head of our dataset.\n",
    "lead.head()"
   ]
  },
  {
   "cell_type": "code",
   "execution_count": 5,
   "metadata": {},
   "outputs": [
    {
     "data": {
      "text/plain": [
       "(39161, 19)"
      ]
     },
     "execution_count": 5,
     "metadata": {},
     "output_type": "execute_result"
    }
   ],
   "source": [
    "lead.shape"
   ]
  },
  {
   "cell_type": "code",
   "execution_count": 6,
   "metadata": {},
   "outputs": [
    {
     "data": {
      "text/html": [
       "<div>\n",
       "<style scoped>\n",
       "    .dataframe tbody tr th:only-of-type {\n",
       "        vertical-align: middle;\n",
       "    }\n",
       "\n",
       "    .dataframe tbody tr th {\n",
       "        vertical-align: top;\n",
       "    }\n",
       "\n",
       "    .dataframe thead th {\n",
       "        text-align: right;\n",
       "    }\n",
       "</style>\n",
       "<table border=\"1\" class=\"dataframe\">\n",
       "  <thead>\n",
       "    <tr style=\"text-align: right;\">\n",
       "      <th></th>\n",
       "      <th>id</th>\n",
       "      <th>created_at</th>\n",
       "      <th>campaign_var_1</th>\n",
       "      <th>campaign_var_2</th>\n",
       "      <th>products_purchased</th>\n",
       "      <th>signup_date</th>\n",
       "      <th>user_activity_var_1</th>\n",
       "      <th>user_activity_var_2</th>\n",
       "      <th>user_activity_var_3</th>\n",
       "      <th>user_activity_var_4</th>\n",
       "      <th>user_activity_var_5</th>\n",
       "      <th>user_activity_var_6</th>\n",
       "      <th>user_activity_var_7</th>\n",
       "      <th>user_activity_var_8</th>\n",
       "      <th>user_activity_var_9</th>\n",
       "      <th>user_activity_var_10</th>\n",
       "      <th>user_activity_var_11</th>\n",
       "      <th>user_activity_var_12</th>\n",
       "      <th>buy</th>\n",
       "    </tr>\n",
       "  </thead>\n",
       "  <tbody>\n",
       "    <tr>\n",
       "      <th>count</th>\n",
       "      <td>39161.000000</td>\n",
       "      <td>39161</td>\n",
       "      <td>39161.000000</td>\n",
       "      <td>39161.000000</td>\n",
       "      <td>18250.000000</td>\n",
       "      <td>24048</td>\n",
       "      <td>39161.000000</td>\n",
       "      <td>39161.000000</td>\n",
       "      <td>39161.000000</td>\n",
       "      <td>39161.000000</td>\n",
       "      <td>39161.000000</td>\n",
       "      <td>39161.000000</td>\n",
       "      <td>39161.000000</td>\n",
       "      <td>39161.000000</td>\n",
       "      <td>39161.000000</td>\n",
       "      <td>39161.000000</td>\n",
       "      <td>39161.000000</td>\n",
       "      <td>39161.000000</td>\n",
       "      <td>39161.000000</td>\n",
       "    </tr>\n",
       "    <tr>\n",
       "      <th>unique</th>\n",
       "      <td>NaN</td>\n",
       "      <td>365</td>\n",
       "      <td>NaN</td>\n",
       "      <td>NaN</td>\n",
       "      <td>NaN</td>\n",
       "      <td>1800</td>\n",
       "      <td>NaN</td>\n",
       "      <td>NaN</td>\n",
       "      <td>NaN</td>\n",
       "      <td>NaN</td>\n",
       "      <td>NaN</td>\n",
       "      <td>NaN</td>\n",
       "      <td>NaN</td>\n",
       "      <td>NaN</td>\n",
       "      <td>NaN</td>\n",
       "      <td>NaN</td>\n",
       "      <td>NaN</td>\n",
       "      <td>NaN</td>\n",
       "      <td>NaN</td>\n",
       "    </tr>\n",
       "    <tr>\n",
       "      <th>top</th>\n",
       "      <td>NaN</td>\n",
       "      <td>2021-12-26</td>\n",
       "      <td>NaN</td>\n",
       "      <td>NaN</td>\n",
       "      <td>NaN</td>\n",
       "      <td>2021-07-18</td>\n",
       "      <td>NaN</td>\n",
       "      <td>NaN</td>\n",
       "      <td>NaN</td>\n",
       "      <td>NaN</td>\n",
       "      <td>NaN</td>\n",
       "      <td>NaN</td>\n",
       "      <td>NaN</td>\n",
       "      <td>NaN</td>\n",
       "      <td>NaN</td>\n",
       "      <td>NaN</td>\n",
       "      <td>NaN</td>\n",
       "      <td>NaN</td>\n",
       "      <td>NaN</td>\n",
       "    </tr>\n",
       "    <tr>\n",
       "      <th>freq</th>\n",
       "      <td>NaN</td>\n",
       "      <td>181</td>\n",
       "      <td>NaN</td>\n",
       "      <td>NaN</td>\n",
       "      <td>NaN</td>\n",
       "      <td>45</td>\n",
       "      <td>NaN</td>\n",
       "      <td>NaN</td>\n",
       "      <td>NaN</td>\n",
       "      <td>NaN</td>\n",
       "      <td>NaN</td>\n",
       "      <td>NaN</td>\n",
       "      <td>NaN</td>\n",
       "      <td>NaN</td>\n",
       "      <td>NaN</td>\n",
       "      <td>NaN</td>\n",
       "      <td>NaN</td>\n",
       "      <td>NaN</td>\n",
       "      <td>NaN</td>\n",
       "    </tr>\n",
       "    <tr>\n",
       "      <th>mean</th>\n",
       "      <td>19581.000000</td>\n",
       "      <td>NaN</td>\n",
       "      <td>6.523812</td>\n",
       "      <td>6.452746</td>\n",
       "      <td>2.154137</td>\n",
       "      <td>NaN</td>\n",
       "      <td>0.400092</td>\n",
       "      <td>0.006716</td>\n",
       "      <td>0.102832</td>\n",
       "      <td>0.011465</td>\n",
       "      <td>0.151503</td>\n",
       "      <td>0.499834</td>\n",
       "      <td>0.286612</td>\n",
       "      <td>0.174434</td>\n",
       "      <td>0.011440</td>\n",
       "      <td>0.000383</td>\n",
       "      <td>0.218942</td>\n",
       "      <td>0.000562</td>\n",
       "      <td>0.051020</td>\n",
       "    </tr>\n",
       "    <tr>\n",
       "      <th>std</th>\n",
       "      <td>11304.951283</td>\n",
       "      <td>NaN</td>\n",
       "      <td>3.472944</td>\n",
       "      <td>2.614296</td>\n",
       "      <td>0.779815</td>\n",
       "      <td>NaN</td>\n",
       "      <td>0.509194</td>\n",
       "      <td>0.081676</td>\n",
       "      <td>0.303743</td>\n",
       "      <td>0.106463</td>\n",
       "      <td>0.359681</td>\n",
       "      <td>0.558166</td>\n",
       "      <td>0.455784</td>\n",
       "      <td>0.379689</td>\n",
       "      <td>0.106346</td>\n",
       "      <td>0.019568</td>\n",
       "      <td>0.431544</td>\n",
       "      <td>0.023696</td>\n",
       "      <td>0.220042</td>\n",
       "    </tr>\n",
       "    <tr>\n",
       "      <th>min</th>\n",
       "      <td>1.000000</td>\n",
       "      <td>NaN</td>\n",
       "      <td>1.000000</td>\n",
       "      <td>1.000000</td>\n",
       "      <td>1.000000</td>\n",
       "      <td>NaN</td>\n",
       "      <td>0.000000</td>\n",
       "      <td>0.000000</td>\n",
       "      <td>0.000000</td>\n",
       "      <td>0.000000</td>\n",
       "      <td>0.000000</td>\n",
       "      <td>0.000000</td>\n",
       "      <td>0.000000</td>\n",
       "      <td>0.000000</td>\n",
       "      <td>0.000000</td>\n",
       "      <td>0.000000</td>\n",
       "      <td>0.000000</td>\n",
       "      <td>0.000000</td>\n",
       "      <td>0.000000</td>\n",
       "    </tr>\n",
       "    <tr>\n",
       "      <th>25%</th>\n",
       "      <td>9791.000000</td>\n",
       "      <td>NaN</td>\n",
       "      <td>4.000000</td>\n",
       "      <td>5.000000</td>\n",
       "      <td>2.000000</td>\n",
       "      <td>NaN</td>\n",
       "      <td>0.000000</td>\n",
       "      <td>0.000000</td>\n",
       "      <td>0.000000</td>\n",
       "      <td>0.000000</td>\n",
       "      <td>0.000000</td>\n",
       "      <td>0.000000</td>\n",
       "      <td>0.000000</td>\n",
       "      <td>0.000000</td>\n",
       "      <td>0.000000</td>\n",
       "      <td>0.000000</td>\n",
       "      <td>0.000000</td>\n",
       "      <td>0.000000</td>\n",
       "      <td>0.000000</td>\n",
       "    </tr>\n",
       "    <tr>\n",
       "      <th>50%</th>\n",
       "      <td>19581.000000</td>\n",
       "      <td>NaN</td>\n",
       "      <td>6.000000</td>\n",
       "      <td>6.000000</td>\n",
       "      <td>2.000000</td>\n",
       "      <td>NaN</td>\n",
       "      <td>0.000000</td>\n",
       "      <td>0.000000</td>\n",
       "      <td>0.000000</td>\n",
       "      <td>0.000000</td>\n",
       "      <td>0.000000</td>\n",
       "      <td>0.000000</td>\n",
       "      <td>0.000000</td>\n",
       "      <td>0.000000</td>\n",
       "      <td>0.000000</td>\n",
       "      <td>0.000000</td>\n",
       "      <td>0.000000</td>\n",
       "      <td>0.000000</td>\n",
       "      <td>0.000000</td>\n",
       "    </tr>\n",
       "    <tr>\n",
       "      <th>75%</th>\n",
       "      <td>29371.000000</td>\n",
       "      <td>NaN</td>\n",
       "      <td>9.000000</td>\n",
       "      <td>8.000000</td>\n",
       "      <td>3.000000</td>\n",
       "      <td>NaN</td>\n",
       "      <td>1.000000</td>\n",
       "      <td>0.000000</td>\n",
       "      <td>0.000000</td>\n",
       "      <td>0.000000</td>\n",
       "      <td>0.000000</td>\n",
       "      <td>1.000000</td>\n",
       "      <td>1.000000</td>\n",
       "      <td>0.000000</td>\n",
       "      <td>0.000000</td>\n",
       "      <td>0.000000</td>\n",
       "      <td>0.000000</td>\n",
       "      <td>0.000000</td>\n",
       "      <td>0.000000</td>\n",
       "    </tr>\n",
       "    <tr>\n",
       "      <th>max</th>\n",
       "      <td>39161.000000</td>\n",
       "      <td>NaN</td>\n",
       "      <td>16.000000</td>\n",
       "      <td>15.000000</td>\n",
       "      <td>4.000000</td>\n",
       "      <td>NaN</td>\n",
       "      <td>3.000000</td>\n",
       "      <td>1.000000</td>\n",
       "      <td>1.000000</td>\n",
       "      <td>1.000000</td>\n",
       "      <td>2.000000</td>\n",
       "      <td>3.000000</td>\n",
       "      <td>2.000000</td>\n",
       "      <td>2.000000</td>\n",
       "      <td>1.000000</td>\n",
       "      <td>1.000000</td>\n",
       "      <td>4.000000</td>\n",
       "      <td>1.000000</td>\n",
       "      <td>1.000000</td>\n",
       "    </tr>\n",
       "  </tbody>\n",
       "</table>\n",
       "</div>"
      ],
      "text/plain": [
       "                  id  created_at  campaign_var_1  campaign_var_2  \\\n",
       "count   39161.000000       39161    39161.000000    39161.000000   \n",
       "unique           NaN         365             NaN             NaN   \n",
       "top              NaN  2021-12-26             NaN             NaN   \n",
       "freq             NaN         181             NaN             NaN   \n",
       "mean    19581.000000         NaN        6.523812        6.452746   \n",
       "std     11304.951283         NaN        3.472944        2.614296   \n",
       "min         1.000000         NaN        1.000000        1.000000   \n",
       "25%      9791.000000         NaN        4.000000        5.000000   \n",
       "50%     19581.000000         NaN        6.000000        6.000000   \n",
       "75%     29371.000000         NaN        9.000000        8.000000   \n",
       "max     39161.000000         NaN       16.000000       15.000000   \n",
       "\n",
       "        products_purchased signup_date  user_activity_var_1  \\\n",
       "count         18250.000000       24048         39161.000000   \n",
       "unique                 NaN        1800                  NaN   \n",
       "top                    NaN  2021-07-18                  NaN   \n",
       "freq                   NaN          45                  NaN   \n",
       "mean              2.154137         NaN             0.400092   \n",
       "std               0.779815         NaN             0.509194   \n",
       "min               1.000000         NaN             0.000000   \n",
       "25%               2.000000         NaN             0.000000   \n",
       "50%               2.000000         NaN             0.000000   \n",
       "75%               3.000000         NaN             1.000000   \n",
       "max               4.000000         NaN             3.000000   \n",
       "\n",
       "        user_activity_var_2  user_activity_var_3  user_activity_var_4  \\\n",
       "count          39161.000000         39161.000000         39161.000000   \n",
       "unique                  NaN                  NaN                  NaN   \n",
       "top                     NaN                  NaN                  NaN   \n",
       "freq                    NaN                  NaN                  NaN   \n",
       "mean               0.006716             0.102832             0.011465   \n",
       "std                0.081676             0.303743             0.106463   \n",
       "min                0.000000             0.000000             0.000000   \n",
       "25%                0.000000             0.000000             0.000000   \n",
       "50%                0.000000             0.000000             0.000000   \n",
       "75%                0.000000             0.000000             0.000000   \n",
       "max                1.000000             1.000000             1.000000   \n",
       "\n",
       "        user_activity_var_5  user_activity_var_6  user_activity_var_7  \\\n",
       "count          39161.000000         39161.000000         39161.000000   \n",
       "unique                  NaN                  NaN                  NaN   \n",
       "top                     NaN                  NaN                  NaN   \n",
       "freq                    NaN                  NaN                  NaN   \n",
       "mean               0.151503             0.499834             0.286612   \n",
       "std                0.359681             0.558166             0.455784   \n",
       "min                0.000000             0.000000             0.000000   \n",
       "25%                0.000000             0.000000             0.000000   \n",
       "50%                0.000000             0.000000             0.000000   \n",
       "75%                0.000000             1.000000             1.000000   \n",
       "max                2.000000             3.000000             2.000000   \n",
       "\n",
       "        user_activity_var_8  user_activity_var_9  user_activity_var_10  \\\n",
       "count          39161.000000         39161.000000          39161.000000   \n",
       "unique                  NaN                  NaN                   NaN   \n",
       "top                     NaN                  NaN                   NaN   \n",
       "freq                    NaN                  NaN                   NaN   \n",
       "mean               0.174434             0.011440              0.000383   \n",
       "std                0.379689             0.106346              0.019568   \n",
       "min                0.000000             0.000000              0.000000   \n",
       "25%                0.000000             0.000000              0.000000   \n",
       "50%                0.000000             0.000000              0.000000   \n",
       "75%                0.000000             0.000000              0.000000   \n",
       "max                2.000000             1.000000              1.000000   \n",
       "\n",
       "        user_activity_var_11  user_activity_var_12           buy  \n",
       "count           39161.000000          39161.000000  39161.000000  \n",
       "unique                   NaN                   NaN           NaN  \n",
       "top                      NaN                   NaN           NaN  \n",
       "freq                     NaN                   NaN           NaN  \n",
       "mean                0.218942              0.000562      0.051020  \n",
       "std                 0.431544              0.023696      0.220042  \n",
       "min                 0.000000              0.000000      0.000000  \n",
       "25%                 0.000000              0.000000      0.000000  \n",
       "50%                 0.000000              0.000000      0.000000  \n",
       "75%                 0.000000              0.000000      0.000000  \n",
       "max                 4.000000              1.000000      1.000000  "
      ]
     },
     "execution_count": 6,
     "metadata": {},
     "output_type": "execute_result"
    }
   ],
   "source": [
    "# Describing the dataset.\n",
    "lead.describe(include='all')"
   ]
  },
  {
   "cell_type": "code",
   "execution_count": 7,
   "metadata": {},
   "outputs": [
    {
     "name": "stdout",
     "output_type": "stream",
     "text": [
      "<class 'pandas.core.frame.DataFrame'>\n",
      "RangeIndex: 39161 entries, 0 to 39160\n",
      "Data columns (total 19 columns):\n",
      " #   Column                Non-Null Count  Dtype  \n",
      "---  ------                --------------  -----  \n",
      " 0   id                    39161 non-null  int64  \n",
      " 1   created_at            39161 non-null  object \n",
      " 2   campaign_var_1        39161 non-null  int64  \n",
      " 3   campaign_var_2        39161 non-null  int64  \n",
      " 4   products_purchased    18250 non-null  float64\n",
      " 5   signup_date           24048 non-null  object \n",
      " 6   user_activity_var_1   39161 non-null  int64  \n",
      " 7   user_activity_var_2   39161 non-null  int64  \n",
      " 8   user_activity_var_3   39161 non-null  int64  \n",
      " 9   user_activity_var_4   39161 non-null  int64  \n",
      " 10  user_activity_var_5   39161 non-null  int64  \n",
      " 11  user_activity_var_6   39161 non-null  int64  \n",
      " 12  user_activity_var_7   39161 non-null  int64  \n",
      " 13  user_activity_var_8   39161 non-null  int64  \n",
      " 14  user_activity_var_9   39161 non-null  int64  \n",
      " 15  user_activity_var_10  39161 non-null  int64  \n",
      " 16  user_activity_var_11  39161 non-null  int64  \n",
      " 17  user_activity_var_12  39161 non-null  int64  \n",
      " 18  buy                   39161 non-null  int64  \n",
      "dtypes: float64(1), int64(16), object(2)\n",
      "memory usage: 5.7+ MB\n"
     ]
    }
   ],
   "source": [
    "# Checking the datatypes of the features.\n",
    "lead.info()"
   ]
  },
  {
   "cell_type": "code",
   "execution_count": 8,
   "metadata": {},
   "outputs": [],
   "source": [
    "# Converting the date columns to Datetime datatype.\n",
    "lead.created_at=pd.to_datetime(lead.created_at)\n",
    "lead.signup_date=pd.to_datetime(lead.signup_date)"
   ]
  },
  {
   "cell_type": "code",
   "execution_count": 9,
   "metadata": {},
   "outputs": [
    {
     "data": {
      "text/plain": [
       "id                       0.00\n",
       "created_at               0.00\n",
       "campaign_var_1           0.00\n",
       "campaign_var_2           0.00\n",
       "products_purchased      53.40\n",
       "signup_date             38.59\n",
       "user_activity_var_1      0.00\n",
       "user_activity_var_2      0.00\n",
       "user_activity_var_3      0.00\n",
       "user_activity_var_4      0.00\n",
       "user_activity_var_5      0.00\n",
       "user_activity_var_6      0.00\n",
       "user_activity_var_7      0.00\n",
       "user_activity_var_8      0.00\n",
       "user_activity_var_9      0.00\n",
       "user_activity_var_10     0.00\n",
       "user_activity_var_11     0.00\n",
       "user_activity_var_12     0.00\n",
       "buy                      0.00\n",
       "dtype: float64"
      ]
     },
     "execution_count": 9,
     "metadata": {},
     "output_type": "execute_result"
    }
   ],
   "source": [
    "# Finding the percentage of null values in the features.\n",
    "round(100*(lead.isnull().sum()/lead.shape[0]), 2)"
   ]
  },
  {
   "cell_type": "code",
   "execution_count": 10,
   "metadata": {},
   "outputs": [
    {
     "data": {
      "text/html": [
       "<div>\n",
       "<style scoped>\n",
       "    .dataframe tbody tr th:only-of-type {\n",
       "        vertical-align: middle;\n",
       "    }\n",
       "\n",
       "    .dataframe tbody tr th {\n",
       "        vertical-align: top;\n",
       "    }\n",
       "\n",
       "    .dataframe thead th {\n",
       "        text-align: right;\n",
       "    }\n",
       "</style>\n",
       "<table border=\"1\" class=\"dataframe\">\n",
       "  <thead>\n",
       "    <tr style=\"text-align: right;\">\n",
       "      <th></th>\n",
       "      <th>id</th>\n",
       "      <th>created_at</th>\n",
       "      <th>campaign_var_1</th>\n",
       "      <th>campaign_var_2</th>\n",
       "      <th>signup_date</th>\n",
       "      <th>user_activity_var_1</th>\n",
       "      <th>user_activity_var_2</th>\n",
       "      <th>user_activity_var_3</th>\n",
       "      <th>user_activity_var_4</th>\n",
       "      <th>user_activity_var_5</th>\n",
       "      <th>user_activity_var_6</th>\n",
       "      <th>user_activity_var_7</th>\n",
       "      <th>user_activity_var_8</th>\n",
       "      <th>user_activity_var_9</th>\n",
       "      <th>user_activity_var_10</th>\n",
       "      <th>user_activity_var_11</th>\n",
       "      <th>user_activity_var_12</th>\n",
       "      <th>buy</th>\n",
       "    </tr>\n",
       "  </thead>\n",
       "  <tbody>\n",
       "    <tr>\n",
       "      <th>0</th>\n",
       "      <td>1</td>\n",
       "      <td>2021-01-01</td>\n",
       "      <td>1</td>\n",
       "      <td>2</td>\n",
       "      <td>2020-09-24</td>\n",
       "      <td>0</td>\n",
       "      <td>0</td>\n",
       "      <td>0</td>\n",
       "      <td>0</td>\n",
       "      <td>0</td>\n",
       "      <td>0</td>\n",
       "      <td>1</td>\n",
       "      <td>1</td>\n",
       "      <td>0</td>\n",
       "      <td>0</td>\n",
       "      <td>0</td>\n",
       "      <td>0</td>\n",
       "      <td>0</td>\n",
       "    </tr>\n",
       "    <tr>\n",
       "      <th>1</th>\n",
       "      <td>2</td>\n",
       "      <td>2021-01-01</td>\n",
       "      <td>2</td>\n",
       "      <td>1</td>\n",
       "      <td>2020-09-19</td>\n",
       "      <td>1</td>\n",
       "      <td>0</td>\n",
       "      <td>1</td>\n",
       "      <td>0</td>\n",
       "      <td>0</td>\n",
       "      <td>0</td>\n",
       "      <td>1</td>\n",
       "      <td>0</td>\n",
       "      <td>0</td>\n",
       "      <td>0</td>\n",
       "      <td>0</td>\n",
       "      <td>0</td>\n",
       "      <td>0</td>\n",
       "    </tr>\n",
       "    <tr>\n",
       "      <th>2</th>\n",
       "      <td>3</td>\n",
       "      <td>2021-01-01</td>\n",
       "      <td>9</td>\n",
       "      <td>3</td>\n",
       "      <td>2021-08-11</td>\n",
       "      <td>1</td>\n",
       "      <td>0</td>\n",
       "      <td>0</td>\n",
       "      <td>0</td>\n",
       "      <td>0</td>\n",
       "      <td>0</td>\n",
       "      <td>0</td>\n",
       "      <td>0</td>\n",
       "      <td>0</td>\n",
       "      <td>0</td>\n",
       "      <td>0</td>\n",
       "      <td>0</td>\n",
       "      <td>0</td>\n",
       "    </tr>\n",
       "    <tr>\n",
       "      <th>3</th>\n",
       "      <td>4</td>\n",
       "      <td>2021-01-01</td>\n",
       "      <td>6</td>\n",
       "      <td>7</td>\n",
       "      <td>2017-10-04</td>\n",
       "      <td>0</td>\n",
       "      <td>0</td>\n",
       "      <td>0</td>\n",
       "      <td>0</td>\n",
       "      <td>0</td>\n",
       "      <td>0</td>\n",
       "      <td>0</td>\n",
       "      <td>0</td>\n",
       "      <td>0</td>\n",
       "      <td>0</td>\n",
       "      <td>0</td>\n",
       "      <td>0</td>\n",
       "      <td>0</td>\n",
       "    </tr>\n",
       "    <tr>\n",
       "      <th>4</th>\n",
       "      <td>5</td>\n",
       "      <td>2021-01-01</td>\n",
       "      <td>4</td>\n",
       "      <td>6</td>\n",
       "      <td>2020-06-08</td>\n",
       "      <td>0</td>\n",
       "      <td>0</td>\n",
       "      <td>0</td>\n",
       "      <td>0</td>\n",
       "      <td>0</td>\n",
       "      <td>0</td>\n",
       "      <td>1</td>\n",
       "      <td>0</td>\n",
       "      <td>0</td>\n",
       "      <td>0</td>\n",
       "      <td>1</td>\n",
       "      <td>0</td>\n",
       "      <td>0</td>\n",
       "    </tr>\n",
       "  </tbody>\n",
       "</table>\n",
       "</div>"
      ],
      "text/plain": [
       "   id created_at  campaign_var_1  campaign_var_2 signup_date  \\\n",
       "0   1 2021-01-01               1               2  2020-09-24   \n",
       "1   2 2021-01-01               2               1  2020-09-19   \n",
       "2   3 2021-01-01               9               3  2021-08-11   \n",
       "3   4 2021-01-01               6               7  2017-10-04   \n",
       "4   5 2021-01-01               4               6  2020-06-08   \n",
       "\n",
       "   user_activity_var_1  user_activity_var_2  user_activity_var_3  \\\n",
       "0                    0                    0                    0   \n",
       "1                    1                    0                    1   \n",
       "2                    1                    0                    0   \n",
       "3                    0                    0                    0   \n",
       "4                    0                    0                    0   \n",
       "\n",
       "   user_activity_var_4  user_activity_var_5  user_activity_var_6  \\\n",
       "0                    0                    0                    0   \n",
       "1                    0                    0                    0   \n",
       "2                    0                    0                    0   \n",
       "3                    0                    0                    0   \n",
       "4                    0                    0                    0   \n",
       "\n",
       "   user_activity_var_7  user_activity_var_8  user_activity_var_9  \\\n",
       "0                    1                    1                    0   \n",
       "1                    1                    0                    0   \n",
       "2                    0                    0                    0   \n",
       "3                    0                    0                    0   \n",
       "4                    1                    0                    0   \n",
       "\n",
       "   user_activity_var_10  user_activity_var_11  user_activity_var_12  buy  \n",
       "0                     0                     0                     0    0  \n",
       "1                     0                     0                     0    0  \n",
       "2                     0                     0                     0    0  \n",
       "3                     0                     0                     0    0  \n",
       "4                     0                     1                     0    0  "
      ]
     },
     "execution_count": 10,
     "metadata": {},
     "output_type": "execute_result"
    }
   ],
   "source": [
    "# Removing the columns which has null values more than 50%\n",
    "lead = lead.drop(['products_purchased'],axis=1)\n",
    "lead.head()"
   ]
  },
  {
   "cell_type": "code",
   "execution_count": 11,
   "metadata": {},
   "outputs": [
    {
     "data": {
      "text/plain": [
       "id                       0.00\n",
       "created_at               0.00\n",
       "campaign_var_1           0.00\n",
       "campaign_var_2           0.00\n",
       "signup_date             38.59\n",
       "user_activity_var_1      0.00\n",
       "user_activity_var_2      0.00\n",
       "user_activity_var_3      0.00\n",
       "user_activity_var_4      0.00\n",
       "user_activity_var_5      0.00\n",
       "user_activity_var_6      0.00\n",
       "user_activity_var_7      0.00\n",
       "user_activity_var_8      0.00\n",
       "user_activity_var_9      0.00\n",
       "user_activity_var_10     0.00\n",
       "user_activity_var_11     0.00\n",
       "user_activity_var_12     0.00\n",
       "buy                      0.00\n",
       "dtype: float64"
      ]
     },
     "execution_count": 11,
     "metadata": {},
     "output_type": "execute_result"
    }
   ],
   "source": [
    "# Finding the percentage of null values in the dataset columns\n",
    "round(100*(lead.isnull().sum()/lead.shape[0]), 2)"
   ]
  },
  {
   "cell_type": "code",
   "execution_count": 12,
   "metadata": {},
   "outputs": [],
   "source": [
    "# Replacing the null values with the mode.\n",
    "lead.signup_date.replace(to_replace=np.NaN, value=lead.signup_date.mode().values[0], inplace=True)"
   ]
  },
  {
   "cell_type": "code",
   "execution_count": 13,
   "metadata": {},
   "outputs": [
    {
     "data": {
      "text/plain": [
       "id                      0.0\n",
       "created_at              0.0\n",
       "campaign_var_1          0.0\n",
       "campaign_var_2          0.0\n",
       "signup_date             0.0\n",
       "user_activity_var_1     0.0\n",
       "user_activity_var_2     0.0\n",
       "user_activity_var_3     0.0\n",
       "user_activity_var_4     0.0\n",
       "user_activity_var_5     0.0\n",
       "user_activity_var_6     0.0\n",
       "user_activity_var_7     0.0\n",
       "user_activity_var_8     0.0\n",
       "user_activity_var_9     0.0\n",
       "user_activity_var_10    0.0\n",
       "user_activity_var_11    0.0\n",
       "user_activity_var_12    0.0\n",
       "buy                     0.0\n",
       "dtype: float64"
      ]
     },
     "execution_count": 13,
     "metadata": {},
     "output_type": "execute_result"
    }
   ],
   "source": [
    "# Finding the percentage of null values in the dataset columns\n",
    "round(100*(lead.isnull().sum()/lead.shape[0]), 2)"
   ]
  },
  {
   "cell_type": "code",
   "execution_count": 14,
   "metadata": {},
   "outputs": [],
   "source": [
    "# Features extraction.\n",
    "lead[\"Year\"] = lead.created_at.dt.year\n",
    "lead[\"month\"] = lead.created_at.dt.month\n",
    "lead[\"week\"] = lead.created_at.dt.week\n",
    "lead[\"day\"] = lead.created_at.dt.day\n",
    "lead[\"day_of_week\"] = lead.created_at.dt.dayofweek"
   ]
  },
  {
   "cell_type": "markdown",
   "metadata": {},
   "source": [
    "- Extracting features from the created_at column which can be useful in improving the models predictions."
   ]
  },
  {
   "cell_type": "code",
   "execution_count": 15,
   "metadata": {},
   "outputs": [
    {
     "data": {
      "text/html": [
       "<div>\n",
       "<style scoped>\n",
       "    .dataframe tbody tr th:only-of-type {\n",
       "        vertical-align: middle;\n",
       "    }\n",
       "\n",
       "    .dataframe tbody tr th {\n",
       "        vertical-align: top;\n",
       "    }\n",
       "\n",
       "    .dataframe thead th {\n",
       "        text-align: right;\n",
       "    }\n",
       "</style>\n",
       "<table border=\"1\" class=\"dataframe\">\n",
       "  <thead>\n",
       "    <tr style=\"text-align: right;\">\n",
       "      <th></th>\n",
       "      <th>id</th>\n",
       "      <th>created_at</th>\n",
       "      <th>campaign_var_1</th>\n",
       "      <th>campaign_var_2</th>\n",
       "      <th>signup_date</th>\n",
       "      <th>user_activity_var_1</th>\n",
       "      <th>user_activity_var_2</th>\n",
       "      <th>user_activity_var_3</th>\n",
       "      <th>user_activity_var_4</th>\n",
       "      <th>user_activity_var_5</th>\n",
       "      <th>...</th>\n",
       "      <th>user_activity_var_9</th>\n",
       "      <th>user_activity_var_10</th>\n",
       "      <th>user_activity_var_11</th>\n",
       "      <th>user_activity_var_12</th>\n",
       "      <th>buy</th>\n",
       "      <th>Year</th>\n",
       "      <th>month</th>\n",
       "      <th>week</th>\n",
       "      <th>day</th>\n",
       "      <th>day_of_week</th>\n",
       "    </tr>\n",
       "  </thead>\n",
       "  <tbody>\n",
       "    <tr>\n",
       "      <th>0</th>\n",
       "      <td>1</td>\n",
       "      <td>2021-01-01</td>\n",
       "      <td>1</td>\n",
       "      <td>2</td>\n",
       "      <td>2020-09-24</td>\n",
       "      <td>0</td>\n",
       "      <td>0</td>\n",
       "      <td>0</td>\n",
       "      <td>0</td>\n",
       "      <td>0</td>\n",
       "      <td>...</td>\n",
       "      <td>0</td>\n",
       "      <td>0</td>\n",
       "      <td>0</td>\n",
       "      <td>0</td>\n",
       "      <td>0</td>\n",
       "      <td>2021</td>\n",
       "      <td>1</td>\n",
       "      <td>53</td>\n",
       "      <td>1</td>\n",
       "      <td>4</td>\n",
       "    </tr>\n",
       "    <tr>\n",
       "      <th>1</th>\n",
       "      <td>2</td>\n",
       "      <td>2021-01-01</td>\n",
       "      <td>2</td>\n",
       "      <td>1</td>\n",
       "      <td>2020-09-19</td>\n",
       "      <td>1</td>\n",
       "      <td>0</td>\n",
       "      <td>1</td>\n",
       "      <td>0</td>\n",
       "      <td>0</td>\n",
       "      <td>...</td>\n",
       "      <td>0</td>\n",
       "      <td>0</td>\n",
       "      <td>0</td>\n",
       "      <td>0</td>\n",
       "      <td>0</td>\n",
       "      <td>2021</td>\n",
       "      <td>1</td>\n",
       "      <td>53</td>\n",
       "      <td>1</td>\n",
       "      <td>4</td>\n",
       "    </tr>\n",
       "    <tr>\n",
       "      <th>2</th>\n",
       "      <td>3</td>\n",
       "      <td>2021-01-01</td>\n",
       "      <td>9</td>\n",
       "      <td>3</td>\n",
       "      <td>2021-08-11</td>\n",
       "      <td>1</td>\n",
       "      <td>0</td>\n",
       "      <td>0</td>\n",
       "      <td>0</td>\n",
       "      <td>0</td>\n",
       "      <td>...</td>\n",
       "      <td>0</td>\n",
       "      <td>0</td>\n",
       "      <td>0</td>\n",
       "      <td>0</td>\n",
       "      <td>0</td>\n",
       "      <td>2021</td>\n",
       "      <td>1</td>\n",
       "      <td>53</td>\n",
       "      <td>1</td>\n",
       "      <td>4</td>\n",
       "    </tr>\n",
       "    <tr>\n",
       "      <th>3</th>\n",
       "      <td>4</td>\n",
       "      <td>2021-01-01</td>\n",
       "      <td>6</td>\n",
       "      <td>7</td>\n",
       "      <td>2017-10-04</td>\n",
       "      <td>0</td>\n",
       "      <td>0</td>\n",
       "      <td>0</td>\n",
       "      <td>0</td>\n",
       "      <td>0</td>\n",
       "      <td>...</td>\n",
       "      <td>0</td>\n",
       "      <td>0</td>\n",
       "      <td>0</td>\n",
       "      <td>0</td>\n",
       "      <td>0</td>\n",
       "      <td>2021</td>\n",
       "      <td>1</td>\n",
       "      <td>53</td>\n",
       "      <td>1</td>\n",
       "      <td>4</td>\n",
       "    </tr>\n",
       "    <tr>\n",
       "      <th>4</th>\n",
       "      <td>5</td>\n",
       "      <td>2021-01-01</td>\n",
       "      <td>4</td>\n",
       "      <td>6</td>\n",
       "      <td>2020-06-08</td>\n",
       "      <td>0</td>\n",
       "      <td>0</td>\n",
       "      <td>0</td>\n",
       "      <td>0</td>\n",
       "      <td>0</td>\n",
       "      <td>...</td>\n",
       "      <td>0</td>\n",
       "      <td>0</td>\n",
       "      <td>1</td>\n",
       "      <td>0</td>\n",
       "      <td>0</td>\n",
       "      <td>2021</td>\n",
       "      <td>1</td>\n",
       "      <td>53</td>\n",
       "      <td>1</td>\n",
       "      <td>4</td>\n",
       "    </tr>\n",
       "  </tbody>\n",
       "</table>\n",
       "<p>5 rows × 23 columns</p>\n",
       "</div>"
      ],
      "text/plain": [
       "   id created_at  campaign_var_1  campaign_var_2 signup_date  \\\n",
       "0   1 2021-01-01               1               2  2020-09-24   \n",
       "1   2 2021-01-01               2               1  2020-09-19   \n",
       "2   3 2021-01-01               9               3  2021-08-11   \n",
       "3   4 2021-01-01               6               7  2017-10-04   \n",
       "4   5 2021-01-01               4               6  2020-06-08   \n",
       "\n",
       "   user_activity_var_1  user_activity_var_2  user_activity_var_3  \\\n",
       "0                    0                    0                    0   \n",
       "1                    1                    0                    1   \n",
       "2                    1                    0                    0   \n",
       "3                    0                    0                    0   \n",
       "4                    0                    0                    0   \n",
       "\n",
       "   user_activity_var_4  user_activity_var_5  ...  user_activity_var_9  \\\n",
       "0                    0                    0  ...                    0   \n",
       "1                    0                    0  ...                    0   \n",
       "2                    0                    0  ...                    0   \n",
       "3                    0                    0  ...                    0   \n",
       "4                    0                    0  ...                    0   \n",
       "\n",
       "   user_activity_var_10  user_activity_var_11  user_activity_var_12  buy  \\\n",
       "0                     0                     0                     0    0   \n",
       "1                     0                     0                     0    0   \n",
       "2                     0                     0                     0    0   \n",
       "3                     0                     0                     0    0   \n",
       "4                     0                     1                     0    0   \n",
       "\n",
       "   Year  month  week  day  day_of_week  \n",
       "0  2021      1    53    1            4  \n",
       "1  2021      1    53    1            4  \n",
       "2  2021      1    53    1            4  \n",
       "3  2021      1    53    1            4  \n",
       "4  2021      1    53    1            4  \n",
       "\n",
       "[5 rows x 23 columns]"
      ]
     },
     "execution_count": 15,
     "metadata": {},
     "output_type": "execute_result"
    }
   ],
   "source": [
    "lead.head()"
   ]
  },
  {
   "cell_type": "code",
   "execution_count": 16,
   "metadata": {},
   "outputs": [],
   "source": [
    "# COnverting the datime type columns to int to feed it to the model.\n",
    "lead['signup_date']=lead['signup_date'].map(dt.datetime.toordinal)\n",
    "lead['created_at']=lead['created_at'].map(dt.datetime.toordinal)"
   ]
  },
  {
   "cell_type": "code",
   "execution_count": 17,
   "metadata": {},
   "outputs": [],
   "source": [
    "# Making a list of categorical features.\n",
    "cat_features=['campaign_var_1', 'campaign_var_2', 'user_activity_var_1','user_activity_var_2','user_activity_var_3',\n",
    "              'user_activity_var_4','user_activity_var_5','user_activity_var_6','user_activity_var_7',\n",
    "             'user_activity_var_8','user_activity_var_9','user_activity_var_10','user_activity_var_11',\n",
    "             'user_activity_var_12']"
   ]
  },
  {
   "cell_type": "code",
   "execution_count": 18,
   "metadata": {},
   "outputs": [],
   "source": [
    "# Developing a function to visualize categorical variables.\n",
    "def countplot(feature):\n",
    "    for feature in cat_features:\n",
    "        plt.figure(figsize=(12,6))\n",
    "        sns.countplot(feature, data=lead, hue='buy', palette='magma')\n",
    "        plt.xlabel(feature)\n",
    "        plt.ylabel(\"Count\")"
   ]
  },
  {
   "cell_type": "code",
   "execution_count": 19,
   "metadata": {},
   "outputs": [
    {
     "data": {
      "image/png": "[encoded data removed]",
      "text/plain": [
       "<Figure size 864x432 with 1 Axes>"
      ]
     },
     "metadata": {
      "needs_background": "light"
     },
     "output_type": "display_data"
    },
    {
     "data": {
      "image/png": "[encoded data removed]",
      "text/plain": [
       "<Figure size 864x432 with 1 Axes>"
      ]
     },
     "metadata": {
      "needs_background": "light"
     },
     "output_type": "display_data"
    },
    {
     "data": {
      "image/png": "[encoded data removed]",
      "text/plain": [
       "<Figure size 864x432 with 1 Axes>"
      ]
     },
     "metadata": {
      "needs_background": "light"
     },
     "output_type": "display_data"
    },
    {
     "data": {
      "image/png": "[encoded data removed]",
      "text/plain": [
       "<Figure size 864x432 with 1 Axes>"
      ]
     },
     "metadata": {
      "needs_background": "light"
     },
     "output_type": "display_data"
    },
    {
     "data": {
      "image/png": "[encoded data removed]",
      "text/plain": [
       "<Figure size 864x432 with 1 Axes>"
      ]
     },
     "metadata": {
      "needs_background": "light"
     },
     "output_type": "display_data"
    },
    {
     "data": {
      "image/png": "[encoded data removed]",
      "text/plain": [
       "<Figure size 864x432 with 1 Axes>"
      ]
     },
     "metadata": {
      "needs_background": "light"
     },
     "output_type": "display_data"
    },
    {
     "data": {
      "image/png": "[encoded data removed]",
      "text/plain": [
       "<Figure size 864x432 with 1 Axes>"
      ]
     },
     "metadata": {
      "needs_background": "light"
     },
     "output_type": "display_data"
    },
    {
     "data": {
      "image/png": "[encoded data removed]",
      "text/plain": [
       "<Figure size 864x432 with 1 Axes>"
      ]
     },
     "metadata": {
      "needs_background": "light"
     },
     "output_type": "display_data"
    },
    {
     "data": {
      "image/png": "[encoded data removed]",
      "text/plain": [
       "<Figure size 864x432 with 1 Axes>"
      ]
     },
     "metadata": {
      "needs_background": "light"
     },
     "output_type": "display_data"
    },
    {
     "data": {
      "image/png": "[encoded data removed]",
      "text/plain": [
       "<Figure size 864x432 with 1 Axes>"
      ]
     },
     "metadata": {
      "needs_background": "light"
     },
     "output_type": "display_data"
    },
    {
     "data": {
      "image/png": "[encoded data removed]",
      "text/plain": [
       "<Figure size 864x432 with 1 Axes>"
      ]
     },
     "metadata": {
      "needs_background": "light"
     },
     "output_type": "display_data"
    },
    {
     "data": {
      "image/png": "[encoded data removed]",
      "text/plain": [
       "<Figure size 864x432 with 1 Axes>"
      ]
     },
     "metadata": {
      "needs_background": "light"
     },
     "output_type": "display_data"
    },
    {
     "data": {
      "image/png": "[encoded data removed]",
      "text/plain": [
       "<Figure size 864x432 with 1 Axes>"
      ]
     },
     "metadata": {
      "needs_background": "light"
     },
     "output_type": "display_data"
    },
    {
     "data": {
      "image/png": "[encoded data removed]",
      "text/plain": [
       "<Figure size 864x432 with 1 Axes>"
      ]
     },
     "metadata": {
      "needs_background": "light"
     },
     "output_type": "display_data"
    }
   ],
   "source": [
    "countplot(cat_features)"
   ]
  },
  {
   "cell_type": "markdown",
   "metadata": {},
   "source": [
    "- We can see that the conversion rate of leads is very low across all the variables since the count of 0s are much more than the count of 1s."
   ]
  },
  {
   "cell_type": "code",
   "execution_count": 20,
   "metadata": {},
   "outputs": [
    {
     "data": {
      "image/png": "[encoded data removed]",
      "text/plain": [
       "<Figure size 864x360 with 1 Axes>"
      ]
     },
     "metadata": {
      "needs_background": "light"
     },
     "output_type": "display_data"
    },
    {
     "data": {
      "image/png": "[encoded data removed]",
      "text/plain": [
       "<Figure size 864x360 with 1 Axes>"
      ]
     },
     "metadata": {
      "needs_background": "light"
     },
     "output_type": "display_data"
    },
    {
     "data": {
      "image/png": "[encoded data removed]",
      "text/plain": [
       "<Figure size 864x360 with 1 Axes>"
      ]
     },
     "metadata": {
      "needs_background": "light"
     },
     "output_type": "display_data"
    },
    {
     "data": {
      "image/png": "[encoded data removed]",
      "text/plain": [
       "<Figure size 864x360 with 1 Axes>"
      ]
     },
     "metadata": {
      "needs_background": "light"
     },
     "output_type": "display_data"
    },
    {
     "data": {
      "image/png": "[encoded data removed]",
      "text/plain": [
       "<Figure size 864x360 with 1 Axes>"
      ]
     },
     "metadata": {
      "needs_background": "light"
     },
     "output_type": "display_data"
    },
    {
     "data": {
      "image/png": "[encoded data removed]",
      "text/plain": [
       "<Figure size 864x360 with 1 Axes>"
      ]
     },
     "metadata": {
      "needs_background": "light"
     },
     "output_type": "display_data"
    },
    {
     "data": {
      "image/png": "[encoded data removed]",
      "text/plain": [
       "<Figure size 864x360 with 1 Axes>"
      ]
     },
     "metadata": {
      "needs_background": "light"
     },
     "output_type": "display_data"
    },
    {
     "data": {
      "image/png": "[encoded data removed]",
      "text/plain": [
       "<Figure size 864x360 with 1 Axes>"
      ]
     },
     "metadata": {
      "needs_background": "light"
     },
     "output_type": "display_data"
    },
    {
     "data": {
      "image/png": "[encoded data removed]",
      "text/plain": [
       "<Figure size 864x360 with 1 Axes>"
      ]
     },
     "metadata": {
      "needs_background": "light"
     },
     "output_type": "display_data"
    },
    {
     "data": {
      "image/png": "[encoded data removed]",
      "text/plain": [
       "<Figure size 864x360 with 1 Axes>"
      ]
     },
     "metadata": {
      "needs_background": "light"
     },
     "output_type": "display_data"
    },
    {
     "data": {
      "image/png": "[encoded data removed]",
      "text/plain": [
       "<Figure size 864x360 with 1 Axes>"
      ]
     },
     "metadata": {
      "needs_background": "light"
     },
     "output_type": "display_data"
    },
    {
     "data": {
      "image/png": "[encoded data removed]",
      "text/plain": [
       "<Figure size 864x360 with 1 Axes>"
      ]
     },
     "metadata": {
      "needs_background": "light"
     },
     "output_type": "display_data"
    },
    {
     "data": {
      "image/png": "[encoded data removed]",
      "text/plain": [
       "<Figure size 864x360 with 1 Axes>"
      ]
     },
     "metadata": {
      "needs_background": "light"
     },
     "output_type": "display_data"
    },
    {
     "data": {
      "image/png": "[encoded data removed]",
      "text/plain": [
       "<Figure size 864x360 with 1 Axes>"
      ]
     },
     "metadata": {
      "needs_background": "light"
     },
     "output_type": "display_data"
    },
    {
     "data": {
      "image/png": "[encoded data removed]",
      "text/plain": [
       "<Figure size 864x360 with 1 Axes>"
      ]
     },
     "metadata": {
      "needs_background": "light"
     },
     "output_type": "display_data"
    },
    {
     "data": {
      "image/png": "[encoded data removed]",
      "text/plain": [
       "<Figure size 864x360 with 1 Axes>"
      ]
     },
     "metadata": {
      "needs_background": "light"
     },
     "output_type": "display_data"
    },
    {
     "data": {
      "image/png": "[encoded data removed]",
      "text/plain": [
       "<Figure size 864x360 with 1 Axes>"
      ]
     },
     "metadata": {
      "needs_background": "light"
     },
     "output_type": "display_data"
    },
    {
     "data": {
      "image/png": "[encoded data removed]",
      "text/plain": [
       "<Figure size 864x360 with 1 Axes>"
      ]
     },
     "metadata": {
      "needs_background": "light"
     },
     "output_type": "display_data"
    },
    {
     "data": {
      "image/png": "[encoded data removed]",
      "text/plain": [
       "<Figure size 864x360 with 1 Axes>"
      ]
     },
     "metadata": {
      "needs_background": "light"
     },
     "output_type": "display_data"
    },
    {
     "data": {
      "image/png": "[encoded data removed]",
      "text/plain": [
       "<Figure size 864x360 with 1 Axes>"
      ]
     },
     "metadata": {
      "needs_background": "light"
     },
     "output_type": "display_data"
    },
    {
     "data": {
      "image/png": "[encoded data removed]",
      "text/plain": [
       "<Figure size 864x360 with 1 Axes>"
      ]
     },
     "metadata": {
      "needs_background": "light"
     },
     "output_type": "display_data"
    },
    {
     "data": {
      "image/png": "[encoded data removed]",
      "text/plain": [
       "<Figure size 864x360 with 1 Axes>"
      ]
     },
     "metadata": {
      "needs_background": "light"
     },
     "output_type": "display_data"
    },
    {
     "data": {
      "image/png": "[encoded data removed]",
      "text/plain": [
       "<Figure size 864x360 with 1 Axes>"
      ]
     },
     "metadata": {
      "needs_background": "light"
     },
     "output_type": "display_data"
    }
   ],
   "source": [
    "for x in lead.columns:\n",
    "    plt.figure(figsize=(12,5))\n",
    "    sns.distplot(lead[x], kde = True, rug= True, hist = True, bins=50, color='orange')\n",
    "    plt.title(\"Distribution plot of \"+ x)"
   ]
  },
  {
   "cell_type": "markdown",
   "metadata": {},
   "source": [
    "- We can see that none of the features are normally distributed and are skewed hence logstic regression might not work well."
   ]
  },
  {
   "cell_type": "code",
   "execution_count": 21,
   "metadata": {},
   "outputs": [],
   "source": [
    "# Plotting a boxplot to check for outliers in the numerical column.\n",
    "def box(feature):\n",
    "    for feature in cat_features:\n",
    "        plt.figure(figsize=(12,6))\n",
    "        sns.boxplot(y = feature, x = \"buy\", orient=\"v\", data = lead)\n",
    "        plt.show()"
   ]
  },
  {
   "cell_type": "code",
   "execution_count": 22,
   "metadata": {},
   "outputs": [
    {
     "data": {
      "image/png": "[encoded data removed]",
      "text/plain": [
       "<Figure size 864x432 with 1 Axes>"
      ]
     },
     "metadata": {
      "needs_background": "light"
     },
     "output_type": "display_data"
    },
    {
     "data": {
      "image/png": "[encoded data removed]",
      "text/plain": [
       "<Figure size 864x432 with 1 Axes>"
      ]
     },
     "metadata": {
      "needs_background": "light"
     },
     "output_type": "display_data"
    },
    {
     "data": {
      "image/png": "[encoded data removed]",
      "text/plain": [
       "<Figure size 864x432 with 1 Axes>"
      ]
     },
     "metadata": {
      "needs_background": "light"
     },
     "output_type": "display_data"
    },
    {
     "data": {
      "image/png": "[encoded data removed]",
      "text/plain": [
       "<Figure size 864x432 with 1 Axes>"
      ]
     },
     "metadata": {
      "needs_background": "light"
     },
     "output_type": "display_data"
    },
    {
     "data": {
      "image/png": "[encoded data removed]",
      "text/plain": [
       "<Figure size 864x432 with 1 Axes>"
      ]
     },
     "metadata": {
      "needs_background": "light"
     },
     "output_type": "display_data"
    },
    {
     "data": {
      "image/png": "[encoded data removed]",
      "text/plain": [
       "<Figure size 864x432 with 1 Axes>"
      ]
     },
     "metadata": {
      "needs_background": "light"
     },
     "output_type": "display_data"
    },
    {
     "data": {
      "image/png": "[encoded data removed]",
      "text/plain": [
       "<Figure size 864x432 with 1 Axes>"
      ]
     },
     "metadata": {
      "needs_background": "light"
     },
     "output_type": "display_data"
    },
    {
     "data": {
      "image/png": "[encoded data removed]",
      "text/plain": [
       "<Figure size 864x432 with 1 Axes>"
      ]
     },
     "metadata": {
      "needs_background": "light"
     },
     "output_type": "display_data"
    },
    {
     "data": {
      "image/png": "[encoded data removed]",
      "text/plain": [
       "<Figure size 864x432 with 1 Axes>"
      ]
     },
     "metadata": {
      "needs_background": "light"
     },
     "output_type": "display_data"
    },
    {
     "data": {
      "image/png": "[encoded data removed]",
      "text/plain": [
       "<Figure size 864x432 with 1 Axes>"
      ]
     },
     "metadata": {
      "needs_background": "light"
     },
     "output_type": "display_data"
    },
    {
     "data": {
      "image/png": "[encoded data removed]",
      "text/plain": [
       "<Figure size 864x432 with 1 Axes>"
      ]
     },
     "metadata": {
      "needs_background": "light"
     },
     "output_type": "display_data"
    },
    {
     "data": {
      "image/png": "[encoded data removed]",
      "text/plain": [
       "<Figure size 864x432 with 1 Axes>"
      ]
     },
     "metadata": {
      "needs_background": "light"
     },
     "output_type": "display_data"
    },
    {
     "data": {
      "image/png": "[encoded data removed]",
      "text/plain": [
       "<Figure size 864x432 with 1 Axes>"
      ]
     },
     "metadata": {
      "needs_background": "light"
     },
     "output_type": "display_data"
    },
    {
     "data": {
      "image/png": "[encoded data removed]",
      "text/plain": [
       "<Figure size 864x432 with 1 Axes>"
      ]
     },
     "metadata": {
      "needs_background": "light"
     },
     "output_type": "display_data"
    }
   ],
   "source": [
    "box(cat_features)"
   ]
  },
  {
   "cell_type": "markdown",
   "metadata": {},
   "source": [
    "- We can see that 'user_activity_var_1', 'user_activity_var_5', 'user_activity_var_6', 'user_activity_var_7','user_activity_var_8' and  'user_activity_var_11' have outliers."
   ]
  },
  {
   "cell_type": "code",
   "execution_count": 23,
   "metadata": {},
   "outputs": [],
   "source": [
    "# Features having outliers.\n",
    "out_features= ['user_activity_var_1', 'user_activity_var_5', 'user_activity_var_6', 'user_activity_var_7',\n",
    "               'user_activity_var_8', 'user_activity_var_11']"
   ]
  },
  {
   "cell_type": "code",
   "execution_count": 24,
   "metadata": {},
   "outputs": [
    {
     "data": {
      "image/png": "[encoded data removed]",
      "text/plain": [
       "<Figure size 432x288 with 1 Axes>"
      ]
     },
     "metadata": {
      "needs_background": "light"
     },
     "output_type": "display_data"
    },
    {
     "data": {
      "image/png": "[encoded data removed]",
      "text/plain": [
       "<Figure size 432x288 with 1 Axes>"
      ]
     },
     "metadata": {
      "needs_background": "light"
     },
     "output_type": "display_data"
    },
    {
     "data": {
      "image/png": "[encoded data removed]",
      "text/plain": [
       "<Figure size 432x288 with 1 Axes>"
      ]
     },
     "metadata": {
      "needs_background": "light"
     },
     "output_type": "display_data"
    },
    {
     "data": {
      "image/png": "[encoded data removed]",
      "text/plain": [
       "<Figure size 432x288 with 1 Axes>"
      ]
     },
     "metadata": {
      "needs_background": "light"
     },
     "output_type": "display_data"
    },
    {
     "data": {
      "image/png": "[encoded data removed]",
      "text/plain": [
       "<Figure size 432x288 with 1 Axes>"
      ]
     },
     "metadata": {
      "needs_background": "light"
     },
     "output_type": "display_data"
    },
    {
     "data": {
      "image/png": "[encoded data removed]",
      "text/plain": [
       "<Figure size 432x288 with 1 Axes>"
      ]
     },
     "metadata": {
      "needs_background": "light"
     },
     "output_type": "display_data"
    }
   ],
   "source": [
    "# Removing the outliers above 99th percentile and below 1 percentile.\n",
    "for feature in out_features:\n",
    "    Q1 = lead[feature].quantile(0.01)\n",
    "    Q3 = lead[feature].quantile(0.99)\n",
    "    lead = lead[lead[feature] <= Q3]\n",
    "    lead = lead[lead[feature] >= Q1]\n",
    "    sns.boxplot(y=lead[feature])\n",
    "    plt.show()"
   ]
  },
  {
   "cell_type": "code",
   "execution_count": 25,
   "metadata": {},
   "outputs": [],
   "source": [
    "# Creating X_train and y_train.\n",
    "X_train=lead.drop(['id','buy'], axis=1)\n",
    "y_train = lead['buy']"
   ]
  },
  {
   "cell_type": "code",
   "execution_count": 26,
   "metadata": {},
   "outputs": [],
   "source": [
    "# Getting all the numerical columns.\n",
    "num_cols = lead._get_numeric_data().columns"
   ]
  },
  {
   "cell_type": "code",
   "execution_count": 27,
   "metadata": {},
   "outputs": [
    {
     "data": {
      "text/plain": [
       "Index(['id', 'created_at', 'campaign_var_1', 'campaign_var_2', 'signup_date',\n",
       "       'user_activity_var_1', 'user_activity_var_2', 'user_activity_var_3',\n",
       "       'user_activity_var_4', 'user_activity_var_5', 'user_activity_var_6',\n",
       "       'user_activity_var_7', 'user_activity_var_8', 'user_activity_var_9',\n",
       "       'user_activity_var_10', 'user_activity_var_11', 'user_activity_var_12',\n",
       "       'buy', 'Year', 'month', 'week', 'day', 'day_of_week'],\n",
       "      dtype='object')"
      ]
     },
     "execution_count": 27,
     "metadata": {},
     "output_type": "execute_result"
    }
   ],
   "source": [
    "num_cols"
   ]
  },
  {
   "cell_type": "code",
   "execution_count": 28,
   "metadata": {},
   "outputs": [
    {
     "data": {
      "text/html": [
       "<div>\n",
       "<style scoped>\n",
       "    .dataframe tbody tr th:only-of-type {\n",
       "        vertical-align: middle;\n",
       "    }\n",
       "\n",
       "    .dataframe tbody tr th {\n",
       "        vertical-align: top;\n",
       "    }\n",
       "\n",
       "    .dataframe thead th {\n",
       "        text-align: right;\n",
       "    }\n",
       "</style>\n",
       "<table border=\"1\" class=\"dataframe\">\n",
       "  <thead>\n",
       "    <tr style=\"text-align: right;\">\n",
       "      <th></th>\n",
       "      <th>created_at</th>\n",
       "      <th>campaign_var_1</th>\n",
       "      <th>campaign_var_2</th>\n",
       "      <th>signup_date</th>\n",
       "      <th>user_activity_var_1</th>\n",
       "      <th>user_activity_var_2</th>\n",
       "      <th>user_activity_var_3</th>\n",
       "      <th>user_activity_var_4</th>\n",
       "      <th>user_activity_var_5</th>\n",
       "      <th>user_activity_var_6</th>\n",
       "      <th>...</th>\n",
       "      <th>user_activity_var_8</th>\n",
       "      <th>user_activity_var_9</th>\n",
       "      <th>user_activity_var_10</th>\n",
       "      <th>user_activity_var_11</th>\n",
       "      <th>user_activity_var_12</th>\n",
       "      <th>Year</th>\n",
       "      <th>month</th>\n",
       "      <th>week</th>\n",
       "      <th>day</th>\n",
       "      <th>day_of_week</th>\n",
       "    </tr>\n",
       "  </thead>\n",
       "  <tbody>\n",
       "    <tr>\n",
       "      <th>0</th>\n",
       "      <td>-2.297235</td>\n",
       "      <td>-1.592301</td>\n",
       "      <td>-1.705009</td>\n",
       "      <td>-0.365130</td>\n",
       "      <td>-0.791632</td>\n",
       "      <td>-0.077239</td>\n",
       "      <td>-0.339203</td>\n",
       "      <td>-0.103952</td>\n",
       "      <td>-0.41898</td>\n",
       "      <td>-0.903827</td>\n",
       "      <td>...</td>\n",
       "      <td>2.163813</td>\n",
       "      <td>-0.099649</td>\n",
       "      <td>-0.019757</td>\n",
       "      <td>-0.511841</td>\n",
       "      <td>-0.022814</td>\n",
       "      <td>0.0</td>\n",
       "      <td>-2.158973</td>\n",
       "      <td>1.553422</td>\n",
       "      <td>-1.710007</td>\n",
       "      <td>0.500085</td>\n",
       "    </tr>\n",
       "    <tr>\n",
       "      <th>1</th>\n",
       "      <td>-2.297235</td>\n",
       "      <td>-1.304613</td>\n",
       "      <td>-2.087028</td>\n",
       "      <td>-0.380144</td>\n",
       "      <td>1.263213</td>\n",
       "      <td>-0.077239</td>\n",
       "      <td>2.948085</td>\n",
       "      <td>-0.103952</td>\n",
       "      <td>-0.41898</td>\n",
       "      <td>-0.903827</td>\n",
       "      <td>...</td>\n",
       "      <td>-0.462147</td>\n",
       "      <td>-0.099649</td>\n",
       "      <td>-0.019757</td>\n",
       "      <td>-0.511841</td>\n",
       "      <td>-0.022814</td>\n",
       "      <td>0.0</td>\n",
       "      <td>-2.158973</td>\n",
       "      <td>1.553422</td>\n",
       "      <td>-1.710007</td>\n",
       "      <td>0.500085</td>\n",
       "    </tr>\n",
       "    <tr>\n",
       "      <th>2</th>\n",
       "      <td>-2.297235</td>\n",
       "      <td>0.709204</td>\n",
       "      <td>-1.322991</td>\n",
       "      <td>0.598717</td>\n",
       "      <td>1.263213</td>\n",
       "      <td>-0.077239</td>\n",
       "      <td>-0.339203</td>\n",
       "      <td>-0.103952</td>\n",
       "      <td>-0.41898</td>\n",
       "      <td>-0.903827</td>\n",
       "      <td>...</td>\n",
       "      <td>-0.462147</td>\n",
       "      <td>-0.099649</td>\n",
       "      <td>-0.019757</td>\n",
       "      <td>-0.511841</td>\n",
       "      <td>-0.022814</td>\n",
       "      <td>0.0</td>\n",
       "      <td>-2.158973</td>\n",
       "      <td>1.553422</td>\n",
       "      <td>-1.710007</td>\n",
       "      <td>0.500085</td>\n",
       "    </tr>\n",
       "    <tr>\n",
       "      <th>3</th>\n",
       "      <td>-2.297235</td>\n",
       "      <td>-0.153860</td>\n",
       "      <td>0.205085</td>\n",
       "      <td>-3.625997</td>\n",
       "      <td>-0.791632</td>\n",
       "      <td>-0.077239</td>\n",
       "      <td>-0.339203</td>\n",
       "      <td>-0.103952</td>\n",
       "      <td>-0.41898</td>\n",
       "      <td>-0.903827</td>\n",
       "      <td>...</td>\n",
       "      <td>-0.462147</td>\n",
       "      <td>-0.099649</td>\n",
       "      <td>-0.019757</td>\n",
       "      <td>-0.511841</td>\n",
       "      <td>-0.022814</td>\n",
       "      <td>0.0</td>\n",
       "      <td>-2.158973</td>\n",
       "      <td>1.553422</td>\n",
       "      <td>-1.710007</td>\n",
       "      <td>0.500085</td>\n",
       "    </tr>\n",
       "    <tr>\n",
       "      <th>4</th>\n",
       "      <td>-2.297235</td>\n",
       "      <td>-0.729237</td>\n",
       "      <td>-0.176934</td>\n",
       "      <td>-0.689415</td>\n",
       "      <td>-0.791632</td>\n",
       "      <td>-0.077239</td>\n",
       "      <td>-0.339203</td>\n",
       "      <td>-0.103952</td>\n",
       "      <td>-0.41898</td>\n",
       "      <td>-0.903827</td>\n",
       "      <td>...</td>\n",
       "      <td>-0.462147</td>\n",
       "      <td>-0.099649</td>\n",
       "      <td>-0.019757</td>\n",
       "      <td>1.953731</td>\n",
       "      <td>-0.022814</td>\n",
       "      <td>0.0</td>\n",
       "      <td>-2.158973</td>\n",
       "      <td>1.553422</td>\n",
       "      <td>-1.710007</td>\n",
       "      <td>0.500085</td>\n",
       "    </tr>\n",
       "  </tbody>\n",
       "</table>\n",
       "<p>5 rows × 21 columns</p>\n",
       "</div>"
      ],
      "text/plain": [
       "   created_at  campaign_var_1  campaign_var_2  signup_date  \\\n",
       "0   -2.297235       -1.592301       -1.705009    -0.365130   \n",
       "1   -2.297235       -1.304613       -2.087028    -0.380144   \n",
       "2   -2.297235        0.709204       -1.322991     0.598717   \n",
       "3   -2.297235       -0.153860        0.205085    -3.625997   \n",
       "4   -2.297235       -0.729237       -0.176934    -0.689415   \n",
       "\n",
       "   user_activity_var_1  user_activity_var_2  user_activity_var_3  \\\n",
       "0            -0.791632            -0.077239            -0.339203   \n",
       "1             1.263213            -0.077239             2.948085   \n",
       "2             1.263213            -0.077239            -0.339203   \n",
       "3            -0.791632            -0.077239            -0.339203   \n",
       "4            -0.791632            -0.077239            -0.339203   \n",
       "\n",
       "   user_activity_var_4  user_activity_var_5  user_activity_var_6  ...  \\\n",
       "0            -0.103952             -0.41898            -0.903827  ...   \n",
       "1            -0.103952             -0.41898            -0.903827  ...   \n",
       "2            -0.103952             -0.41898            -0.903827  ...   \n",
       "3            -0.103952             -0.41898            -0.903827  ...   \n",
       "4            -0.103952             -0.41898            -0.903827  ...   \n",
       "\n",
       "   user_activity_var_8  user_activity_var_9  user_activity_var_10  \\\n",
       "0             2.163813            -0.099649             -0.019757   \n",
       "1            -0.462147            -0.099649             -0.019757   \n",
       "2            -0.462147            -0.099649             -0.019757   \n",
       "3            -0.462147            -0.099649             -0.019757   \n",
       "4            -0.462147            -0.099649             -0.019757   \n",
       "\n",
       "   user_activity_var_11  user_activity_var_12  Year     month      week  \\\n",
       "0             -0.511841             -0.022814   0.0 -2.158973  1.553422   \n",
       "1             -0.511841             -0.022814   0.0 -2.158973  1.553422   \n",
       "2             -0.511841             -0.022814   0.0 -2.158973  1.553422   \n",
       "3             -0.511841             -0.022814   0.0 -2.158973  1.553422   \n",
       "4              1.953731             -0.022814   0.0 -2.158973  1.553422   \n",
       "\n",
       "        day  day_of_week  \n",
       "0 -1.710007     0.500085  \n",
       "1 -1.710007     0.500085  \n",
       "2 -1.710007     0.500085  \n",
       "3 -1.710007     0.500085  \n",
       "4 -1.710007     0.500085  \n",
       "\n",
       "[5 rows x 21 columns]"
      ]
     },
     "execution_count": 28,
     "metadata": {},
     "output_type": "execute_result"
    }
   ],
   "source": [
    "# Scaling of numerical columns.\n",
    "scaler = StandardScaler()\n",
    "num_cols=X_train.select_dtypes(include=['float64', 'int64']).columns\n",
    "X_train[num_cols] = scaler.fit_transform(X_train[num_cols])\n",
    "X_train.head()"
   ]
  },
  {
   "cell_type": "code",
   "execution_count": 29,
   "metadata": {},
   "outputs": [
    {
     "name": "stdout",
     "output_type": "stream",
     "text": [
      "<class 'pandas.core.frame.DataFrame'>\n",
      "Int64Index: 38445 entries, 0 to 39160\n",
      "Data columns (total 21 columns):\n",
      " #   Column                Non-Null Count  Dtype  \n",
      "---  ------                --------------  -----  \n",
      " 0   created_at            38445 non-null  float64\n",
      " 1   campaign_var_1        38445 non-null  float64\n",
      " 2   campaign_var_2        38445 non-null  float64\n",
      " 3   signup_date           38445 non-null  float64\n",
      " 4   user_activity_var_1   38445 non-null  float64\n",
      " 5   user_activity_var_2   38445 non-null  float64\n",
      " 6   user_activity_var_3   38445 non-null  float64\n",
      " 7   user_activity_var_4   38445 non-null  float64\n",
      " 8   user_activity_var_5   38445 non-null  float64\n",
      " 9   user_activity_var_6   38445 non-null  float64\n",
      " 10  user_activity_var_7   38445 non-null  float64\n",
      " 11  user_activity_var_8   38445 non-null  float64\n",
      " 12  user_activity_var_9   38445 non-null  float64\n",
      " 13  user_activity_var_10  38445 non-null  float64\n",
      " 14  user_activity_var_11  38445 non-null  float64\n",
      " 15  user_activity_var_12  38445 non-null  float64\n",
      " 16  Year                  38445 non-null  float64\n",
      " 17  month                 38445 non-null  float64\n",
      " 18  week                  38445 non-null  float64\n",
      " 19  day                   38445 non-null  float64\n",
      " 20  day_of_week           38445 non-null  float64\n",
      "dtypes: float64(21)\n",
      "memory usage: 6.5 MB\n"
     ]
    }
   ],
   "source": [
    "X_train.info()"
   ]
  },
  {
   "cell_type": "code",
   "execution_count": 30,
   "metadata": {},
   "outputs": [
    {
     "data": {
      "text/html": [
       "<table class=\"simpletable\">\n",
       "<caption>Generalized Linear Model Regression Results</caption>\n",
       "<tr>\n",
       "  <th>Dep. Variable:</th>          <td>buy</td>       <th>  No. Observations:  </th>  <td> 38445</td> \n",
       "</tr>\n",
       "<tr>\n",
       "  <th>Model:</th>                  <td>GLM</td>       <th>  Df Residuals:      </th>  <td> 38424</td> \n",
       "</tr>\n",
       "<tr>\n",
       "  <th>Model Family:</th>        <td>Binomial</td>     <th>  Df Model:          </th>  <td>    20</td> \n",
       "</tr>\n",
       "<tr>\n",
       "  <th>Link Function:</th>         <td>logit</td>      <th>  Scale:             </th> <td>  1.0000</td>\n",
       "</tr>\n",
       "<tr>\n",
       "  <th>Method:</th>                <td>IRLS</td>       <th>  Log-Likelihood:    </th> <td>     nan</td>\n",
       "</tr>\n",
       "<tr>\n",
       "  <th>Date:</th>            <td>Sun, 05 Jun 2022</td> <th>  Deviance:          </th> <td>     nan</td>\n",
       "</tr>\n",
       "<tr>\n",
       "  <th>Time:</th>                <td>17:42:29</td>     <th>  Pearson chi2:      </th> <td>3.71e+04</td>\n",
       "</tr>\n",
       "<tr>\n",
       "  <th>No. Iterations:</th>         <td>100</td>       <th>                     </th>     <td> </td>   \n",
       "</tr>\n",
       "<tr>\n",
       "  <th>Covariance Type:</th>     <td>nonrobust</td>    <th>                     </th>     <td> </td>   \n",
       "</tr>\n",
       "</table>\n",
       "<table class=\"simpletable\">\n",
       "<tr>\n",
       "            <td></td>              <th>coef</th>     <th>std err</th>      <th>z</th>      <th>P>|z|</th>  <th>[0.025</th>    <th>0.975]</th>  \n",
       "</tr>\n",
       "<tr>\n",
       "  <th>const</th>                <td>   -4.0557</td> <td> 4.39e+04</td> <td>-9.25e-05</td> <td> 1.000</td> <td> -8.6e+04</td> <td> 8.59e+04</td>\n",
       "</tr>\n",
       "<tr>\n",
       "  <th>created_at</th>           <td>   12.5166</td> <td> 1.74e+06</td> <td> 7.17e-06</td> <td> 1.000</td> <td>-3.42e+06</td> <td> 3.42e+06</td>\n",
       "</tr>\n",
       "<tr>\n",
       "  <th>campaign_var_1</th>       <td>   -0.3183</td> <td>    0.046</td> <td>   -6.933</td> <td> 0.000</td> <td>   -0.408</td> <td>   -0.228</td>\n",
       "</tr>\n",
       "<tr>\n",
       "  <th>campaign_var_2</th>       <td>   -0.1258</td> <td>    0.045</td> <td>   -2.820</td> <td> 0.005</td> <td>   -0.213</td> <td>   -0.038</td>\n",
       "</tr>\n",
       "<tr>\n",
       "  <th>signup_date</th>          <td>   -0.4941</td> <td>    0.027</td> <td>  -18.343</td> <td> 0.000</td> <td>   -0.547</td> <td>   -0.441</td>\n",
       "</tr>\n",
       "<tr>\n",
       "  <th>user_activity_var_1</th>  <td>    0.2454</td> <td>    0.035</td> <td>    6.944</td> <td> 0.000</td> <td>    0.176</td> <td>    0.315</td>\n",
       "</tr>\n",
       "<tr>\n",
       "  <th>user_activity_var_2</th>  <td>    3.2329</td> <td> 3.46e+05</td> <td> 9.35e-06</td> <td> 1.000</td> <td>-6.77e+05</td> <td> 6.77e+05</td>\n",
       "</tr>\n",
       "<tr>\n",
       "  <th>user_activity_var_3</th>  <td>    0.0051</td> <td>    0.035</td> <td>    0.146</td> <td> 0.884</td> <td>   -0.063</td> <td>    0.073</td>\n",
       "</tr>\n",
       "<tr>\n",
       "  <th>user_activity_var_4</th>  <td>    0.5197</td> <td>    0.018</td> <td>   28.734</td> <td> 0.000</td> <td>    0.484</td> <td>    0.555</td>\n",
       "</tr>\n",
       "<tr>\n",
       "  <th>user_activity_var_5</th>  <td>    0.5093</td> <td>    0.026</td> <td>   19.425</td> <td> 0.000</td> <td>    0.458</td> <td>    0.561</td>\n",
       "</tr>\n",
       "<tr>\n",
       "  <th>user_activity_var_6</th>  <td>    0.1798</td> <td>    0.036</td> <td>    4.949</td> <td> 0.000</td> <td>    0.109</td> <td>    0.251</td>\n",
       "</tr>\n",
       "<tr>\n",
       "  <th>user_activity_var_7</th>  <td>   -0.0676</td> <td>    0.038</td> <td>   -1.800</td> <td> 0.072</td> <td>   -0.141</td> <td>    0.006</td>\n",
       "</tr>\n",
       "<tr>\n",
       "  <th>user_activity_var_8</th>  <td>   -1.0988</td> <td>    0.119</td> <td>   -9.261</td> <td> 0.000</td> <td>   -1.331</td> <td>   -0.866</td>\n",
       "</tr>\n",
       "<tr>\n",
       "  <th>user_activity_var_9</th>  <td>    4.2108</td> <td> 3.44e+05</td> <td> 1.22e-05</td> <td> 1.000</td> <td>-6.74e+05</td> <td> 6.74e+05</td>\n",
       "</tr>\n",
       "<tr>\n",
       "  <th>user_activity_var_10</th> <td>    0.7979</td> <td> 3.43e+05</td> <td> 2.33e-06</td> <td> 1.000</td> <td>-6.72e+05</td> <td> 6.72e+05</td>\n",
       "</tr>\n",
       "<tr>\n",
       "  <th>user_activity_var_11</th> <td>    0.7222</td> <td>    0.029</td> <td>   24.723</td> <td> 0.000</td> <td>    0.665</td> <td>    0.779</td>\n",
       "</tr>\n",
       "<tr>\n",
       "  <th>user_activity_var_12</th> <td>    0.0928</td> <td>    0.017</td> <td>    5.436</td> <td> 0.000</td> <td>    0.059</td> <td>    0.126</td>\n",
       "</tr>\n",
       "<tr>\n",
       "  <th>Year</th>                 <td> 1.637e-13</td> <td> 1.22e-08</td> <td> 1.35e-05</td> <td> 1.000</td> <td>-2.38e-08</td> <td> 2.38e-08</td>\n",
       "</tr>\n",
       "<tr>\n",
       "  <th>month</th>                <td>   -2.5733</td> <td>    5.726</td> <td>   -0.449</td> <td> 0.653</td> <td>  -13.796</td> <td>    8.650</td>\n",
       "</tr>\n",
       "<tr>\n",
       "  <th>week</th>                 <td>   -9.8604</td> <td> 1.74e+06</td> <td>-5.67e-06</td> <td> 1.000</td> <td>-3.41e+06</td> <td> 3.41e+06</td>\n",
       "</tr>\n",
       "<tr>\n",
       "  <th>day</th>                  <td>   -0.2562</td> <td>    0.526</td> <td>   -0.487</td> <td> 0.626</td> <td>   -1.288</td> <td>    0.775</td>\n",
       "</tr>\n",
       "<tr>\n",
       "  <th>day_of_week</th>          <td>   -0.1481</td> <td> 3.64e+04</td> <td>-4.07e-06</td> <td> 1.000</td> <td>-7.14e+04</td> <td> 7.14e+04</td>\n",
       "</tr>\n",
       "</table>"
      ],
      "text/plain": [
       "<class 'statsmodels.iolib.summary.Summary'>\n",
       "\"\"\"\n",
       "                 Generalized Linear Model Regression Results                  \n",
       "==============================================================================\n",
       "Dep. Variable:                    buy   No. Observations:                38445\n",
       "Model:                            GLM   Df Residuals:                    38424\n",
       "Model Family:                Binomial   Df Model:                           20\n",
       "Link Function:                  logit   Scale:                          1.0000\n",
       "Method:                          IRLS   Log-Likelihood:                    nan\n",
       "Date:                Sun, 05 Jun 2022   Deviance:                          nan\n",
       "Time:                        17:42:29   Pearson chi2:                 3.71e+04\n",
       "No. Iterations:                   100                                         \n",
       "Covariance Type:            nonrobust                                         \n",
       "========================================================================================\n",
       "                           coef    std err          z      P>|z|      [0.025      0.975]\n",
       "----------------------------------------------------------------------------------------\n",
       "const                   -4.0557   4.39e+04  -9.25e-05      1.000    -8.6e+04    8.59e+04\n",
       "created_at              12.5166   1.74e+06   7.17e-06      1.000   -3.42e+06    3.42e+06\n",
       "campaign_var_1          -0.3183      0.046     -6.933      0.000      -0.408      -0.228\n",
       "campaign_var_2          -0.1258      0.045     -2.820      0.005      -0.213      -0.038\n",
       "signup_date             -0.4941      0.027    -18.343      0.000      -0.547      -0.441\n",
       "user_activity_var_1      0.2454      0.035      6.944      0.000       0.176       0.315\n",
       "user_activity_var_2      3.2329   3.46e+05   9.35e-06      1.000   -6.77e+05    6.77e+05\n",
       "user_activity_var_3      0.0051      0.035      0.146      0.884      -0.063       0.073\n",
       "user_activity_var_4      0.5197      0.018     28.734      0.000       0.484       0.555\n",
       "user_activity_var_5      0.5093      0.026     19.425      0.000       0.458       0.561\n",
       "user_activity_var_6      0.1798      0.036      4.949      0.000       0.109       0.251\n",
       "user_activity_var_7     -0.0676      0.038     -1.800      0.072      -0.141       0.006\n",
       "user_activity_var_8     -1.0988      0.119     -9.261      0.000      -1.331      -0.866\n",
       "user_activity_var_9      4.2108   3.44e+05   1.22e-05      1.000   -6.74e+05    6.74e+05\n",
       "user_activity_var_10     0.7979   3.43e+05   2.33e-06      1.000   -6.72e+05    6.72e+05\n",
       "user_activity_var_11     0.7222      0.029     24.723      0.000       0.665       0.779\n",
       "user_activity_var_12     0.0928      0.017      5.436      0.000       0.059       0.126\n",
       "Year                  1.637e-13   1.22e-08   1.35e-05      1.000   -2.38e-08    2.38e-08\n",
       "month                   -2.5733      5.726     -0.449      0.653     -13.796       8.650\n",
       "week                    -9.8604   1.74e+06  -5.67e-06      1.000   -3.41e+06    3.41e+06\n",
       "day                     -0.2562      0.526     -0.487      0.626      -1.288       0.775\n",
       "day_of_week             -0.1481   3.64e+04  -4.07e-06      1.000   -7.14e+04    7.14e+04\n",
       "========================================================================================\n",
       "\"\"\""
      ]
     },
     "execution_count": 30,
     "metadata": {},
     "output_type": "execute_result"
    }
   ],
   "source": [
    "# Building our first Logistic regression model.\n",
    "model1 = sm.GLM(y_train,(sm.add_constant(X_train)), family = sm.families.Binomial())\n",
    "model1.fit().summary()"
   ]
  },
  {
   "cell_type": "code",
   "execution_count": 31,
   "metadata": {},
   "outputs": [],
   "source": [
    "LogR = LogisticRegression()\n",
    "# Running RFE with 10 variables as output.\n",
    "rfe = RFE(LogR, n_features_to_select=10)\n",
    "rfe = rfe.fit(X_train, y_train)"
   ]
  },
  {
   "cell_type": "code",
   "execution_count": 32,
   "metadata": {},
   "outputs": [
    {
     "data": {
      "text/plain": [
       "[('created_at', True, 1),\n",
       " ('campaign_var_1', True, 1),\n",
       " ('campaign_var_2', False, 6),\n",
       " ('signup_date', True, 1),\n",
       " ('user_activity_var_1', False, 3),\n",
       " ('user_activity_var_2', True, 1),\n",
       " ('user_activity_var_3', False, 11),\n",
       " ('user_activity_var_4', True, 1),\n",
       " ('user_activity_var_5', True, 1),\n",
       " ('user_activity_var_6', False, 5),\n",
       " ('user_activity_var_7', False, 8),\n",
       " ('user_activity_var_8', True, 1),\n",
       " ('user_activity_var_9', True, 1),\n",
       " ('user_activity_var_10', False, 4),\n",
       " ('user_activity_var_11', True, 1),\n",
       " ('user_activity_var_12', False, 7),\n",
       " ('Year', False, 12),\n",
       " ('month', False, 2),\n",
       " ('week', True, 1),\n",
       " ('day', False, 10),\n",
       " ('day_of_week', False, 9)]"
      ]
     },
     "execution_count": 32,
     "metadata": {},
     "output_type": "execute_result"
    }
   ],
   "source": [
    "# Creating a list of columns with rfe support and ranking.\n",
    "list(zip(X_train.columns, rfe.support_, rfe.ranking_))"
   ]
  },
  {
   "cell_type": "code",
   "execution_count": 33,
   "metadata": {},
   "outputs": [
    {
     "data": {
      "text/plain": [
       "Index(['campaign_var_2', 'user_activity_var_1', 'user_activity_var_3',\n",
       "       'user_activity_var_6', 'user_activity_var_7', 'user_activity_var_10',\n",
       "       'user_activity_var_12', 'Year', 'month', 'day', 'day_of_week'],\n",
       "      dtype='object')"
      ]
     },
     "execution_count": 33,
     "metadata": {},
     "output_type": "execute_result"
    }
   ],
   "source": [
    "# Columns with rfe support only.\n",
    "X_train.columns[~rfe.support_]"
   ]
  },
  {
   "cell_type": "code",
   "execution_count": 34,
   "metadata": {},
   "outputs": [
    {
     "data": {
      "text/html": [
       "<div>\n",
       "<style scoped>\n",
       "    .dataframe tbody tr th:only-of-type {\n",
       "        vertical-align: middle;\n",
       "    }\n",
       "\n",
       "    .dataframe tbody tr th {\n",
       "        vertical-align: top;\n",
       "    }\n",
       "\n",
       "    .dataframe thead th {\n",
       "        text-align: right;\n",
       "    }\n",
       "</style>\n",
       "<table border=\"1\" class=\"dataframe\">\n",
       "  <thead>\n",
       "    <tr style=\"text-align: right;\">\n",
       "      <th></th>\n",
       "      <th>created_at</th>\n",
       "      <th>campaign_var_1</th>\n",
       "      <th>signup_date</th>\n",
       "      <th>user_activity_var_2</th>\n",
       "      <th>user_activity_var_4</th>\n",
       "      <th>user_activity_var_5</th>\n",
       "      <th>user_activity_var_8</th>\n",
       "      <th>user_activity_var_9</th>\n",
       "      <th>user_activity_var_11</th>\n",
       "      <th>week</th>\n",
       "    </tr>\n",
       "  </thead>\n",
       "  <tbody>\n",
       "    <tr>\n",
       "      <th>0</th>\n",
       "      <td>-2.297235</td>\n",
       "      <td>-1.592301</td>\n",
       "      <td>-0.365130</td>\n",
       "      <td>-0.077239</td>\n",
       "      <td>-0.103952</td>\n",
       "      <td>-0.41898</td>\n",
       "      <td>2.163813</td>\n",
       "      <td>-0.099649</td>\n",
       "      <td>-0.511841</td>\n",
       "      <td>1.553422</td>\n",
       "    </tr>\n",
       "    <tr>\n",
       "      <th>1</th>\n",
       "      <td>-2.297235</td>\n",
       "      <td>-1.304613</td>\n",
       "      <td>-0.380144</td>\n",
       "      <td>-0.077239</td>\n",
       "      <td>-0.103952</td>\n",
       "      <td>-0.41898</td>\n",
       "      <td>-0.462147</td>\n",
       "      <td>-0.099649</td>\n",
       "      <td>-0.511841</td>\n",
       "      <td>1.553422</td>\n",
       "    </tr>\n",
       "    <tr>\n",
       "      <th>2</th>\n",
       "      <td>-2.297235</td>\n",
       "      <td>0.709204</td>\n",
       "      <td>0.598717</td>\n",
       "      <td>-0.077239</td>\n",
       "      <td>-0.103952</td>\n",
       "      <td>-0.41898</td>\n",
       "      <td>-0.462147</td>\n",
       "      <td>-0.099649</td>\n",
       "      <td>-0.511841</td>\n",
       "      <td>1.553422</td>\n",
       "    </tr>\n",
       "    <tr>\n",
       "      <th>3</th>\n",
       "      <td>-2.297235</td>\n",
       "      <td>-0.153860</td>\n",
       "      <td>-3.625997</td>\n",
       "      <td>-0.077239</td>\n",
       "      <td>-0.103952</td>\n",
       "      <td>-0.41898</td>\n",
       "      <td>-0.462147</td>\n",
       "      <td>-0.099649</td>\n",
       "      <td>-0.511841</td>\n",
       "      <td>1.553422</td>\n",
       "    </tr>\n",
       "    <tr>\n",
       "      <th>4</th>\n",
       "      <td>-2.297235</td>\n",
       "      <td>-0.729237</td>\n",
       "      <td>-0.689415</td>\n",
       "      <td>-0.077239</td>\n",
       "      <td>-0.103952</td>\n",
       "      <td>-0.41898</td>\n",
       "      <td>-0.462147</td>\n",
       "      <td>-0.099649</td>\n",
       "      <td>1.953731</td>\n",
       "      <td>1.553422</td>\n",
       "    </tr>\n",
       "  </tbody>\n",
       "</table>\n",
       "</div>"
      ],
      "text/plain": [
       "   created_at  campaign_var_1  signup_date  user_activity_var_2  \\\n",
       "0   -2.297235       -1.592301    -0.365130            -0.077239   \n",
       "1   -2.297235       -1.304613    -0.380144            -0.077239   \n",
       "2   -2.297235        0.709204     0.598717            -0.077239   \n",
       "3   -2.297235       -0.153860    -3.625997            -0.077239   \n",
       "4   -2.297235       -0.729237    -0.689415            -0.077239   \n",
       "\n",
       "   user_activity_var_4  user_activity_var_5  user_activity_var_8  \\\n",
       "0            -0.103952             -0.41898             2.163813   \n",
       "1            -0.103952             -0.41898            -0.462147   \n",
       "2            -0.103952             -0.41898            -0.462147   \n",
       "3            -0.103952             -0.41898            -0.462147   \n",
       "4            -0.103952             -0.41898            -0.462147   \n",
       "\n",
       "   user_activity_var_9  user_activity_var_11      week  \n",
       "0            -0.099649             -0.511841  1.553422  \n",
       "1            -0.099649             -0.511841  1.553422  \n",
       "2            -0.099649             -0.511841  1.553422  \n",
       "3            -0.099649             -0.511841  1.553422  \n",
       "4            -0.099649              1.953731  1.553422  "
      ]
     },
     "execution_count": 34,
     "metadata": {},
     "output_type": "execute_result"
    }
   ],
   "source": [
    "# Creating X_train dataframe 'X_train_rfe' with RFE selected features.\n",
    "X_train_rfe = X_train[X_train.columns[rfe.support_]]\n",
    "X_train_rfe.head()"
   ]
  },
  {
   "cell_type": "code",
   "execution_count": 35,
   "metadata": {},
   "outputs": [
    {
     "data": {
      "text/html": [
       "<table class=\"simpletable\">\n",
       "<caption>Generalized Linear Model Regression Results</caption>\n",
       "<tr>\n",
       "  <th>Dep. Variable:</th>          <td>buy</td>       <th>  No. Observations:  </th>  <td> 38445</td> \n",
       "</tr>\n",
       "<tr>\n",
       "  <th>Model:</th>                  <td>GLM</td>       <th>  Df Residuals:      </th>  <td> 38434</td> \n",
       "</tr>\n",
       "<tr>\n",
       "  <th>Model Family:</th>        <td>Binomial</td>     <th>  Df Model:          </th>  <td>    10</td> \n",
       "</tr>\n",
       "<tr>\n",
       "  <th>Link Function:</th>         <td>logit</td>      <th>  Scale:             </th> <td>  1.0000</td>\n",
       "</tr>\n",
       "<tr>\n",
       "  <th>Method:</th>                <td>IRLS</td>       <th>  Log-Likelihood:    </th> <td>     nan</td>\n",
       "</tr>\n",
       "<tr>\n",
       "  <th>Date:</th>            <td>Sun, 05 Jun 2022</td> <th>  Deviance:          </th> <td>     nan</td>\n",
       "</tr>\n",
       "<tr>\n",
       "  <th>Time:</th>                <td>17:42:32</td>     <th>  Pearson chi2:      </th> <td>3.66e+04</td>\n",
       "</tr>\n",
       "<tr>\n",
       "  <th>No. Iterations:</th>         <td>100</td>       <th>                     </th>     <td> </td>   \n",
       "</tr>\n",
       "<tr>\n",
       "  <th>Covariance Type:</th>     <td>nonrobust</td>    <th>                     </th>     <td> </td>   \n",
       "</tr>\n",
       "</table>\n",
       "<table class=\"simpletable\">\n",
       "<tr>\n",
       "            <td></td>              <th>coef</th>     <th>std err</th>      <th>z</th>      <th>P>|z|</th>  <th>[0.025</th>    <th>0.975]</th>  \n",
       "</tr>\n",
       "<tr>\n",
       "  <th>const</th>                <td>   -3.9455</td> <td> 4.01e+04</td> <td>-9.85e-05</td> <td> 1.000</td> <td>-7.85e+04</td> <td> 7.85e+04</td>\n",
       "</tr>\n",
       "<tr>\n",
       "  <th>created_at</th>           <td>    2.3760</td> <td>    1.628</td> <td>    1.459</td> <td> 0.145</td> <td>   -0.816</td> <td>    5.568</td>\n",
       "</tr>\n",
       "<tr>\n",
       "  <th>campaign_var_1</th>       <td>   -0.3771</td> <td>    0.038</td> <td>   -9.817</td> <td> 0.000</td> <td>   -0.452</td> <td>   -0.302</td>\n",
       "</tr>\n",
       "<tr>\n",
       "  <th>signup_date</th>          <td>   -0.4985</td> <td>    0.027</td> <td>  -18.752</td> <td> 0.000</td> <td>   -0.551</td> <td>   -0.446</td>\n",
       "</tr>\n",
       "<tr>\n",
       "  <th>user_activity_var_2</th>  <td>    3.2322</td> <td> 3.45e+05</td> <td> 9.36e-06</td> <td> 1.000</td> <td>-6.77e+05</td> <td> 6.77e+05</td>\n",
       "</tr>\n",
       "<tr>\n",
       "  <th>user_activity_var_4</th>  <td>    0.5123</td> <td>    0.018</td> <td>   28.993</td> <td> 0.000</td> <td>    0.478</td> <td>    0.547</td>\n",
       "</tr>\n",
       "<tr>\n",
       "  <th>user_activity_var_5</th>  <td>    0.4952</td> <td>    0.026</td> <td>   19.270</td> <td> 0.000</td> <td>    0.445</td> <td>    0.546</td>\n",
       "</tr>\n",
       "<tr>\n",
       "  <th>user_activity_var_8</th>  <td>   -1.1080</td> <td>    0.117</td> <td>   -9.447</td> <td> 0.000</td> <td>   -1.338</td> <td>   -0.878</td>\n",
       "</tr>\n",
       "<tr>\n",
       "  <th>user_activity_var_9</th>  <td>    4.1911</td> <td> 3.44e+05</td> <td> 1.22e-05</td> <td> 1.000</td> <td>-6.74e+05</td> <td> 6.74e+05</td>\n",
       "</tr>\n",
       "<tr>\n",
       "  <th>user_activity_var_11</th> <td>    0.6903</td> <td>    0.028</td> <td>   24.378</td> <td> 0.000</td> <td>    0.635</td> <td>    0.746</td>\n",
       "</tr>\n",
       "<tr>\n",
       "  <th>week</th>                 <td>   -2.3370</td> <td>    1.622</td> <td>   -1.441</td> <td> 0.150</td> <td>   -5.516</td> <td>    0.842</td>\n",
       "</tr>\n",
       "</table>"
      ],
      "text/plain": [
       "<class 'statsmodels.iolib.summary.Summary'>\n",
       "\"\"\"\n",
       "                 Generalized Linear Model Regression Results                  \n",
       "==============================================================================\n",
       "Dep. Variable:                    buy   No. Observations:                38445\n",
       "Model:                            GLM   Df Residuals:                    38434\n",
       "Model Family:                Binomial   Df Model:                           10\n",
       "Link Function:                  logit   Scale:                          1.0000\n",
       "Method:                          IRLS   Log-Likelihood:                    nan\n",
       "Date:                Sun, 05 Jun 2022   Deviance:                          nan\n",
       "Time:                        17:42:32   Pearson chi2:                 3.66e+04\n",
       "No. Iterations:                   100                                         \n",
       "Covariance Type:            nonrobust                                         \n",
       "========================================================================================\n",
       "                           coef    std err          z      P>|z|      [0.025      0.975]\n",
       "----------------------------------------------------------------------------------------\n",
       "const                   -3.9455   4.01e+04  -9.85e-05      1.000   -7.85e+04    7.85e+04\n",
       "created_at               2.3760      1.628      1.459      0.145      -0.816       5.568\n",
       "campaign_var_1          -0.3771      0.038     -9.817      0.000      -0.452      -0.302\n",
       "signup_date             -0.4985      0.027    -18.752      0.000      -0.551      -0.446\n",
       "user_activity_var_2      3.2322   3.45e+05   9.36e-06      1.000   -6.77e+05    6.77e+05\n",
       "user_activity_var_4      0.5123      0.018     28.993      0.000       0.478       0.547\n",
       "user_activity_var_5      0.4952      0.026     19.270      0.000       0.445       0.546\n",
       "user_activity_var_8     -1.1080      0.117     -9.447      0.000      -1.338      -0.878\n",
       "user_activity_var_9      4.1911   3.44e+05   1.22e-05      1.000   -6.74e+05    6.74e+05\n",
       "user_activity_var_11     0.6903      0.028     24.378      0.000       0.635       0.746\n",
       "week                    -2.3370      1.622     -1.441      0.150      -5.516       0.842\n",
       "========================================================================================\n",
       "\"\"\""
      ]
     },
     "execution_count": 35,
     "metadata": {},
     "output_type": "execute_result"
    }
   ],
   "source": [
    "# Building our second Logistic regression model.\n",
    "X_train_sm = sm.add_constant(X_train_rfe)\n",
    "model2 = sm.GLM(y_train,X_train_sm, family = sm.families.Binomial())\n",
    "res = model2.fit()\n",
    "res.summary()"
   ]
  },
  {
   "cell_type": "code",
   "execution_count": 36,
   "metadata": {},
   "outputs": [],
   "source": [
    "# Dropping user_activity_var_9 due to high p value.\n",
    "X_train_rfe.drop('user_activity_var_9', axis=1, inplace=True)"
   ]
  },
  {
   "cell_type": "code",
   "execution_count": 37,
   "metadata": {},
   "outputs": [
    {
     "data": {
      "text/html": [
       "<table class=\"simpletable\">\n",
       "<caption>Generalized Linear Model Regression Results</caption>\n",
       "<tr>\n",
       "  <th>Dep. Variable:</th>          <td>buy</td>       <th>  No. Observations:  </th>  <td> 38445</td> \n",
       "</tr>\n",
       "<tr>\n",
       "  <th>Model:</th>                  <td>GLM</td>       <th>  Df Residuals:      </th>  <td> 38435</td> \n",
       "</tr>\n",
       "<tr>\n",
       "  <th>Model Family:</th>        <td>Binomial</td>     <th>  Df Model:          </th>  <td>     9</td> \n",
       "</tr>\n",
       "<tr>\n",
       "  <th>Link Function:</th>         <td>logit</td>      <th>  Scale:             </th> <td>  1.0000</td>\n",
       "</tr>\n",
       "<tr>\n",
       "  <th>Method:</th>                <td>IRLS</td>       <th>  Log-Likelihood:    </th> <td> -4247.2</td>\n",
       "</tr>\n",
       "<tr>\n",
       "  <th>Date:</th>            <td>Sun, 05 Jun 2022</td> <th>  Deviance:          </th> <td>  8494.4</td>\n",
       "</tr>\n",
       "<tr>\n",
       "  <th>Time:</th>                <td>17:42:32</td>     <th>  Pearson chi2:      </th> <td>3.70e+04</td>\n",
       "</tr>\n",
       "<tr>\n",
       "  <th>No. Iterations:</th>         <td>25</td>        <th>                     </th>     <td> </td>   \n",
       "</tr>\n",
       "<tr>\n",
       "  <th>Covariance Type:</th>     <td>nonrobust</td>    <th>                     </th>     <td> </td>   \n",
       "</tr>\n",
       "</table>\n",
       "<table class=\"simpletable\">\n",
       "<tr>\n",
       "            <td></td>              <th>coef</th>     <th>std err</th>      <th>z</th>      <th>P>|z|</th>  <th>[0.025</th>    <th>0.975]</th>  \n",
       "</tr>\n",
       "<tr>\n",
       "  <th>const</th>                <td>   -4.1958</td> <td>  108.931</td> <td>   -0.039</td> <td> 0.969</td> <td> -217.696</td> <td>  209.305</td>\n",
       "</tr>\n",
       "<tr>\n",
       "  <th>created_at</th>           <td>    1.6445</td> <td>    1.207</td> <td>    1.363</td> <td> 0.173</td> <td>   -0.721</td> <td>    4.010</td>\n",
       "</tr>\n",
       "<tr>\n",
       "  <th>campaign_var_1</th>       <td>   -0.4372</td> <td>    0.035</td> <td>  -12.446</td> <td> 0.000</td> <td>   -0.506</td> <td>   -0.368</td>\n",
       "</tr>\n",
       "<tr>\n",
       "  <th>signup_date</th>          <td>   -0.5187</td> <td>    0.024</td> <td>  -21.750</td> <td> 0.000</td> <td>   -0.565</td> <td>   -0.472</td>\n",
       "</tr>\n",
       "<tr>\n",
       "  <th>user_activity_var_2</th>  <td>    2.2443</td> <td> 1410.300</td> <td>    0.002</td> <td> 0.999</td> <td>-2761.893</td> <td> 2766.381</td>\n",
       "</tr>\n",
       "<tr>\n",
       "  <th>user_activity_var_4</th>  <td>    0.5208</td> <td>    0.017</td> <td>   31.002</td> <td> 0.000</td> <td>    0.488</td> <td>    0.554</td>\n",
       "</tr>\n",
       "<tr>\n",
       "  <th>user_activity_var_5</th>  <td>    0.4874</td> <td>    0.023</td> <td>   20.942</td> <td> 0.000</td> <td>    0.442</td> <td>    0.533</td>\n",
       "</tr>\n",
       "<tr>\n",
       "  <th>user_activity_var_8</th>  <td>   -1.0614</td> <td>    0.098</td> <td>  -10.815</td> <td> 0.000</td> <td>   -1.254</td> <td>   -0.869</td>\n",
       "</tr>\n",
       "<tr>\n",
       "  <th>user_activity_var_11</th> <td>    0.6913</td> <td>    0.025</td> <td>   27.134</td> <td> 0.000</td> <td>    0.641</td> <td>    0.741</td>\n",
       "</tr>\n",
       "<tr>\n",
       "  <th>week</th>                 <td>   -1.6199</td> <td>    1.202</td> <td>   -1.347</td> <td> 0.178</td> <td>   -3.976</td> <td>    0.736</td>\n",
       "</tr>\n",
       "</table>"
      ],
      "text/plain": [
       "<class 'statsmodels.iolib.summary.Summary'>\n",
       "\"\"\"\n",
       "                 Generalized Linear Model Regression Results                  \n",
       "==============================================================================\n",
       "Dep. Variable:                    buy   No. Observations:                38445\n",
       "Model:                            GLM   Df Residuals:                    38435\n",
       "Model Family:                Binomial   Df Model:                            9\n",
       "Link Function:                  logit   Scale:                          1.0000\n",
       "Method:                          IRLS   Log-Likelihood:                -4247.2\n",
       "Date:                Sun, 05 Jun 2022   Deviance:                       8494.4\n",
       "Time:                        17:42:32   Pearson chi2:                 3.70e+04\n",
       "No. Iterations:                    25                                         \n",
       "Covariance Type:            nonrobust                                         \n",
       "========================================================================================\n",
       "                           coef    std err          z      P>|z|      [0.025      0.975]\n",
       "----------------------------------------------------------------------------------------\n",
       "const                   -4.1958    108.931     -0.039      0.969    -217.696     209.305\n",
       "created_at               1.6445      1.207      1.363      0.173      -0.721       4.010\n",
       "campaign_var_1          -0.4372      0.035    -12.446      0.000      -0.506      -0.368\n",
       "signup_date             -0.5187      0.024    -21.750      0.000      -0.565      -0.472\n",
       "user_activity_var_2      2.2443   1410.300      0.002      0.999   -2761.893    2766.381\n",
       "user_activity_var_4      0.5208      0.017     31.002      0.000       0.488       0.554\n",
       "user_activity_var_5      0.4874      0.023     20.942      0.000       0.442       0.533\n",
       "user_activity_var_8     -1.0614      0.098    -10.815      0.000      -1.254      -0.869\n",
       "user_activity_var_11     0.6913      0.025     27.134      0.000       0.641       0.741\n",
       "week                    -1.6199      1.202     -1.347      0.178      -3.976       0.736\n",
       "========================================================================================\n",
       "\"\"\""
      ]
     },
     "execution_count": 37,
     "metadata": {},
     "output_type": "execute_result"
    }
   ],
   "source": [
    "# Building our third Logistic regression model.\n",
    "X_train_sm = sm.add_constant(X_train_rfe)\n",
    "model3 = sm.GLM(y_train,X_train_sm, family = sm.families.Binomial())\n",
    "result = model3.fit()\n",
    "result.summary()"
   ]
  },
  {
   "cell_type": "code",
   "execution_count": 38,
   "metadata": {},
   "outputs": [
    {
     "data": {
      "text/html": [
       "<div>\n",
       "<style scoped>\n",
       "    .dataframe tbody tr th:only-of-type {\n",
       "        vertical-align: middle;\n",
       "    }\n",
       "\n",
       "    .dataframe tbody tr th {\n",
       "        vertical-align: top;\n",
       "    }\n",
       "\n",
       "    .dataframe thead th {\n",
       "        text-align: right;\n",
       "    }\n",
       "</style>\n",
       "<table border=\"1\" class=\"dataframe\">\n",
       "  <thead>\n",
       "    <tr style=\"text-align: right;\">\n",
       "      <th></th>\n",
       "      <th>variables</th>\n",
       "      <th>VIF</th>\n",
       "    </tr>\n",
       "  </thead>\n",
       "  <tbody>\n",
       "    <tr>\n",
       "      <th>0</th>\n",
       "      <td>created_at</td>\n",
       "      <td>26.35</td>\n",
       "    </tr>\n",
       "    <tr>\n",
       "      <th>8</th>\n",
       "      <td>week</td>\n",
       "      <td>26.25</td>\n",
       "    </tr>\n",
       "    <tr>\n",
       "      <th>2</th>\n",
       "      <td>signup_date</td>\n",
       "      <td>1.04</td>\n",
       "    </tr>\n",
       "    <tr>\n",
       "      <th>3</th>\n",
       "      <td>user_activity_var_2</td>\n",
       "      <td>1.03</td>\n",
       "    </tr>\n",
       "    <tr>\n",
       "      <th>4</th>\n",
       "      <td>user_activity_var_4</td>\n",
       "      <td>1.03</td>\n",
       "    </tr>\n",
       "    <tr>\n",
       "      <th>1</th>\n",
       "      <td>campaign_var_1</td>\n",
       "      <td>1.02</td>\n",
       "    </tr>\n",
       "    <tr>\n",
       "      <th>5</th>\n",
       "      <td>user_activity_var_5</td>\n",
       "      <td>1.01</td>\n",
       "    </tr>\n",
       "    <tr>\n",
       "      <th>6</th>\n",
       "      <td>user_activity_var_8</td>\n",
       "      <td>1.01</td>\n",
       "    </tr>\n",
       "    <tr>\n",
       "      <th>7</th>\n",
       "      <td>user_activity_var_11</td>\n",
       "      <td>1.01</td>\n",
       "    </tr>\n",
       "  </tbody>\n",
       "</table>\n",
       "</div>"
      ],
      "text/plain": [
       "              variables    VIF\n",
       "0            created_at  26.35\n",
       "8                  week  26.25\n",
       "2           signup_date   1.04\n",
       "3   user_activity_var_2   1.03\n",
       "4   user_activity_var_4   1.03\n",
       "1        campaign_var_1   1.02\n",
       "5   user_activity_var_5   1.01\n",
       "6   user_activity_var_8   1.01\n",
       "7  user_activity_var_11   1.01"
      ]
     },
     "execution_count": 38,
     "metadata": {},
     "output_type": "execute_result"
    }
   ],
   "source": [
    "# Creating a dataframe of the variables with their respective VIF value.\n",
    "vif = pd.DataFrame()\n",
    "vif[\"variables\"] = X_train_rfe.columns\n",
    "vif[\"VIF\"] = [variance_inflation_factor(X_train_rfe.values, i) for i in range (X_train_rfe.shape[1])]\n",
    "vif[\"VIF\"] = round(vif[\"VIF\"], 2)\n",
    "vif = vif.sort_values(by = \"VIF\", ascending = False)\n",
    "vif"
   ]
  },
  {
   "cell_type": "code",
   "execution_count": 39,
   "metadata": {},
   "outputs": [],
   "source": [
    "# Dropping user_activity_var_2 due to high p value.\n",
    "X_train_rfe.drop('user_activity_var_2', axis=1, inplace=True)"
   ]
  },
  {
   "cell_type": "code",
   "execution_count": 40,
   "metadata": {},
   "outputs": [
    {
     "data": {
      "text/html": [
       "<table class=\"simpletable\">\n",
       "<caption>Generalized Linear Model Regression Results</caption>\n",
       "<tr>\n",
       "  <th>Dep. Variable:</th>          <td>buy</td>       <th>  No. Observations:  </th>  <td> 38445</td> \n",
       "</tr>\n",
       "<tr>\n",
       "  <th>Model:</th>                  <td>GLM</td>       <th>  Df Residuals:      </th>  <td> 38436</td> \n",
       "</tr>\n",
       "<tr>\n",
       "  <th>Model Family:</th>        <td>Binomial</td>     <th>  Df Model:          </th>  <td>     8</td> \n",
       "</tr>\n",
       "<tr>\n",
       "  <th>Link Function:</th>         <td>logit</td>      <th>  Scale:             </th> <td>  1.0000</td>\n",
       "</tr>\n",
       "<tr>\n",
       "  <th>Method:</th>                <td>IRLS</td>       <th>  Log-Likelihood:    </th> <td> -4736.3</td>\n",
       "</tr>\n",
       "<tr>\n",
       "  <th>Date:</th>            <td>Sun, 05 Jun 2022</td> <th>  Deviance:          </th> <td>  9472.6</td>\n",
       "</tr>\n",
       "<tr>\n",
       "  <th>Time:</th>                <td>17:42:33</td>     <th>  Pearson chi2:      </th> <td>3.67e+04</td>\n",
       "</tr>\n",
       "<tr>\n",
       "  <th>No. Iterations:</th>         <td>10</td>        <th>                     </th>     <td> </td>   \n",
       "</tr>\n",
       "<tr>\n",
       "  <th>Covariance Type:</th>     <td>nonrobust</td>    <th>                     </th>     <td> </td>   \n",
       "</tr>\n",
       "</table>\n",
       "<table class=\"simpletable\">\n",
       "<tr>\n",
       "            <td></td>              <th>coef</th>     <th>std err</th>      <th>z</th>      <th>P>|z|</th>  <th>[0.025</th>    <th>0.975]</th>  \n",
       "</tr>\n",
       "<tr>\n",
       "  <th>const</th>                <td>   -4.2122</td> <td>    0.058</td> <td>  -73.136</td> <td> 0.000</td> <td>   -4.325</td> <td>   -4.099</td>\n",
       "</tr>\n",
       "<tr>\n",
       "  <th>created_at</th>           <td>    1.4920</td> <td>    1.002</td> <td>    1.490</td> <td> 0.136</td> <td>   -0.471</td> <td>    3.455</td>\n",
       "</tr>\n",
       "<tr>\n",
       "  <th>campaign_var_1</th>       <td>   -0.4463</td> <td>    0.033</td> <td>  -13.515</td> <td> 0.000</td> <td>   -0.511</td> <td>   -0.382</td>\n",
       "</tr>\n",
       "<tr>\n",
       "  <th>signup_date</th>          <td>   -0.5148</td> <td>    0.023</td> <td>  -22.875</td> <td> 0.000</td> <td>   -0.559</td> <td>   -0.471</td>\n",
       "</tr>\n",
       "<tr>\n",
       "  <th>user_activity_var_4</th>  <td>    0.5176</td> <td>    0.016</td> <td>   31.496</td> <td> 0.000</td> <td>    0.485</td> <td>    0.550</td>\n",
       "</tr>\n",
       "<tr>\n",
       "  <th>user_activity_var_5</th>  <td>    0.4880</td> <td>    0.022</td> <td>   22.313</td> <td> 0.000</td> <td>    0.445</td> <td>    0.531</td>\n",
       "</tr>\n",
       "<tr>\n",
       "  <th>user_activity_var_8</th>  <td>   -1.0494</td> <td>    0.091</td> <td>  -11.595</td> <td> 0.000</td> <td>   -1.227</td> <td>   -0.872</td>\n",
       "</tr>\n",
       "<tr>\n",
       "  <th>user_activity_var_11</th> <td>    0.6892</td> <td>    0.024</td> <td>   28.860</td> <td> 0.000</td> <td>    0.642</td> <td>    0.736</td>\n",
       "</tr>\n",
       "<tr>\n",
       "  <th>week</th>                 <td>   -1.4708</td> <td>    0.998</td> <td>   -1.474</td> <td> 0.140</td> <td>   -3.426</td> <td>    0.485</td>\n",
       "</tr>\n",
       "</table>"
      ],
      "text/plain": [
       "<class 'statsmodels.iolib.summary.Summary'>\n",
       "\"\"\"\n",
       "                 Generalized Linear Model Regression Results                  \n",
       "==============================================================================\n",
       "Dep. Variable:                    buy   No. Observations:                38445\n",
       "Model:                            GLM   Df Residuals:                    38436\n",
       "Model Family:                Binomial   Df Model:                            8\n",
       "Link Function:                  logit   Scale:                          1.0000\n",
       "Method:                          IRLS   Log-Likelihood:                -4736.3\n",
       "Date:                Sun, 05 Jun 2022   Deviance:                       9472.6\n",
       "Time:                        17:42:33   Pearson chi2:                 3.67e+04\n",
       "No. Iterations:                    10                                         \n",
       "Covariance Type:            nonrobust                                         \n",
       "========================================================================================\n",
       "                           coef    std err          z      P>|z|      [0.025      0.975]\n",
       "----------------------------------------------------------------------------------------\n",
       "const                   -4.2122      0.058    -73.136      0.000      -4.325      -4.099\n",
       "created_at               1.4920      1.002      1.490      0.136      -0.471       3.455\n",
       "campaign_var_1          -0.4463      0.033    -13.515      0.000      -0.511      -0.382\n",
       "signup_date             -0.5148      0.023    -22.875      0.000      -0.559      -0.471\n",
       "user_activity_var_4      0.5176      0.016     31.496      0.000       0.485       0.550\n",
       "user_activity_var_5      0.4880      0.022     22.313      0.000       0.445       0.531\n",
       "user_activity_var_8     -1.0494      0.091    -11.595      0.000      -1.227      -0.872\n",
       "user_activity_var_11     0.6892      0.024     28.860      0.000       0.642       0.736\n",
       "week                    -1.4708      0.998     -1.474      0.140      -3.426       0.485\n",
       "========================================================================================\n",
       "\"\"\""
      ]
     },
     "execution_count": 40,
     "metadata": {},
     "output_type": "execute_result"
    }
   ],
   "source": [
    "# Building our third Logistic regression model.\n",
    "X_train_sm = sm.add_constant(X_train_rfe)\n",
    "model3 = sm.GLM(y_train,X_train_sm, family = sm.families.Binomial())\n",
    "result = model3.fit()\n",
    "result.summary()"
   ]
  },
  {
   "cell_type": "code",
   "execution_count": 41,
   "metadata": {},
   "outputs": [
    {
     "data": {
      "text/html": [
       "<div>\n",
       "<style scoped>\n",
       "    .dataframe tbody tr th:only-of-type {\n",
       "        vertical-align: middle;\n",
       "    }\n",
       "\n",
       "    .dataframe tbody tr th {\n",
       "        vertical-align: top;\n",
       "    }\n",
       "\n",
       "    .dataframe thead th {\n",
       "        text-align: right;\n",
       "    }\n",
       "</style>\n",
       "<table border=\"1\" class=\"dataframe\">\n",
       "  <thead>\n",
       "    <tr style=\"text-align: right;\">\n",
       "      <th></th>\n",
       "      <th>variables</th>\n",
       "      <th>VIF</th>\n",
       "    </tr>\n",
       "  </thead>\n",
       "  <tbody>\n",
       "    <tr>\n",
       "      <th>0</th>\n",
       "      <td>created_at</td>\n",
       "      <td>26.35</td>\n",
       "    </tr>\n",
       "    <tr>\n",
       "      <th>7</th>\n",
       "      <td>week</td>\n",
       "      <td>26.25</td>\n",
       "    </tr>\n",
       "    <tr>\n",
       "      <th>2</th>\n",
       "      <td>signup_date</td>\n",
       "      <td>1.04</td>\n",
       "    </tr>\n",
       "    <tr>\n",
       "      <th>1</th>\n",
       "      <td>campaign_var_1</td>\n",
       "      <td>1.02</td>\n",
       "    </tr>\n",
       "    <tr>\n",
       "      <th>3</th>\n",
       "      <td>user_activity_var_4</td>\n",
       "      <td>1.01</td>\n",
       "    </tr>\n",
       "    <tr>\n",
       "      <th>4</th>\n",
       "      <td>user_activity_var_5</td>\n",
       "      <td>1.01</td>\n",
       "    </tr>\n",
       "    <tr>\n",
       "      <th>5</th>\n",
       "      <td>user_activity_var_8</td>\n",
       "      <td>1.01</td>\n",
       "    </tr>\n",
       "    <tr>\n",
       "      <th>6</th>\n",
       "      <td>user_activity_var_11</td>\n",
       "      <td>1.00</td>\n",
       "    </tr>\n",
       "  </tbody>\n",
       "</table>\n",
       "</div>"
      ],
      "text/plain": [
       "              variables    VIF\n",
       "0            created_at  26.35\n",
       "7                  week  26.25\n",
       "2           signup_date   1.04\n",
       "1        campaign_var_1   1.02\n",
       "3   user_activity_var_4   1.01\n",
       "4   user_activity_var_5   1.01\n",
       "5   user_activity_var_8   1.01\n",
       "6  user_activity_var_11   1.00"
      ]
     },
     "execution_count": 41,
     "metadata": {},
     "output_type": "execute_result"
    }
   ],
   "source": [
    "# Creating a dataframe of the variables with their respective VIF value.\n",
    "vif = pd.DataFrame()\n",
    "vif[\"variables\"] = X_train_rfe.columns\n",
    "vif[\"VIF\"] = [variance_inflation_factor(X_train_rfe.values, i) for i in range (X_train_rfe.shape[1])]\n",
    "vif[\"VIF\"] = round(vif[\"VIF\"], 2)\n",
    "vif = vif.sort_values(by = \"VIF\", ascending = False)\n",
    "vif"
   ]
  },
  {
   "cell_type": "code",
   "execution_count": 42,
   "metadata": {},
   "outputs": [],
   "source": [
    "# Dropping created_at due to high p value.\n",
    "X_train_rfe.drop('created_at', axis=1, inplace=True)"
   ]
  },
  {
   "cell_type": "code",
   "execution_count": 43,
   "metadata": {},
   "outputs": [
    {
     "data": {
      "text/html": [
       "<table class=\"simpletable\">\n",
       "<caption>Generalized Linear Model Regression Results</caption>\n",
       "<tr>\n",
       "  <th>Dep. Variable:</th>          <td>buy</td>       <th>  No. Observations:  </th>  <td> 38445</td> \n",
       "</tr>\n",
       "<tr>\n",
       "  <th>Model:</th>                  <td>GLM</td>       <th>  Df Residuals:      </th>  <td> 38437</td> \n",
       "</tr>\n",
       "<tr>\n",
       "  <th>Model Family:</th>        <td>Binomial</td>     <th>  Df Model:          </th>  <td>     7</td> \n",
       "</tr>\n",
       "<tr>\n",
       "  <th>Link Function:</th>         <td>logit</td>      <th>  Scale:             </th> <td>  1.0000</td>\n",
       "</tr>\n",
       "<tr>\n",
       "  <th>Method:</th>                <td>IRLS</td>       <th>  Log-Likelihood:    </th> <td> -4744.7</td>\n",
       "</tr>\n",
       "<tr>\n",
       "  <th>Date:</th>            <td>Sun, 05 Jun 2022</td> <th>  Deviance:          </th> <td>  9489.5</td>\n",
       "</tr>\n",
       "<tr>\n",
       "  <th>Time:</th>                <td>17:42:33</td>     <th>  Pearson chi2:      </th> <td>3.67e+04</td>\n",
       "</tr>\n",
       "<tr>\n",
       "  <th>No. Iterations:</th>          <td>9</td>        <th>                     </th>     <td> </td>   \n",
       "</tr>\n",
       "<tr>\n",
       "  <th>Covariance Type:</th>     <td>nonrobust</td>    <th>                     </th>     <td> </td>   \n",
       "</tr>\n",
       "</table>\n",
       "<table class=\"simpletable\">\n",
       "<tr>\n",
       "            <td></td>              <th>coef</th>     <th>std err</th>      <th>z</th>      <th>P>|z|</th>  <th>[0.025</th>    <th>0.975]</th>  \n",
       "</tr>\n",
       "<tr>\n",
       "  <th>const</th>                <td>   -4.1973</td> <td>    0.057</td> <td>  -74.256</td> <td> 0.000</td> <td>   -4.308</td> <td>   -4.086</td>\n",
       "</tr>\n",
       "<tr>\n",
       "  <th>campaign_var_1</th>       <td>   -0.4413</td> <td>    0.033</td> <td>  -13.385</td> <td> 0.000</td> <td>   -0.506</td> <td>   -0.377</td>\n",
       "</tr>\n",
       "<tr>\n",
       "  <th>signup_date</th>          <td>   -0.5082</td> <td>    0.022</td> <td>  -22.679</td> <td> 0.000</td> <td>   -0.552</td> <td>   -0.464</td>\n",
       "</tr>\n",
       "<tr>\n",
       "  <th>user_activity_var_4</th>  <td>    0.5175</td> <td>    0.016</td> <td>   31.516</td> <td> 0.000</td> <td>    0.485</td> <td>    0.550</td>\n",
       "</tr>\n",
       "<tr>\n",
       "  <th>user_activity_var_5</th>  <td>    0.4871</td> <td>    0.022</td> <td>   22.290</td> <td> 0.000</td> <td>    0.444</td> <td>    0.530</td>\n",
       "</tr>\n",
       "<tr>\n",
       "  <th>user_activity_var_8</th>  <td>   -1.0489</td> <td>    0.090</td> <td>  -11.593</td> <td> 0.000</td> <td>   -1.226</td> <td>   -0.872</td>\n",
       "</tr>\n",
       "<tr>\n",
       "  <th>user_activity_var_11</th> <td>    0.6885</td> <td>    0.024</td> <td>   28.851</td> <td> 0.000</td> <td>    0.642</td> <td>    0.735</td>\n",
       "</tr>\n",
       "<tr>\n",
       "  <th>week</th>                 <td>    0.0036</td> <td>    0.029</td> <td>    0.124</td> <td> 0.901</td> <td>   -0.054</td> <td>    0.061</td>\n",
       "</tr>\n",
       "</table>"
      ],
      "text/plain": [
       "<class 'statsmodels.iolib.summary.Summary'>\n",
       "\"\"\"\n",
       "                 Generalized Linear Model Regression Results                  \n",
       "==============================================================================\n",
       "Dep. Variable:                    buy   No. Observations:                38445\n",
       "Model:                            GLM   Df Residuals:                    38437\n",
       "Model Family:                Binomial   Df Model:                            7\n",
       "Link Function:                  logit   Scale:                          1.0000\n",
       "Method:                          IRLS   Log-Likelihood:                -4744.7\n",
       "Date:                Sun, 05 Jun 2022   Deviance:                       9489.5\n",
       "Time:                        17:42:33   Pearson chi2:                 3.67e+04\n",
       "No. Iterations:                     9                                         \n",
       "Covariance Type:            nonrobust                                         \n",
       "========================================================================================\n",
       "                           coef    std err          z      P>|z|      [0.025      0.975]\n",
       "----------------------------------------------------------------------------------------\n",
       "const                   -4.1973      0.057    -74.256      0.000      -4.308      -4.086\n",
       "campaign_var_1          -0.4413      0.033    -13.385      0.000      -0.506      -0.377\n",
       "signup_date             -0.5082      0.022    -22.679      0.000      -0.552      -0.464\n",
       "user_activity_var_4      0.5175      0.016     31.516      0.000       0.485       0.550\n",
       "user_activity_var_5      0.4871      0.022     22.290      0.000       0.444       0.530\n",
       "user_activity_var_8     -1.0489      0.090    -11.593      0.000      -1.226      -0.872\n",
       "user_activity_var_11     0.6885      0.024     28.851      0.000       0.642       0.735\n",
       "week                     0.0036      0.029      0.124      0.901      -0.054       0.061\n",
       "========================================================================================\n",
       "\"\"\""
      ]
     },
     "execution_count": 43,
     "metadata": {},
     "output_type": "execute_result"
    }
   ],
   "source": [
    "# Building our third Logistic regression model.\n",
    "X_train_sm = sm.add_constant(X_train_rfe)\n",
    "model4 = sm.GLM(y_train,X_train_sm, family = sm.families.Binomial())\n",
    "result = model4.fit()\n",
    "result.summary()"
   ]
  },
  {
   "cell_type": "code",
   "execution_count": 44,
   "metadata": {},
   "outputs": [],
   "source": [
    "# Dropping week due to high p value.\n",
    "X_train_rfe.drop('week', axis=1, inplace=True)"
   ]
  },
  {
   "cell_type": "code",
   "execution_count": 45,
   "metadata": {},
   "outputs": [
    {
     "data": {
      "text/html": [
       "<table class=\"simpletable\">\n",
       "<caption>Generalized Linear Model Regression Results</caption>\n",
       "<tr>\n",
       "  <th>Dep. Variable:</th>          <td>buy</td>       <th>  No. Observations:  </th>  <td> 38445</td> \n",
       "</tr>\n",
       "<tr>\n",
       "  <th>Model:</th>                  <td>GLM</td>       <th>  Df Residuals:      </th>  <td> 38438</td> \n",
       "</tr>\n",
       "<tr>\n",
       "  <th>Model Family:</th>        <td>Binomial</td>     <th>  Df Model:          </th>  <td>     6</td> \n",
       "</tr>\n",
       "<tr>\n",
       "  <th>Link Function:</th>         <td>logit</td>      <th>  Scale:             </th> <td>  1.0000</td>\n",
       "</tr>\n",
       "<tr>\n",
       "  <th>Method:</th>                <td>IRLS</td>       <th>  Log-Likelihood:    </th> <td> -4744.7</td>\n",
       "</tr>\n",
       "<tr>\n",
       "  <th>Date:</th>            <td>Sun, 05 Jun 2022</td> <th>  Deviance:          </th> <td>  9489.5</td>\n",
       "</tr>\n",
       "<tr>\n",
       "  <th>Time:</th>                <td>17:42:33</td>     <th>  Pearson chi2:      </th> <td>3.67e+04</td>\n",
       "</tr>\n",
       "<tr>\n",
       "  <th>No. Iterations:</th>          <td>9</td>        <th>                     </th>     <td> </td>   \n",
       "</tr>\n",
       "<tr>\n",
       "  <th>Covariance Type:</th>     <td>nonrobust</td>    <th>                     </th>     <td> </td>   \n",
       "</tr>\n",
       "</table>\n",
       "<table class=\"simpletable\">\n",
       "<tr>\n",
       "            <td></td>              <th>coef</th>     <th>std err</th>      <th>z</th>      <th>P>|z|</th>  <th>[0.025</th>    <th>0.975]</th>  \n",
       "</tr>\n",
       "<tr>\n",
       "  <th>const</th>                <td>   -4.1973</td> <td>    0.057</td> <td>  -74.257</td> <td> 0.000</td> <td>   -4.308</td> <td>   -4.087</td>\n",
       "</tr>\n",
       "<tr>\n",
       "  <th>campaign_var_1</th>       <td>   -0.4408</td> <td>    0.033</td> <td>  -13.476</td> <td> 0.000</td> <td>   -0.505</td> <td>   -0.377</td>\n",
       "</tr>\n",
       "<tr>\n",
       "  <th>signup_date</th>          <td>   -0.5076</td> <td>    0.022</td> <td>  -23.125</td> <td> 0.000</td> <td>   -0.551</td> <td>   -0.465</td>\n",
       "</tr>\n",
       "<tr>\n",
       "  <th>user_activity_var_4</th>  <td>    0.5175</td> <td>    0.016</td> <td>   31.516</td> <td> 0.000</td> <td>    0.485</td> <td>    0.550</td>\n",
       "</tr>\n",
       "<tr>\n",
       "  <th>user_activity_var_5</th>  <td>    0.4871</td> <td>    0.022</td> <td>   22.293</td> <td> 0.000</td> <td>    0.444</td> <td>    0.530</td>\n",
       "</tr>\n",
       "<tr>\n",
       "  <th>user_activity_var_8</th>  <td>   -1.0491</td> <td>    0.090</td> <td>  -11.597</td> <td> 0.000</td> <td>   -1.226</td> <td>   -0.872</td>\n",
       "</tr>\n",
       "<tr>\n",
       "  <th>user_activity_var_11</th> <td>    0.6886</td> <td>    0.024</td> <td>   28.876</td> <td> 0.000</td> <td>    0.642</td> <td>    0.735</td>\n",
       "</tr>\n",
       "</table>"
      ],
      "text/plain": [
       "<class 'statsmodels.iolib.summary.Summary'>\n",
       "\"\"\"\n",
       "                 Generalized Linear Model Regression Results                  \n",
       "==============================================================================\n",
       "Dep. Variable:                    buy   No. Observations:                38445\n",
       "Model:                            GLM   Df Residuals:                    38438\n",
       "Model Family:                Binomial   Df Model:                            6\n",
       "Link Function:                  logit   Scale:                          1.0000\n",
       "Method:                          IRLS   Log-Likelihood:                -4744.7\n",
       "Date:                Sun, 05 Jun 2022   Deviance:                       9489.5\n",
       "Time:                        17:42:33   Pearson chi2:                 3.67e+04\n",
       "No. Iterations:                     9                                         \n",
       "Covariance Type:            nonrobust                                         \n",
       "========================================================================================\n",
       "                           coef    std err          z      P>|z|      [0.025      0.975]\n",
       "----------------------------------------------------------------------------------------\n",
       "const                   -4.1973      0.057    -74.257      0.000      -4.308      -4.087\n",
       "campaign_var_1          -0.4408      0.033    -13.476      0.000      -0.505      -0.377\n",
       "signup_date             -0.5076      0.022    -23.125      0.000      -0.551      -0.465\n",
       "user_activity_var_4      0.5175      0.016     31.516      0.000       0.485       0.550\n",
       "user_activity_var_5      0.4871      0.022     22.293      0.000       0.444       0.530\n",
       "user_activity_var_8     -1.0491      0.090    -11.597      0.000      -1.226      -0.872\n",
       "user_activity_var_11     0.6886      0.024     28.876      0.000       0.642       0.735\n",
       "========================================================================================\n",
       "\"\"\""
      ]
     },
     "execution_count": 45,
     "metadata": {},
     "output_type": "execute_result"
    }
   ],
   "source": [
    "# Building our third Logistic regression model.\n",
    "X_train_sm = sm.add_constant(X_train_rfe)\n",
    "model5 = sm.GLM(y_train,X_train_sm, family = sm.families.Binomial())\n",
    "result = model5.fit()\n",
    "result.summary()"
   ]
  },
  {
   "cell_type": "code",
   "execution_count": 46,
   "metadata": {},
   "outputs": [
    {
     "data": {
      "text/html": [
       "<div>\n",
       "<style scoped>\n",
       "    .dataframe tbody tr th:only-of-type {\n",
       "        vertical-align: middle;\n",
       "    }\n",
       "\n",
       "    .dataframe tbody tr th {\n",
       "        vertical-align: top;\n",
       "    }\n",
       "\n",
       "    .dataframe thead th {\n",
       "        text-align: right;\n",
       "    }\n",
       "</style>\n",
       "<table border=\"1\" class=\"dataframe\">\n",
       "  <thead>\n",
       "    <tr style=\"text-align: right;\">\n",
       "      <th></th>\n",
       "      <th>variables</th>\n",
       "      <th>VIF</th>\n",
       "    </tr>\n",
       "  </thead>\n",
       "  <tbody>\n",
       "    <tr>\n",
       "      <th>1</th>\n",
       "      <td>signup_date</td>\n",
       "      <td>1.01</td>\n",
       "    </tr>\n",
       "    <tr>\n",
       "      <th>2</th>\n",
       "      <td>user_activity_var_4</td>\n",
       "      <td>1.01</td>\n",
       "    </tr>\n",
       "    <tr>\n",
       "      <th>3</th>\n",
       "      <td>user_activity_var_5</td>\n",
       "      <td>1.01</td>\n",
       "    </tr>\n",
       "    <tr>\n",
       "      <th>4</th>\n",
       "      <td>user_activity_var_8</td>\n",
       "      <td>1.01</td>\n",
       "    </tr>\n",
       "    <tr>\n",
       "      <th>0</th>\n",
       "      <td>campaign_var_1</td>\n",
       "      <td>1.00</td>\n",
       "    </tr>\n",
       "    <tr>\n",
       "      <th>5</th>\n",
       "      <td>user_activity_var_11</td>\n",
       "      <td>1.00</td>\n",
       "    </tr>\n",
       "  </tbody>\n",
       "</table>\n",
       "</div>"
      ],
      "text/plain": [
       "              variables   VIF\n",
       "1           signup_date  1.01\n",
       "2   user_activity_var_4  1.01\n",
       "3   user_activity_var_5  1.01\n",
       "4   user_activity_var_8  1.01\n",
       "0        campaign_var_1  1.00\n",
       "5  user_activity_var_11  1.00"
      ]
     },
     "execution_count": 46,
     "metadata": {},
     "output_type": "execute_result"
    }
   ],
   "source": [
    "# Creating a dataframe of the variables with their respective VIF value.\n",
    "vif = pd.DataFrame()\n",
    "vif[\"variables\"] = X_train_rfe.columns\n",
    "vif[\"VIF\"] = [variance_inflation_factor(X_train_rfe.values, i) for i in range (X_train_rfe.shape[1])]\n",
    "vif[\"VIF\"] = round(vif[\"VIF\"], 2)\n",
    "vif = vif.sort_values(by = \"VIF\", ascending = False)\n",
    "vif"
   ]
  },
  {
   "cell_type": "code",
   "execution_count": 47,
   "metadata": {},
   "outputs": [
    {
     "data": {
      "text/plain": [
       "0    0.002045\n",
       "1    0.027792\n",
       "2    0.007109\n",
       "3    0.082078\n",
       "4    0.124154\n",
       "5    0.047274\n",
       "6    0.035898\n",
       "7    0.067920\n",
       "8    0.088533\n",
       "9    0.069954\n",
       "dtype: float64"
      ]
     },
     "execution_count": 47,
     "metadata": {},
     "output_type": "execute_result"
    }
   ],
   "source": [
    "train_pred=result.predict(X_train_sm)\n",
    "train_pred[:10]"
   ]
  },
  {
   "cell_type": "code",
   "execution_count": 48,
   "metadata": {},
   "outputs": [
    {
     "data": {
      "text/html": [
       "<div>\n",
       "<style scoped>\n",
       "    .dataframe tbody tr th:only-of-type {\n",
       "        vertical-align: middle;\n",
       "    }\n",
       "\n",
       "    .dataframe tbody tr th {\n",
       "        vertical-align: top;\n",
       "    }\n",
       "\n",
       "    .dataframe thead th {\n",
       "        text-align: right;\n",
       "    }\n",
       "</style>\n",
       "<table border=\"1\" class=\"dataframe\">\n",
       "  <thead>\n",
       "    <tr style=\"text-align: right;\">\n",
       "      <th></th>\n",
       "      <th>id</th>\n",
       "      <th>actual</th>\n",
       "      <th>probability</th>\n",
       "    </tr>\n",
       "  </thead>\n",
       "  <tbody>\n",
       "    <tr>\n",
       "      <th>0</th>\n",
       "      <td>1</td>\n",
       "      <td>0</td>\n",
       "      <td>0.002045</td>\n",
       "    </tr>\n",
       "    <tr>\n",
       "      <th>1</th>\n",
       "      <td>2</td>\n",
       "      <td>0</td>\n",
       "      <td>0.027792</td>\n",
       "    </tr>\n",
       "    <tr>\n",
       "      <th>2</th>\n",
       "      <td>3</td>\n",
       "      <td>0</td>\n",
       "      <td>0.007109</td>\n",
       "    </tr>\n",
       "    <tr>\n",
       "      <th>3</th>\n",
       "      <td>4</td>\n",
       "      <td>0</td>\n",
       "      <td>0.082078</td>\n",
       "    </tr>\n",
       "    <tr>\n",
       "      <th>4</th>\n",
       "      <td>5</td>\n",
       "      <td>0</td>\n",
       "      <td>0.124154</td>\n",
       "    </tr>\n",
       "  </tbody>\n",
       "</table>\n",
       "</div>"
      ],
      "text/plain": [
       "   id  actual  probability\n",
       "0   1       0     0.002045\n",
       "1   2       0     0.027792\n",
       "2   3       0     0.007109\n",
       "3   4       0     0.082078\n",
       "4   5       0     0.124154"
      ]
     },
     "execution_count": 48,
     "metadata": {},
     "output_type": "execute_result"
    }
   ],
   "source": [
    "# Creating a Dataframe with actual and predicted values.\n",
    "pred_actual=pd.DataFrame({'id': lead.id, 'actual':y_train.values, 'probability':train_pred.values})\n",
    "pred_actual.head()"
   ]
  },
  {
   "cell_type": "code",
   "execution_count": 49,
   "metadata": {},
   "outputs": [],
   "source": [
    "# Defining a function to plot the ROC curve.\n",
    "def roc_curve(actual, prob):\n",
    "    fpr, tpr, threshold = metrics.roc_curve(actual, prob, drop_intermediate= False)\n",
    "    area_under_curve = metrics.roc_auc_score(actual, prob)\n",
    "    \n",
    "    plt.figure(figsize=(8,5))\n",
    "    plt.plot(fpr, tpr, label = 'ROC CURVE (Area = %0.2f)' %area_under_curve)\n",
    "    plt.plot([0, 1], [0, 1], 'k--')\n",
    "    plt.xlim([0.0, 1.0])\n",
    "    plt.ylim([0.0, 1.05])\n",
    "    plt.xlabel('False Positive Rate [1 - Specificity]')\n",
    "    plt.ylabel('True Positive Rate [Sensitivity]')\n",
    "    plt.title('Receiver operating characteristic Curve')\n",
    "    plt.legend(loc=\"lower right\")\n",
    "    plt.show()\n",
    "\n",
    "    return None"
   ]
  },
  {
   "cell_type": "code",
   "execution_count": 50,
   "metadata": {},
   "outputs": [
    {
     "data": {
      "image/png": "[encoded data removed]",
      "text/plain": [
       "<Figure size 576x360 with 1 Axes>"
      ]
     },
     "metadata": {
      "needs_background": "light"
     },
     "output_type": "display_data"
    }
   ],
   "source": [
    "# Visualizing the ROC curve\n",
    "roc_curve(pred_actual.actual, pred_actual.probability)"
   ]
  },
  {
   "cell_type": "code",
   "execution_count": 51,
   "metadata": {},
   "outputs": [
    {
     "data": {
      "text/html": [
       "<div>\n",
       "<style scoped>\n",
       "    .dataframe tbody tr th:only-of-type {\n",
       "        vertical-align: middle;\n",
       "    }\n",
       "\n",
       "    .dataframe tbody tr th {\n",
       "        vertical-align: top;\n",
       "    }\n",
       "\n",
       "    .dataframe thead th {\n",
       "        text-align: right;\n",
       "    }\n",
       "</style>\n",
       "<table border=\"1\" class=\"dataframe\">\n",
       "  <thead>\n",
       "    <tr style=\"text-align: right;\">\n",
       "      <th></th>\n",
       "      <th>id</th>\n",
       "      <th>actual</th>\n",
       "      <th>probability</th>\n",
       "      <th>0.0</th>\n",
       "      <th>0.1</th>\n",
       "      <th>0.2</th>\n",
       "      <th>0.3</th>\n",
       "      <th>0.4</th>\n",
       "      <th>0.5</th>\n",
       "      <th>0.6</th>\n",
       "      <th>0.7</th>\n",
       "      <th>0.8</th>\n",
       "      <th>0.9</th>\n",
       "    </tr>\n",
       "  </thead>\n",
       "  <tbody>\n",
       "    <tr>\n",
       "      <th>0</th>\n",
       "      <td>1</td>\n",
       "      <td>0</td>\n",
       "      <td>0.002045</td>\n",
       "      <td>1</td>\n",
       "      <td>0</td>\n",
       "      <td>0</td>\n",
       "      <td>0</td>\n",
       "      <td>0</td>\n",
       "      <td>0</td>\n",
       "      <td>0</td>\n",
       "      <td>0</td>\n",
       "      <td>0</td>\n",
       "      <td>0</td>\n",
       "    </tr>\n",
       "    <tr>\n",
       "      <th>1</th>\n",
       "      <td>2</td>\n",
       "      <td>0</td>\n",
       "      <td>0.027792</td>\n",
       "      <td>1</td>\n",
       "      <td>0</td>\n",
       "      <td>0</td>\n",
       "      <td>0</td>\n",
       "      <td>0</td>\n",
       "      <td>0</td>\n",
       "      <td>0</td>\n",
       "      <td>0</td>\n",
       "      <td>0</td>\n",
       "      <td>0</td>\n",
       "    </tr>\n",
       "    <tr>\n",
       "      <th>2</th>\n",
       "      <td>3</td>\n",
       "      <td>0</td>\n",
       "      <td>0.007109</td>\n",
       "      <td>1</td>\n",
       "      <td>0</td>\n",
       "      <td>0</td>\n",
       "      <td>0</td>\n",
       "      <td>0</td>\n",
       "      <td>0</td>\n",
       "      <td>0</td>\n",
       "      <td>0</td>\n",
       "      <td>0</td>\n",
       "      <td>0</td>\n",
       "    </tr>\n",
       "    <tr>\n",
       "      <th>3</th>\n",
       "      <td>4</td>\n",
       "      <td>0</td>\n",
       "      <td>0.082078</td>\n",
       "      <td>1</td>\n",
       "      <td>0</td>\n",
       "      <td>0</td>\n",
       "      <td>0</td>\n",
       "      <td>0</td>\n",
       "      <td>0</td>\n",
       "      <td>0</td>\n",
       "      <td>0</td>\n",
       "      <td>0</td>\n",
       "      <td>0</td>\n",
       "    </tr>\n",
       "    <tr>\n",
       "      <th>4</th>\n",
       "      <td>5</td>\n",
       "      <td>0</td>\n",
       "      <td>0.124154</td>\n",
       "      <td>1</td>\n",
       "      <td>1</td>\n",
       "      <td>0</td>\n",
       "      <td>0</td>\n",
       "      <td>0</td>\n",
       "      <td>0</td>\n",
       "      <td>0</td>\n",
       "      <td>0</td>\n",
       "      <td>0</td>\n",
       "      <td>0</td>\n",
       "    </tr>\n",
       "  </tbody>\n",
       "</table>\n",
       "</div>"
      ],
      "text/plain": [
       "   id  actual  probability  0.0  0.1  0.2  0.3  0.4  0.5  0.6  0.7  0.8  0.9\n",
       "0   1       0     0.002045    1    0    0    0    0    0    0    0    0    0\n",
       "1   2       0     0.027792    1    0    0    0    0    0    0    0    0    0\n",
       "2   3       0     0.007109    1    0    0    0    0    0    0    0    0    0\n",
       "3   4       0     0.082078    1    0    0    0    0    0    0    0    0    0\n",
       "4   5       0     0.124154    1    1    0    0    0    0    0    0    0    0"
      ]
     },
     "execution_count": 51,
     "metadata": {},
     "output_type": "execute_result"
    }
   ],
   "source": [
    "num = [float(x)/10 for x in range(10)]\n",
    "for i in num:\n",
    "    pred_actual[i] = pred_actual.probability.map(lambda x: 1 if x > i else 0)\n",
    "pred_actual.head()"
   ]
  },
  {
   "cell_type": "code",
   "execution_count": 52,
   "metadata": {},
   "outputs": [
    {
     "data": {
      "text/html": [
       "<div>\n",
       "<style scoped>\n",
       "    .dataframe tbody tr th:only-of-type {\n",
       "        vertical-align: middle;\n",
       "    }\n",
       "\n",
       "    .dataframe tbody tr th {\n",
       "        vertical-align: top;\n",
       "    }\n",
       "\n",
       "    .dataframe thead th {\n",
       "        text-align: right;\n",
       "    }\n",
       "</style>\n",
       "<table border=\"1\" class=\"dataframe\">\n",
       "  <thead>\n",
       "    <tr style=\"text-align: right;\">\n",
       "      <th></th>\n",
       "      <th>probability</th>\n",
       "      <th>accuracy</th>\n",
       "      <th>sensitivity</th>\n",
       "      <th>specificity</th>\n",
       "    </tr>\n",
       "  </thead>\n",
       "  <tbody>\n",
       "    <tr>\n",
       "      <th>0.0</th>\n",
       "      <td>0.0</td>\n",
       "      <td>0.043881</td>\n",
       "      <td>1.000000</td>\n",
       "      <td>0.000000</td>\n",
       "    </tr>\n",
       "    <tr>\n",
       "      <th>0.1</th>\n",
       "      <td>0.1</td>\n",
       "      <td>0.917597</td>\n",
       "      <td>0.565501</td>\n",
       "      <td>0.933756</td>\n",
       "    </tr>\n",
       "    <tr>\n",
       "      <th>0.2</th>\n",
       "      <td>0.2</td>\n",
       "      <td>0.953492</td>\n",
       "      <td>0.412567</td>\n",
       "      <td>0.978318</td>\n",
       "    </tr>\n",
       "    <tr>\n",
       "      <th>0.3</th>\n",
       "      <td>0.3</td>\n",
       "      <td>0.962180</td>\n",
       "      <td>0.320688</td>\n",
       "      <td>0.991621</td>\n",
       "    </tr>\n",
       "    <tr>\n",
       "      <th>0.4</th>\n",
       "      <td>0.4</td>\n",
       "      <td>0.963870</td>\n",
       "      <td>0.267931</td>\n",
       "      <td>0.995810</td>\n",
       "    </tr>\n",
       "    <tr>\n",
       "      <th>0.5</th>\n",
       "      <td>0.5</td>\n",
       "      <td>0.964079</td>\n",
       "      <td>0.237107</td>\n",
       "      <td>0.997443</td>\n",
       "    </tr>\n",
       "    <tr>\n",
       "      <th>0.6</th>\n",
       "      <td>0.6</td>\n",
       "      <td>0.963922</td>\n",
       "      <td>0.212211</td>\n",
       "      <td>0.998422</td>\n",
       "    </tr>\n",
       "    <tr>\n",
       "      <th>0.7</th>\n",
       "      <td>0.7</td>\n",
       "      <td>0.963714</td>\n",
       "      <td>0.192057</td>\n",
       "      <td>0.999129</td>\n",
       "    </tr>\n",
       "    <tr>\n",
       "      <th>0.8</th>\n",
       "      <td>0.8</td>\n",
       "      <td>0.963116</td>\n",
       "      <td>0.168939</td>\n",
       "      <td>0.999565</td>\n",
       "    </tr>\n",
       "    <tr>\n",
       "      <th>0.9</th>\n",
       "      <td>0.9</td>\n",
       "      <td>0.961269</td>\n",
       "      <td>0.123296</td>\n",
       "      <td>0.999728</td>\n",
       "    </tr>\n",
       "  </tbody>\n",
       "</table>\n",
       "</div>"
      ],
      "text/plain": [
       "     probability  accuracy  sensitivity  specificity\n",
       "0.0          0.0  0.043881     1.000000     0.000000\n",
       "0.1          0.1  0.917597     0.565501     0.933756\n",
       "0.2          0.2  0.953492     0.412567     0.978318\n",
       "0.3          0.3  0.962180     0.320688     0.991621\n",
       "0.4          0.4  0.963870     0.267931     0.995810\n",
       "0.5          0.5  0.964079     0.237107     0.997443\n",
       "0.6          0.6  0.963922     0.212211     0.998422\n",
       "0.7          0.7  0.963714     0.192057     0.999129\n",
       "0.8          0.8  0.963116     0.168939     0.999565\n",
       "0.9          0.9  0.961269     0.123296     0.999728"
      ]
     },
     "execution_count": 52,
     "metadata": {},
     "output_type": "execute_result"
    }
   ],
   "source": [
    "# Finding all the metrics.\n",
    "lead_metrics = pd.DataFrame(columns=[\"probability\", \"accuracy\", \"sensitivity\", \"specificity\"])\n",
    "num = [float(x)/10 for x in range(10)]\n",
    "for i in num:\n",
    "    conf_m = metrics.confusion_matrix(pred_actual.actual, pred_actual[i])\n",
    "\n",
    "    total = conf_m[0,0] + conf_m[0,1] +conf_m[1,0] +conf_m[1,1]\n",
    "    accuracy = (conf_m[0,0] + conf_m[1,1])/ total\n",
    "    \n",
    "    sensitivity = conf_m[1,1]/(conf_m[1,1]+conf_m[1,0])\n",
    "    specificity = conf_m[0,0]/(conf_m[0,0] +conf_m[0,1])\n",
    "    \n",
    "    lead_metrics.loc[i] = [i, accuracy, sensitivity, specificity]\n",
    "\n",
    "lead_metrics"
   ]
  },
  {
   "cell_type": "code",
   "execution_count": 53,
   "metadata": {},
   "outputs": [
    {
     "data": {
      "image/png": "[encoded data removed]",
      "text/plain": [
       "<Figure size 432x288 with 1 Axes>"
      ]
     },
     "metadata": {
      "needs_background": "light"
     },
     "output_type": "display_data"
    }
   ],
   "source": [
    "# Plotting accuracy, sensitivity and specificity for various probabilities. \n",
    "lead_metrics.plot.line(x = \"probability\", y = [\"accuracy\",\"sensitivity\",\"specificity\"])\n",
    "plt.show()"
   ]
  },
  {
   "cell_type": "code",
   "execution_count": 54,
   "metadata": {},
   "outputs": [
    {
     "data": {
      "image/png": "[encoded data removed]",
      "text/plain": [
       "<Figure size 1080x432 with 1 Axes>"
      ]
     },
     "metadata": {
      "needs_background": "light"
     },
     "output_type": "display_data"
    }
   ],
   "source": [
    "lead_metrics.plot.line(x = \"probability\", y = [\"accuracy\",\"sensitivity\",\"specificity\"], figsize=(15,6))\n",
    "plt.plot([0.073,0.073],[0, 1], 'black')\n",
    "plt.show()"
   ]
  },
  {
   "cell_type": "code",
   "execution_count": 55,
   "metadata": {},
   "outputs": [],
   "source": [
    "pred_actual['final_prediction']=pred_actual['probability'].map(lambda x : 1 if x>0.073 else 0)"
   ]
  },
  {
   "cell_type": "code",
   "execution_count": 56,
   "metadata": {},
   "outputs": [
    {
     "data": {
      "text/html": [
       "<div>\n",
       "<style scoped>\n",
       "    .dataframe tbody tr th:only-of-type {\n",
       "        vertical-align: middle;\n",
       "    }\n",
       "\n",
       "    .dataframe tbody tr th {\n",
       "        vertical-align: top;\n",
       "    }\n",
       "\n",
       "    .dataframe thead th {\n",
       "        text-align: right;\n",
       "    }\n",
       "</style>\n",
       "<table border=\"1\" class=\"dataframe\">\n",
       "  <thead>\n",
       "    <tr style=\"text-align: right;\">\n",
       "      <th></th>\n",
       "      <th>id</th>\n",
       "      <th>actual</th>\n",
       "      <th>probability</th>\n",
       "      <th>0.0</th>\n",
       "      <th>0.1</th>\n",
       "      <th>0.2</th>\n",
       "      <th>0.3</th>\n",
       "      <th>0.4</th>\n",
       "      <th>0.5</th>\n",
       "      <th>0.6</th>\n",
       "      <th>0.7</th>\n",
       "      <th>0.8</th>\n",
       "      <th>0.9</th>\n",
       "      <th>final_prediction</th>\n",
       "    </tr>\n",
       "  </thead>\n",
       "  <tbody>\n",
       "    <tr>\n",
       "      <th>0</th>\n",
       "      <td>1</td>\n",
       "      <td>0</td>\n",
       "      <td>0.002045</td>\n",
       "      <td>1</td>\n",
       "      <td>0</td>\n",
       "      <td>0</td>\n",
       "      <td>0</td>\n",
       "      <td>0</td>\n",
       "      <td>0</td>\n",
       "      <td>0</td>\n",
       "      <td>0</td>\n",
       "      <td>0</td>\n",
       "      <td>0</td>\n",
       "      <td>0</td>\n",
       "    </tr>\n",
       "    <tr>\n",
       "      <th>1</th>\n",
       "      <td>2</td>\n",
       "      <td>0</td>\n",
       "      <td>0.027792</td>\n",
       "      <td>1</td>\n",
       "      <td>0</td>\n",
       "      <td>0</td>\n",
       "      <td>0</td>\n",
       "      <td>0</td>\n",
       "      <td>0</td>\n",
       "      <td>0</td>\n",
       "      <td>0</td>\n",
       "      <td>0</td>\n",
       "      <td>0</td>\n",
       "      <td>0</td>\n",
       "    </tr>\n",
       "    <tr>\n",
       "      <th>2</th>\n",
       "      <td>3</td>\n",
       "      <td>0</td>\n",
       "      <td>0.007109</td>\n",
       "      <td>1</td>\n",
       "      <td>0</td>\n",
       "      <td>0</td>\n",
       "      <td>0</td>\n",
       "      <td>0</td>\n",
       "      <td>0</td>\n",
       "      <td>0</td>\n",
       "      <td>0</td>\n",
       "      <td>0</td>\n",
       "      <td>0</td>\n",
       "      <td>0</td>\n",
       "    </tr>\n",
       "    <tr>\n",
       "      <th>3</th>\n",
       "      <td>4</td>\n",
       "      <td>0</td>\n",
       "      <td>0.082078</td>\n",
       "      <td>1</td>\n",
       "      <td>0</td>\n",
       "      <td>0</td>\n",
       "      <td>0</td>\n",
       "      <td>0</td>\n",
       "      <td>0</td>\n",
       "      <td>0</td>\n",
       "      <td>0</td>\n",
       "      <td>0</td>\n",
       "      <td>0</td>\n",
       "      <td>1</td>\n",
       "    </tr>\n",
       "    <tr>\n",
       "      <th>4</th>\n",
       "      <td>5</td>\n",
       "      <td>0</td>\n",
       "      <td>0.124154</td>\n",
       "      <td>1</td>\n",
       "      <td>1</td>\n",
       "      <td>0</td>\n",
       "      <td>0</td>\n",
       "      <td>0</td>\n",
       "      <td>0</td>\n",
       "      <td>0</td>\n",
       "      <td>0</td>\n",
       "      <td>0</td>\n",
       "      <td>0</td>\n",
       "      <td>1</td>\n",
       "    </tr>\n",
       "  </tbody>\n",
       "</table>\n",
       "</div>"
      ],
      "text/plain": [
       "   id  actual  probability  0.0  0.1  0.2  0.3  0.4  0.5  0.6  0.7  0.8  0.9  \\\n",
       "0   1       0     0.002045    1    0    0    0    0    0    0    0    0    0   \n",
       "1   2       0     0.027792    1    0    0    0    0    0    0    0    0    0   \n",
       "2   3       0     0.007109    1    0    0    0    0    0    0    0    0    0   \n",
       "3   4       0     0.082078    1    0    0    0    0    0    0    0    0    0   \n",
       "4   5       0     0.124154    1    1    0    0    0    0    0    0    0    0   \n",
       "\n",
       "   final_prediction  \n",
       "0                 0  \n",
       "1                 0  \n",
       "2                 0  \n",
       "3                 1  \n",
       "4                 1  "
      ]
     },
     "execution_count": 56,
     "metadata": {},
     "output_type": "execute_result"
    }
   ],
   "source": [
    "pred_actual.head()"
   ]
  },
  {
   "cell_type": "code",
   "execution_count": 57,
   "metadata": {},
   "outputs": [
    {
     "data": {
      "text/plain": [
       "array([[32841,  3917],\n",
       "       [  613,  1074]], dtype=int64)"
      ]
     },
     "execution_count": 57,
     "metadata": {},
     "output_type": "execute_result"
    }
   ],
   "source": [
    "conf_m=metrics.confusion_matrix(pred_actual.actual, pred_actual.final_prediction)\n",
    "conf_m"
   ]
  },
  {
   "cell_type": "code",
   "execution_count": 58,
   "metadata": {},
   "outputs": [],
   "source": [
    "TP = conf_m[1,1]\n",
    "TN = conf_m[0,0]\n",
    "FP = conf_m[0,1]\n",
    "FN = conf_m[1,0]"
   ]
  },
  {
   "cell_type": "code",
   "execution_count": 59,
   "metadata": {},
   "outputs": [
    {
     "name": "stdout",
     "output_type": "stream",
     "text": [
      "Sensitivity: 0.6366330764671013\n",
      "Specificity: 0.8934381631209533\n"
     ]
    }
   ],
   "source": [
    "#Calculating parameters for evaluating the logistc model\n",
    "Sensitivity = TP/float(TP + FN)\n",
    "print(\"Sensitivity:\", Sensitivity)\n",
    "Specificity = TN/float(TN + FP)\n",
    "print(\"Specificity:\", Specificity)"
   ]
  },
  {
   "cell_type": "code",
   "execution_count": 60,
   "metadata": {},
   "outputs": [
    {
     "data": {
      "image/png": "[encoded data removed]",
      "text/plain": [
       "<Figure size 576x360 with 1 Axes>"
      ]
     },
     "metadata": {
      "needs_background": "light"
     },
     "output_type": "display_data"
    }
   ],
   "source": [
    "roc_curve(pred_actual.actual, pred_actual.final_prediction)"
   ]
  },
  {
   "cell_type": "code",
   "execution_count": 61,
   "metadata": {},
   "outputs": [
    {
     "name": "stdout",
     "output_type": "stream",
     "text": [
      "Precision: 0.21518733720697256\n",
      "Recall: 0.6366330764671013\n"
     ]
    }
   ],
   "source": [
    "Precision = metrics.precision_score(pred_actual.actual, pred_actual.final_prediction)\n",
    "print(\"Precision:\" ,Precision)\n",
    "Recall = metrics.recall_score(pred_actual.actual, pred_actual.final_prediction)\n",
    "print(\"Recall:\" , Recall)"
   ]
  },
  {
   "cell_type": "code",
   "execution_count": 62,
   "metadata": {},
   "outputs": [
    {
     "data": {
      "image/png": "[encoded data removed]",
      "text/plain": [
       "<Figure size 432x288 with 1 Axes>"
      ]
     },
     "metadata": {
      "needs_background": "light"
     },
     "output_type": "display_data"
    }
   ],
   "source": [
    "# Plotting the Precision-Recall Trade off Curve.\n",
    "prec, rec, thresholds = precision_recall_curve(pred_actual.actual, pred_actual.final_prediction)\n",
    "plt.plot(thresholds, prec[:-1], \"r\", label = \"prec\" )\n",
    "plt.plot(thresholds, rec[:-1], \"g\", label = \"rec\")\n",
    "plt.legend()\n",
    "plt.show()"
   ]
  },
  {
   "cell_type": "code",
   "execution_count": 63,
   "metadata": {},
   "outputs": [
    {
     "data": {
      "text/plain": [
       "0.3216531895777178"
      ]
     },
     "execution_count": 63,
     "metadata": {},
     "output_type": "execute_result"
    }
   ],
   "source": [
    "# Calculating the F1 score\n",
    "F1 = 2*(Precision*Recall)/(Precision+Recall)\n",
    "F1"
   ]
  },
  {
   "cell_type": "markdown",
   "metadata": {},
   "source": [
    "- Since Logistic regression is giving poor results, lets try Decision Trees. "
   ]
  },
  {
   "cell_type": "markdown",
   "metadata": {},
   "source": [
    "## Decision Trees"
   ]
  },
  {
   "cell_type": "code",
   "execution_count": 64,
   "metadata": {},
   "outputs": [],
   "source": [
    "# Importing the dataset.\n",
    "df= pd.read_csv('C:\\\\Users\\\\shrey\\\\Downloads\\\\train_wn75k28.csv')"
   ]
  },
  {
   "cell_type": "code",
   "execution_count": 65,
   "metadata": {},
   "outputs": [
    {
     "data": {
      "text/html": [
       "<div>\n",
       "<style scoped>\n",
       "    .dataframe tbody tr th:only-of-type {\n",
       "        vertical-align: middle;\n",
       "    }\n",
       "\n",
       "    .dataframe tbody tr th {\n",
       "        vertical-align: top;\n",
       "    }\n",
       "\n",
       "    .dataframe thead th {\n",
       "        text-align: right;\n",
       "    }\n",
       "</style>\n",
       "<table border=\"1\" class=\"dataframe\">\n",
       "  <thead>\n",
       "    <tr style=\"text-align: right;\">\n",
       "      <th></th>\n",
       "      <th>id</th>\n",
       "      <th>created_at</th>\n",
       "      <th>campaign_var_1</th>\n",
       "      <th>campaign_var_2</th>\n",
       "      <th>products_purchased</th>\n",
       "      <th>signup_date</th>\n",
       "      <th>user_activity_var_1</th>\n",
       "      <th>user_activity_var_2</th>\n",
       "      <th>user_activity_var_3</th>\n",
       "      <th>user_activity_var_4</th>\n",
       "      <th>user_activity_var_5</th>\n",
       "      <th>user_activity_var_6</th>\n",
       "      <th>user_activity_var_7</th>\n",
       "      <th>user_activity_var_8</th>\n",
       "      <th>user_activity_var_9</th>\n",
       "      <th>user_activity_var_10</th>\n",
       "      <th>user_activity_var_11</th>\n",
       "      <th>user_activity_var_12</th>\n",
       "      <th>buy</th>\n",
       "    </tr>\n",
       "  </thead>\n",
       "  <tbody>\n",
       "    <tr>\n",
       "      <th>0</th>\n",
       "      <td>1</td>\n",
       "      <td>2021-01-01</td>\n",
       "      <td>1</td>\n",
       "      <td>2</td>\n",
       "      <td>2.0</td>\n",
       "      <td>2020-09-24</td>\n",
       "      <td>0</td>\n",
       "      <td>0</td>\n",
       "      <td>0</td>\n",
       "      <td>0</td>\n",
       "      <td>0</td>\n",
       "      <td>0</td>\n",
       "      <td>1</td>\n",
       "      <td>1</td>\n",
       "      <td>0</td>\n",
       "      <td>0</td>\n",
       "      <td>0</td>\n",
       "      <td>0</td>\n",
       "      <td>0</td>\n",
       "    </tr>\n",
       "    <tr>\n",
       "      <th>1</th>\n",
       "      <td>2</td>\n",
       "      <td>2021-01-01</td>\n",
       "      <td>2</td>\n",
       "      <td>1</td>\n",
       "      <td>2.0</td>\n",
       "      <td>2020-09-19</td>\n",
       "      <td>1</td>\n",
       "      <td>0</td>\n",
       "      <td>1</td>\n",
       "      <td>0</td>\n",
       "      <td>0</td>\n",
       "      <td>0</td>\n",
       "      <td>1</td>\n",
       "      <td>0</td>\n",
       "      <td>0</td>\n",
       "      <td>0</td>\n",
       "      <td>0</td>\n",
       "      <td>0</td>\n",
       "      <td>0</td>\n",
       "    </tr>\n",
       "    <tr>\n",
       "      <th>2</th>\n",
       "      <td>3</td>\n",
       "      <td>2021-01-01</td>\n",
       "      <td>9</td>\n",
       "      <td>3</td>\n",
       "      <td>3.0</td>\n",
       "      <td>2021-08-11</td>\n",
       "      <td>1</td>\n",
       "      <td>0</td>\n",
       "      <td>0</td>\n",
       "      <td>0</td>\n",
       "      <td>0</td>\n",
       "      <td>0</td>\n",
       "      <td>0</td>\n",
       "      <td>0</td>\n",
       "      <td>0</td>\n",
       "      <td>0</td>\n",
       "      <td>0</td>\n",
       "      <td>0</td>\n",
       "      <td>0</td>\n",
       "    </tr>\n",
       "    <tr>\n",
       "      <th>3</th>\n",
       "      <td>4</td>\n",
       "      <td>2021-01-01</td>\n",
       "      <td>6</td>\n",
       "      <td>7</td>\n",
       "      <td>2.0</td>\n",
       "      <td>2017-10-04</td>\n",
       "      <td>0</td>\n",
       "      <td>0</td>\n",
       "      <td>0</td>\n",
       "      <td>0</td>\n",
       "      <td>0</td>\n",
       "      <td>0</td>\n",
       "      <td>0</td>\n",
       "      <td>0</td>\n",
       "      <td>0</td>\n",
       "      <td>0</td>\n",
       "      <td>0</td>\n",
       "      <td>0</td>\n",
       "      <td>0</td>\n",
       "    </tr>\n",
       "    <tr>\n",
       "      <th>4</th>\n",
       "      <td>5</td>\n",
       "      <td>2021-01-01</td>\n",
       "      <td>4</td>\n",
       "      <td>6</td>\n",
       "      <td>NaN</td>\n",
       "      <td>2020-06-08</td>\n",
       "      <td>0</td>\n",
       "      <td>0</td>\n",
       "      <td>0</td>\n",
       "      <td>0</td>\n",
       "      <td>0</td>\n",
       "      <td>0</td>\n",
       "      <td>1</td>\n",
       "      <td>0</td>\n",
       "      <td>0</td>\n",
       "      <td>0</td>\n",
       "      <td>1</td>\n",
       "      <td>0</td>\n",
       "      <td>0</td>\n",
       "    </tr>\n",
       "  </tbody>\n",
       "</table>\n",
       "</div>"
      ],
      "text/plain": [
       "   id  created_at  campaign_var_1  campaign_var_2  products_purchased  \\\n",
       "0   1  2021-01-01               1               2                 2.0   \n",
       "1   2  2021-01-01               2               1                 2.0   \n",
       "2   3  2021-01-01               9               3                 3.0   \n",
       "3   4  2021-01-01               6               7                 2.0   \n",
       "4   5  2021-01-01               4               6                 NaN   \n",
       "\n",
       "  signup_date  user_activity_var_1  user_activity_var_2  user_activity_var_3  \\\n",
       "0  2020-09-24                    0                    0                    0   \n",
       "1  2020-09-19                    1                    0                    1   \n",
       "2  2021-08-11                    1                    0                    0   \n",
       "3  2017-10-04                    0                    0                    0   \n",
       "4  2020-06-08                    0                    0                    0   \n",
       "\n",
       "   user_activity_var_4  user_activity_var_5  user_activity_var_6  \\\n",
       "0                    0                    0                    0   \n",
       "1                    0                    0                    0   \n",
       "2                    0                    0                    0   \n",
       "3                    0                    0                    0   \n",
       "4                    0                    0                    0   \n",
       "\n",
       "   user_activity_var_7  user_activity_var_8  user_activity_var_9  \\\n",
       "0                    1                    1                    0   \n",
       "1                    1                    0                    0   \n",
       "2                    0                    0                    0   \n",
       "3                    0                    0                    0   \n",
       "4                    1                    0                    0   \n",
       "\n",
       "   user_activity_var_10  user_activity_var_11  user_activity_var_12  buy  \n",
       "0                     0                     0                     0    0  \n",
       "1                     0                     0                     0    0  \n",
       "2                     0                     0                     0    0  \n",
       "3                     0                     0                     0    0  \n",
       "4                     0                     1                     0    0  "
      ]
     },
     "execution_count": 65,
     "metadata": {},
     "output_type": "execute_result"
    }
   ],
   "source": [
    "# Head of our dataset.\n",
    "df.head()"
   ]
  },
  {
   "cell_type": "code",
   "execution_count": 66,
   "metadata": {},
   "outputs": [
    {
     "data": {
      "text/html": [
       "<div>\n",
       "<style scoped>\n",
       "    .dataframe tbody tr th:only-of-type {\n",
       "        vertical-align: middle;\n",
       "    }\n",
       "\n",
       "    .dataframe tbody tr th {\n",
       "        vertical-align: top;\n",
       "    }\n",
       "\n",
       "    .dataframe thead th {\n",
       "        text-align: right;\n",
       "    }\n",
       "</style>\n",
       "<table border=\"1\" class=\"dataframe\">\n",
       "  <thead>\n",
       "    <tr style=\"text-align: right;\">\n",
       "      <th></th>\n",
       "      <th>id</th>\n",
       "      <th>campaign_var_1</th>\n",
       "      <th>campaign_var_2</th>\n",
       "      <th>products_purchased</th>\n",
       "      <th>user_activity_var_1</th>\n",
       "      <th>user_activity_var_2</th>\n",
       "      <th>user_activity_var_3</th>\n",
       "      <th>user_activity_var_4</th>\n",
       "      <th>user_activity_var_5</th>\n",
       "      <th>user_activity_var_6</th>\n",
       "      <th>user_activity_var_7</th>\n",
       "      <th>user_activity_var_8</th>\n",
       "      <th>user_activity_var_9</th>\n",
       "      <th>user_activity_var_10</th>\n",
       "      <th>user_activity_var_11</th>\n",
       "      <th>user_activity_var_12</th>\n",
       "      <th>buy</th>\n",
       "    </tr>\n",
       "  </thead>\n",
       "  <tbody>\n",
       "    <tr>\n",
       "      <th>count</th>\n",
       "      <td>39161.000000</td>\n",
       "      <td>39161.000000</td>\n",
       "      <td>39161.000000</td>\n",
       "      <td>18250.000000</td>\n",
       "      <td>39161.000000</td>\n",
       "      <td>39161.000000</td>\n",
       "      <td>39161.000000</td>\n",
       "      <td>39161.000000</td>\n",
       "      <td>39161.000000</td>\n",
       "      <td>39161.000000</td>\n",
       "      <td>39161.000000</td>\n",
       "      <td>39161.000000</td>\n",
       "      <td>39161.000000</td>\n",
       "      <td>39161.000000</td>\n",
       "      <td>39161.000000</td>\n",
       "      <td>39161.000000</td>\n",
       "      <td>39161.000000</td>\n",
       "    </tr>\n",
       "    <tr>\n",
       "      <th>mean</th>\n",
       "      <td>19581.000000</td>\n",
       "      <td>6.523812</td>\n",
       "      <td>6.452746</td>\n",
       "      <td>2.154137</td>\n",
       "      <td>0.400092</td>\n",
       "      <td>0.006716</td>\n",
       "      <td>0.102832</td>\n",
       "      <td>0.011465</td>\n",
       "      <td>0.151503</td>\n",
       "      <td>0.499834</td>\n",
       "      <td>0.286612</td>\n",
       "      <td>0.174434</td>\n",
       "      <td>0.011440</td>\n",
       "      <td>0.000383</td>\n",
       "      <td>0.218942</td>\n",
       "      <td>0.000562</td>\n",
       "      <td>0.051020</td>\n",
       "    </tr>\n",
       "    <tr>\n",
       "      <th>std</th>\n",
       "      <td>11304.951283</td>\n",
       "      <td>3.472944</td>\n",
       "      <td>2.614296</td>\n",
       "      <td>0.779815</td>\n",
       "      <td>0.509194</td>\n",
       "      <td>0.081676</td>\n",
       "      <td>0.303743</td>\n",
       "      <td>0.106463</td>\n",
       "      <td>0.359681</td>\n",
       "      <td>0.558166</td>\n",
       "      <td>0.455784</td>\n",
       "      <td>0.379689</td>\n",
       "      <td>0.106346</td>\n",
       "      <td>0.019568</td>\n",
       "      <td>0.431544</td>\n",
       "      <td>0.023696</td>\n",
       "      <td>0.220042</td>\n",
       "    </tr>\n",
       "    <tr>\n",
       "      <th>min</th>\n",
       "      <td>1.000000</td>\n",
       "      <td>1.000000</td>\n",
       "      <td>1.000000</td>\n",
       "      <td>1.000000</td>\n",
       "      <td>0.000000</td>\n",
       "      <td>0.000000</td>\n",
       "      <td>0.000000</td>\n",
       "      <td>0.000000</td>\n",
       "      <td>0.000000</td>\n",
       "      <td>0.000000</td>\n",
       "      <td>0.000000</td>\n",
       "      <td>0.000000</td>\n",
       "      <td>0.000000</td>\n",
       "      <td>0.000000</td>\n",
       "      <td>0.000000</td>\n",
       "      <td>0.000000</td>\n",
       "      <td>0.000000</td>\n",
       "    </tr>\n",
       "    <tr>\n",
       "      <th>25%</th>\n",
       "      <td>9791.000000</td>\n",
       "      <td>4.000000</td>\n",
       "      <td>5.000000</td>\n",
       "      <td>2.000000</td>\n",
       "      <td>0.000000</td>\n",
       "      <td>0.000000</td>\n",
       "      <td>0.000000</td>\n",
       "      <td>0.000000</td>\n",
       "      <td>0.000000</td>\n",
       "      <td>0.000000</td>\n",
       "      <td>0.000000</td>\n",
       "      <td>0.000000</td>\n",
       "      <td>0.000000</td>\n",
       "      <td>0.000000</td>\n",
       "      <td>0.000000</td>\n",
       "      <td>0.000000</td>\n",
       "      <td>0.000000</td>\n",
       "    </tr>\n",
       "    <tr>\n",
       "      <th>50%</th>\n",
       "      <td>19581.000000</td>\n",
       "      <td>6.000000</td>\n",
       "      <td>6.000000</td>\n",
       "      <td>2.000000</td>\n",
       "      <td>0.000000</td>\n",
       "      <td>0.000000</td>\n",
       "      <td>0.000000</td>\n",
       "      <td>0.000000</td>\n",
       "      <td>0.000000</td>\n",
       "      <td>0.000000</td>\n",
       "      <td>0.000000</td>\n",
       "      <td>0.000000</td>\n",
       "      <td>0.000000</td>\n",
       "      <td>0.000000</td>\n",
       "      <td>0.000000</td>\n",
       "      <td>0.000000</td>\n",
       "      <td>0.000000</td>\n",
       "    </tr>\n",
       "    <tr>\n",
       "      <th>75%</th>\n",
       "      <td>29371.000000</td>\n",
       "      <td>9.000000</td>\n",
       "      <td>8.000000</td>\n",
       "      <td>3.000000</td>\n",
       "      <td>1.000000</td>\n",
       "      <td>0.000000</td>\n",
       "      <td>0.000000</td>\n",
       "      <td>0.000000</td>\n",
       "      <td>0.000000</td>\n",
       "      <td>1.000000</td>\n",
       "      <td>1.000000</td>\n",
       "      <td>0.000000</td>\n",
       "      <td>0.000000</td>\n",
       "      <td>0.000000</td>\n",
       "      <td>0.000000</td>\n",
       "      <td>0.000000</td>\n",
       "      <td>0.000000</td>\n",
       "    </tr>\n",
       "    <tr>\n",
       "      <th>max</th>\n",
       "      <td>39161.000000</td>\n",
       "      <td>16.000000</td>\n",
       "      <td>15.000000</td>\n",
       "      <td>4.000000</td>\n",
       "      <td>3.000000</td>\n",
       "      <td>1.000000</td>\n",
       "      <td>1.000000</td>\n",
       "      <td>1.000000</td>\n",
       "      <td>2.000000</td>\n",
       "      <td>3.000000</td>\n",
       "      <td>2.000000</td>\n",
       "      <td>2.000000</td>\n",
       "      <td>1.000000</td>\n",
       "      <td>1.000000</td>\n",
       "      <td>4.000000</td>\n",
       "      <td>1.000000</td>\n",
       "      <td>1.000000</td>\n",
       "    </tr>\n",
       "  </tbody>\n",
       "</table>\n",
       "</div>"
      ],
      "text/plain": [
       "                 id  campaign_var_1  campaign_var_2  products_purchased  \\\n",
       "count  39161.000000    39161.000000    39161.000000        18250.000000   \n",
       "mean   19581.000000        6.523812        6.452746            2.154137   \n",
       "std    11304.951283        3.472944        2.614296            0.779815   \n",
       "min        1.000000        1.000000        1.000000            1.000000   \n",
       "25%     9791.000000        4.000000        5.000000            2.000000   \n",
       "50%    19581.000000        6.000000        6.000000            2.000000   \n",
       "75%    29371.000000        9.000000        8.000000            3.000000   \n",
       "max    39161.000000       16.000000       15.000000            4.000000   \n",
       "\n",
       "       user_activity_var_1  user_activity_var_2  user_activity_var_3  \\\n",
       "count         39161.000000         39161.000000         39161.000000   \n",
       "mean              0.400092             0.006716             0.102832   \n",
       "std               0.509194             0.081676             0.303743   \n",
       "min               0.000000             0.000000             0.000000   \n",
       "25%               0.000000             0.000000             0.000000   \n",
       "50%               0.000000             0.000000             0.000000   \n",
       "75%               1.000000             0.000000             0.000000   \n",
       "max               3.000000             1.000000             1.000000   \n",
       "\n",
       "       user_activity_var_4  user_activity_var_5  user_activity_var_6  \\\n",
       "count         39161.000000         39161.000000         39161.000000   \n",
       "mean              0.011465             0.151503             0.499834   \n",
       "std               0.106463             0.359681             0.558166   \n",
       "min               0.000000             0.000000             0.000000   \n",
       "25%               0.000000             0.000000             0.000000   \n",
       "50%               0.000000             0.000000             0.000000   \n",
       "75%               0.000000             0.000000             1.000000   \n",
       "max               1.000000             2.000000             3.000000   \n",
       "\n",
       "       user_activity_var_7  user_activity_var_8  user_activity_var_9  \\\n",
       "count         39161.000000         39161.000000         39161.000000   \n",
       "mean              0.286612             0.174434             0.011440   \n",
       "std               0.455784             0.379689             0.106346   \n",
       "min               0.000000             0.000000             0.000000   \n",
       "25%               0.000000             0.000000             0.000000   \n",
       "50%               0.000000             0.000000             0.000000   \n",
       "75%               1.000000             0.000000             0.000000   \n",
       "max               2.000000             2.000000             1.000000   \n",
       "\n",
       "       user_activity_var_10  user_activity_var_11  user_activity_var_12  \\\n",
       "count          39161.000000          39161.000000          39161.000000   \n",
       "mean               0.000383              0.218942              0.000562   \n",
       "std                0.019568              0.431544              0.023696   \n",
       "min                0.000000              0.000000              0.000000   \n",
       "25%                0.000000              0.000000              0.000000   \n",
       "50%                0.000000              0.000000              0.000000   \n",
       "75%                0.000000              0.000000              0.000000   \n",
       "max                1.000000              4.000000              1.000000   \n",
       "\n",
       "                buy  \n",
       "count  39161.000000  \n",
       "mean       0.051020  \n",
       "std        0.220042  \n",
       "min        0.000000  \n",
       "25%        0.000000  \n",
       "50%        0.000000  \n",
       "75%        0.000000  \n",
       "max        1.000000  "
      ]
     },
     "execution_count": 66,
     "metadata": {},
     "output_type": "execute_result"
    }
   ],
   "source": [
    "# let's look at the statistical aspects of the dataframe.\n",
    "df.describe()"
   ]
  },
  {
   "cell_type": "code",
   "execution_count": 67,
   "metadata": {},
   "outputs": [
    {
     "name": "stdout",
     "output_type": "stream",
     "text": [
      "<class 'pandas.core.frame.DataFrame'>\n",
      "RangeIndex: 39161 entries, 0 to 39160\n",
      "Data columns (total 19 columns):\n",
      " #   Column                Non-Null Count  Dtype  \n",
      "---  ------                --------------  -----  \n",
      " 0   id                    39161 non-null  int64  \n",
      " 1   created_at            39161 non-null  object \n",
      " 2   campaign_var_1        39161 non-null  int64  \n",
      " 3   campaign_var_2        39161 non-null  int64  \n",
      " 4   products_purchased    18250 non-null  float64\n",
      " 5   signup_date           24048 non-null  object \n",
      " 6   user_activity_var_1   39161 non-null  int64  \n",
      " 7   user_activity_var_2   39161 non-null  int64  \n",
      " 8   user_activity_var_3   39161 non-null  int64  \n",
      " 9   user_activity_var_4   39161 non-null  int64  \n",
      " 10  user_activity_var_5   39161 non-null  int64  \n",
      " 11  user_activity_var_6   39161 non-null  int64  \n",
      " 12  user_activity_var_7   39161 non-null  int64  \n",
      " 13  user_activity_var_8   39161 non-null  int64  \n",
      " 14  user_activity_var_9   39161 non-null  int64  \n",
      " 15  user_activity_var_10  39161 non-null  int64  \n",
      " 16  user_activity_var_11  39161 non-null  int64  \n",
      " 17  user_activity_var_12  39161 non-null  int64  \n",
      " 18  buy                   39161 non-null  int64  \n",
      "dtypes: float64(1), int64(16), object(2)\n",
      "memory usage: 5.7+ MB\n"
     ]
    }
   ],
   "source": [
    "# Datatypes of the features in the dataframe.\n",
    "df.info()"
   ]
  },
  {
   "cell_type": "code",
   "execution_count": 68,
   "metadata": {},
   "outputs": [
    {
     "data": {
      "text/plain": [
       "(39161, 19)"
      ]
     },
     "execution_count": 68,
     "metadata": {},
     "output_type": "execute_result"
    }
   ],
   "source": [
    "# Shape of the dataframe.\n",
    "df.shape"
   ]
  },
  {
   "cell_type": "code",
   "execution_count": 69,
   "metadata": {},
   "outputs": [
    {
     "data": {
      "text/plain": [
       "id                      0.0\n",
       "created_at              0.0\n",
       "campaign_var_1          0.0\n",
       "campaign_var_2          0.0\n",
       "signup_date             0.0\n",
       "user_activity_var_1     0.0\n",
       "user_activity_var_2     0.0\n",
       "user_activity_var_3     0.0\n",
       "user_activity_var_4     0.0\n",
       "user_activity_var_5     0.0\n",
       "user_activity_var_6     0.0\n",
       "user_activity_var_7     0.0\n",
       "user_activity_var_8     0.0\n",
       "user_activity_var_9     0.0\n",
       "user_activity_var_10    0.0\n",
       "user_activity_var_11    0.0\n",
       "user_activity_var_12    0.0\n",
       "buy                     0.0\n",
       "Year                    0.0\n",
       "month                   0.0\n",
       "week                    0.0\n",
       "day                     0.0\n",
       "day_of_week             0.0\n",
       "dtype: float64"
      ]
     },
     "execution_count": 69,
     "metadata": {},
     "output_type": "execute_result"
    }
   ],
   "source": [
    "# Finding the precentage of null values.\n",
    "round(100*(lead.isnull().sum()/lead.shape[0]), 2)"
   ]
  },
  {
   "cell_type": "code",
   "execution_count": 70,
   "metadata": {},
   "outputs": [],
   "source": [
    "# Converting the date columns to Datetime datatype.\n",
    "df.created_at=pd.to_datetime(df.created_at)\n",
    "df.signup_date=pd.to_datetime(df.signup_date)"
   ]
  },
  {
   "cell_type": "code",
   "execution_count": 71,
   "metadata": {},
   "outputs": [],
   "source": [
    "# Converting the date columns to int datatype.\n",
    "df['created_at']=df['created_at'].map(dt.datetime.toordinal)\n",
    "df['signup_date']=df['signup_date'].map(dt.datetime.toordinal)"
   ]
  },
  {
   "cell_type": "markdown",
   "metadata": {},
   "source": [
    "- The date column needs to be in int format to feed it to the algorithm."
   ]
  },
  {
   "cell_type": "code",
   "execution_count": 72,
   "metadata": {},
   "outputs": [],
   "source": [
    "# Imputing the missing vales.\n",
    "df.signup_date.replace(to_replace=np.NaN, value=df.signup_date.mode().values[0], inplace=True)\n",
    "df.products_purchased.replace(to_replace=np.NaN, value=df.products_purchased.mode().values[0], inplace=True)"
   ]
  },
  {
   "cell_type": "code",
   "execution_count": 73,
   "metadata": {},
   "outputs": [],
   "source": [
    "# Creating the X and y train datasets.\n",
    "X_train=df.drop(['id','buy'],axis=1)\n",
    "y_train=df['buy']"
   ]
  },
  {
   "cell_type": "markdown",
   "metadata": {},
   "source": [
    "- Decision trees are sensitive to the specific data on which they are trained. If the training data is changed (e.g. a tree is trained on a subset of the training data) the resulting decision tree can be quite different and in turn the predictions can be quite different."
   ]
  },
  {
   "cell_type": "code",
   "execution_count": 74,
   "metadata": {},
   "outputs": [
    {
     "data": {
      "text/html": [
       "<style>#sk-container-id-1 {color: black;background-color: white;}#sk-container-id-1 pre{padding: 0;}#sk-container-id-1 div.sk-toggleable {background-color: white;}#sk-container-id-1 label.sk-toggleable__label {cursor: pointer;display: block;width: 100%;margin-bottom: 0;padding: 0.3em;box-sizing: border-box;text-align: center;}#sk-container-id-1 label.sk-toggleable__label-arrow:before {content: \"▸\";float: left;margin-right: 0.25em;color: #696969;}#sk-container-id-1 label.sk-toggleable__label-arrow:hover:before {color: black;}#sk-container-id-1 div.sk-estimator:hover label.sk-toggleable__label-arrow:before {color: black;}#sk-container-id-1 div.sk-toggleable__content {max-height: 0;max-width: 0;overflow: hidden;text-align: left;background-color: #f0f8ff;}#sk-container-id-1 div.sk-toggleable__content pre {margin: 0.2em;color: black;border-radius: 0.25em;background-color: #f0f8ff;}#sk-container-id-1 input.sk-toggleable__control:checked~div.sk-toggleable__content {max-height: 200px;max-width: 100%;overflow: auto;}#sk-container-id-1 input.sk-toggleable__control:checked~label.sk-toggleable__label-arrow:before {content: \"▾\";}#sk-container-id-1 div.sk-estimator input.sk-toggleable__control:checked~label.sk-toggleable__label {background-color: #d4ebff;}#sk-container-id-1 div.sk-label input.sk-toggleable__control:checked~label.sk-toggleable__label {background-color: #d4ebff;}#sk-container-id-1 input.sk-hidden--visually {border: 0;clip: rect(1px 1px 1px 1px);clip: rect(1px, 1px, 1px, 1px);height: 1px;margin: -1px;overflow: hidden;padding: 0;position: absolute;width: 1px;}#sk-container-id-1 div.sk-estimator {font-family: monospace;background-color: #f0f8ff;border: 1px dotted black;border-radius: 0.25em;box-sizing: border-box;margin-bottom: 0.5em;}#sk-container-id-1 div.sk-estimator:hover {background-color: #d4ebff;}#sk-container-id-1 div.sk-parallel-item::after {content: \"\";width: 100%;border-bottom: 1px solid gray;flex-grow: 1;}#sk-container-id-1 div.sk-label:hover label.sk-toggleable__label {background-color: #d4ebff;}#sk-container-id-1 div.sk-serial::before {content: \"\";position: absolute;border-left: 1px solid gray;box-sizing: border-box;top: 0;bottom: 0;left: 50%;z-index: 0;}#sk-container-id-1 div.sk-serial {display: flex;flex-direction: column;align-items: center;background-color: white;padding-right: 0.2em;padding-left: 0.2em;position: relative;}#sk-container-id-1 div.sk-item {position: relative;z-index: 1;}#sk-container-id-1 div.sk-parallel {display: flex;align-items: stretch;justify-content: center;background-color: white;position: relative;}#sk-container-id-1 div.sk-item::before, #sk-container-id-1 div.sk-parallel-item::before {content: \"\";position: absolute;border-left: 1px solid gray;box-sizing: border-box;top: 0;bottom: 0;left: 50%;z-index: -1;}#sk-container-id-1 div.sk-parallel-item {display: flex;flex-direction: column;z-index: 1;position: relative;background-color: white;}#sk-container-id-1 div.sk-parallel-item:first-child::after {align-self: flex-end;width: 50%;}#sk-container-id-1 div.sk-parallel-item:last-child::after {align-self: flex-start;width: 50%;}#sk-container-id-1 div.sk-parallel-item:only-child::after {width: 0;}#sk-container-id-1 div.sk-dashed-wrapped {border: 1px dashed gray;margin: 0 0.4em 0.5em 0.4em;box-sizing: border-box;padding-bottom: 0.4em;background-color: white;}#sk-container-id-1 div.sk-label label {font-family: monospace;font-weight: bold;display: inline-block;line-height: 1.2em;}#sk-container-id-1 div.sk-label-container {text-align: center;}#sk-container-id-1 div.sk-container {/* jupyter's `normalize.less` sets `[hidden] { display: none; }` but bootstrap.min.css set `[hidden] { display: none !important; }` so we also need the `!important` here to be able to override the default hidden behavior on the sphinx rendered scikit-learn.org. See: https://github.com/scikit-learn/scikit-learn/issues/21755 */display: inline-block !important;position: relative;}#sk-container-id-1 div.sk-text-repr-fallback {display: none;}</style><div id=\"sk-container-id-1\" class=\"sk-top-container\"><div class=\"sk-text-repr-fallback\"><pre>DecisionTreeClassifier(max_depth=10)</pre><b>In a Jupyter environment, please rerun this cell to show the HTML representation or trust the notebook. <br />On GitHub, the HTML representation is unable to render, please try loading this page with nbviewer.org.</b></div><div class=\"sk-container\" hidden><div class=\"sk-item\"><div class=\"sk-estimator sk-toggleable\"><input class=\"sk-toggleable__control sk-hidden--visually\" id=\"sk-estimator-id-1\" type=\"checkbox\" checked><label for=\"sk-estimator-id-1\" class=\"sk-toggleable__label sk-toggleable__label-arrow\">DecisionTreeClassifier</label><div class=\"sk-toggleable__content\"><pre>DecisionTreeClassifier(max_depth=10)</pre></div></div></div></div></div>"
      ],
      "text/plain": [
       "DecisionTreeClassifier(max_depth=10)"
      ]
     },
     "execution_count": 74,
     "metadata": {},
     "output_type": "execute_result"
    }
   ],
   "source": [
    "# Building the decision tree model\n",
    "DT = DecisionTreeClassifier(criterion='gini', max_depth=10)\n",
    "\n",
    "# Fit the model using train data.\n",
    "DT.fit(X_train, y_train)"
   ]
  },
  {
   "cell_type": "code",
   "execution_count": 75,
   "metadata": {},
   "outputs": [],
   "source": [
    "# Predicting the output for train data.\n",
    "DT_train_pred=DT.predict(X_train)"
   ]
  },
  {
   "cell_type": "code",
   "execution_count": 76,
   "metadata": {},
   "outputs": [],
   "source": [
    "# Creating a Dataframe with actual and predicted values.\n",
    "DT_train_output=pd.DataFrame({'id':df.id, 'actual':df.buy, 'predicted':DT_train_pred})"
   ]
  },
  {
   "cell_type": "code",
   "execution_count": 77,
   "metadata": {},
   "outputs": [
    {
     "data": {
      "text/html": [
       "<div>\n",
       "<style scoped>\n",
       "    .dataframe tbody tr th:only-of-type {\n",
       "        vertical-align: middle;\n",
       "    }\n",
       "\n",
       "    .dataframe tbody tr th {\n",
       "        vertical-align: top;\n",
       "    }\n",
       "\n",
       "    .dataframe thead th {\n",
       "        text-align: right;\n",
       "    }\n",
       "</style>\n",
       "<table border=\"1\" class=\"dataframe\">\n",
       "  <thead>\n",
       "    <tr style=\"text-align: right;\">\n",
       "      <th></th>\n",
       "      <th>id</th>\n",
       "      <th>actual</th>\n",
       "      <th>predicted</th>\n",
       "    </tr>\n",
       "  </thead>\n",
       "  <tbody>\n",
       "    <tr>\n",
       "      <th>0</th>\n",
       "      <td>1</td>\n",
       "      <td>0</td>\n",
       "      <td>0</td>\n",
       "    </tr>\n",
       "    <tr>\n",
       "      <th>1</th>\n",
       "      <td>2</td>\n",
       "      <td>0</td>\n",
       "      <td>0</td>\n",
       "    </tr>\n",
       "    <tr>\n",
       "      <th>2</th>\n",
       "      <td>3</td>\n",
       "      <td>0</td>\n",
       "      <td>0</td>\n",
       "    </tr>\n",
       "    <tr>\n",
       "      <th>3</th>\n",
       "      <td>4</td>\n",
       "      <td>0</td>\n",
       "      <td>0</td>\n",
       "    </tr>\n",
       "    <tr>\n",
       "      <th>4</th>\n",
       "      <td>5</td>\n",
       "      <td>0</td>\n",
       "      <td>0</td>\n",
       "    </tr>\n",
       "  </tbody>\n",
       "</table>\n",
       "</div>"
      ],
      "text/plain": [
       "   id  actual  predicted\n",
       "0   1       0          0\n",
       "1   2       0          0\n",
       "2   3       0          0\n",
       "3   4       0          0\n",
       "4   5       0          0"
      ]
     },
     "execution_count": 77,
     "metadata": {},
     "output_type": "execute_result"
    }
   ],
   "source": [
    "DT_train_output.head()"
   ]
  },
  {
   "cell_type": "code",
   "execution_count": 78,
   "metadata": {},
   "outputs": [],
   "source": [
    "# Confusion matrix.\n",
    "DT_conf_m=metrics.confusion_matrix(DT_train_output.actual, DT_train_output.predicted)"
   ]
  },
  {
   "cell_type": "code",
   "execution_count": 79,
   "metadata": {},
   "outputs": [],
   "source": [
    "# Mapping True positives, True negatives, False Positives and False negatives.\n",
    "TP2 = DT_conf_m[1,1]\n",
    "TN2 = DT_conf_m[0,0]\n",
    "FP2 = DT_conf_m[0,1]\n",
    "FN2 = DT_conf_m[1,0]"
   ]
  },
  {
   "cell_type": "code",
   "execution_count": 80,
   "metadata": {},
   "outputs": [
    {
     "name": "stdout",
     "output_type": "stream",
     "text": [
      "Sensitivity: 0.5425425425425425\n",
      "Specificity: 0.9994618303150984\n"
     ]
    }
   ],
   "source": [
    "# Calculating parameters for evaluation.\n",
    "Sensitivity2 = TP2/float(TP2 + FN2)\n",
    "print(\"Sensitivity:\", Sensitivity2)\n",
    "Specificity2 = TN2/float(TN2 + FP2)\n",
    "print(\"Specificity:\", Specificity2)"
   ]
  },
  {
   "cell_type": "code",
   "execution_count": 81,
   "metadata": {},
   "outputs": [
    {
     "name": "stdout",
     "output_type": "stream",
     "text": [
      "Precision: 0.9818840579710145\n",
      "Recall: 0.5425425425425425\n"
     ]
    }
   ],
   "source": [
    "# Calculating parameters for evaluation.\n",
    "Precision2 = metrics.precision_score(DT_train_output.actual, DT_train_output.predicted)\n",
    "print(\"Precision:\" ,Precision2)\n",
    "Recall2 = metrics.recall_score(DT_train_output.actual, DT_train_output.predicted)\n",
    "print(\"Recall:\" , Recall2)"
   ]
  },
  {
   "cell_type": "code",
   "execution_count": 82,
   "metadata": {},
   "outputs": [
    {
     "data": {
      "text/plain": [
       "0.6989039329464861"
      ]
     },
     "execution_count": 82,
     "metadata": {},
     "output_type": "execute_result"
    }
   ],
   "source": [
    "# Calculating the F1 score\n",
    "F1 = 2*(Precision2*Recall2)/(Precision2+Recall2)\n",
    "F1"
   ]
  },
  {
   "cell_type": "markdown",
   "metadata": {},
   "source": [
    "- Our Decision tree model is able to predecit fairly well with F1 Score of 0.7."
   ]
  },
  {
   "cell_type": "markdown",
   "metadata": {},
   "source": [
    "## Random Forest"
   ]
  },
  {
   "cell_type": "code",
   "execution_count": 103,
   "metadata": {},
   "outputs": [
    {
     "data": {
      "text/html": [
       "<style>#sk-container-id-3 {color: black;background-color: white;}#sk-container-id-3 pre{padding: 0;}#sk-container-id-3 div.sk-toggleable {background-color: white;}#sk-container-id-3 label.sk-toggleable__label {cursor: pointer;display: block;width: 100%;margin-bottom: 0;padding: 0.3em;box-sizing: border-box;text-align: center;}#sk-container-id-3 label.sk-toggleable__label-arrow:before {content: \"▸\";float: left;margin-right: 0.25em;color: #696969;}#sk-container-id-3 label.sk-toggleable__label-arrow:hover:before {color: black;}#sk-container-id-3 div.sk-estimator:hover label.sk-toggleable__label-arrow:before {color: black;}#sk-container-id-3 div.sk-toggleable__content {max-height: 0;max-width: 0;overflow: hidden;text-align: left;background-color: #f0f8ff;}#sk-container-id-3 div.sk-toggleable__content pre {margin: 0.2em;color: black;border-radius: 0.25em;background-color: #f0f8ff;}#sk-container-id-3 input.sk-toggleable__control:checked~div.sk-toggleable__content {max-height: 200px;max-width: 100%;overflow: auto;}#sk-container-id-3 input.sk-toggleable__control:checked~label.sk-toggleable__label-arrow:before {content: \"▾\";}#sk-container-id-3 div.sk-estimator input.sk-toggleable__control:checked~label.sk-toggleable__label {background-color: #d4ebff;}#sk-container-id-3 div.sk-label input.sk-toggleable__control:checked~label.sk-toggleable__label {background-color: #d4ebff;}#sk-container-id-3 input.sk-hidden--visually {border: 0;clip: rect(1px 1px 1px 1px);clip: rect(1px, 1px, 1px, 1px);height: 1px;margin: -1px;overflow: hidden;padding: 0;position: absolute;width: 1px;}#sk-container-id-3 div.sk-estimator {font-family: monospace;background-color: #f0f8ff;border: 1px dotted black;border-radius: 0.25em;box-sizing: border-box;margin-bottom: 0.5em;}#sk-container-id-3 div.sk-estimator:hover {background-color: #d4ebff;}#sk-container-id-3 div.sk-parallel-item::after {content: \"\";width: 100%;border-bottom: 1px solid gray;flex-grow: 1;}#sk-container-id-3 div.sk-label:hover label.sk-toggleable__label {background-color: #d4ebff;}#sk-container-id-3 div.sk-serial::before {content: \"\";position: absolute;border-left: 1px solid gray;box-sizing: border-box;top: 0;bottom: 0;left: 50%;z-index: 0;}#sk-container-id-3 div.sk-serial {display: flex;flex-direction: column;align-items: center;background-color: white;padding-right: 0.2em;padding-left: 0.2em;position: relative;}#sk-container-id-3 div.sk-item {position: relative;z-index: 1;}#sk-container-id-3 div.sk-parallel {display: flex;align-items: stretch;justify-content: center;background-color: white;position: relative;}#sk-container-id-3 div.sk-item::before, #sk-container-id-3 div.sk-parallel-item::before {content: \"\";position: absolute;border-left: 1px solid gray;box-sizing: border-box;top: 0;bottom: 0;left: 50%;z-index: -1;}#sk-container-id-3 div.sk-parallel-item {display: flex;flex-direction: column;z-index: 1;position: relative;background-color: white;}#sk-container-id-3 div.sk-parallel-item:first-child::after {align-self: flex-end;width: 50%;}#sk-container-id-3 div.sk-parallel-item:last-child::after {align-self: flex-start;width: 50%;}#sk-container-id-3 div.sk-parallel-item:only-child::after {width: 0;}#sk-container-id-3 div.sk-dashed-wrapped {border: 1px dashed gray;margin: 0 0.4em 0.5em 0.4em;box-sizing: border-box;padding-bottom: 0.4em;background-color: white;}#sk-container-id-3 div.sk-label label {font-family: monospace;font-weight: bold;display: inline-block;line-height: 1.2em;}#sk-container-id-3 div.sk-label-container {text-align: center;}#sk-container-id-3 div.sk-container {/* jupyter's `normalize.less` sets `[hidden] { display: none; }` but bootstrap.min.css set `[hidden] { display: none !important; }` so we also need the `!important` here to be able to override the default hidden behavior on the sphinx rendered scikit-learn.org. See: https://github.com/scikit-learn/scikit-learn/issues/21755 */display: inline-block !important;position: relative;}#sk-container-id-3 div.sk-text-repr-fallback {display: none;}</style><div id=\"sk-container-id-3\" class=\"sk-top-container\"><div class=\"sk-text-repr-fallback\"><pre>RandomForestClassifier(max_depth=20, n_estimators=400)</pre><b>In a Jupyter environment, please rerun this cell to show the HTML representation or trust the notebook. <br />On GitHub, the HTML representation is unable to render, please try loading this page with nbviewer.org.</b></div><div class=\"sk-container\" hidden><div class=\"sk-item\"><div class=\"sk-estimator sk-toggleable\"><input class=\"sk-toggleable__control sk-hidden--visually\" id=\"sk-estimator-id-3\" type=\"checkbox\" checked><label for=\"sk-estimator-id-3\" class=\"sk-toggleable__label sk-toggleable__label-arrow\">RandomForestClassifier</label><div class=\"sk-toggleable__content\"><pre>RandomForestClassifier(max_depth=20, n_estimators=400)</pre></div></div></div></div></div>"
      ],
      "text/plain": [
       "RandomForestClassifier(max_depth=20, n_estimators=400)"
      ]
     },
     "execution_count": 103,
     "metadata": {},
     "output_type": "execute_result"
    }
   ],
   "source": [
    "# Creating a random forest model.\n",
    "RF=RandomForestClassifier(n_estimators=400 ,max_depth=20)\n",
    "\n",
    "# Training the model using the train dataset.\n",
    "RF.fit(X_train,y_train)"
   ]
  },
  {
   "cell_type": "markdown",
   "metadata": {},
   "source": [
    "- n_estimators= The required number of trees in the Random Forest.\n",
    "- max_depth = The maximum depth of the tree. \n",
    "- Very large numbers of trees may take a long time to prepare, but will not overfit the training data. The final output is based on average or majority ranking and hence there is no problem of overfitting."
   ]
  },
  {
   "cell_type": "code",
   "execution_count": 84,
   "metadata": {},
   "outputs": [],
   "source": [
    "# Predicting the output for train data.\n",
    "RF_train_pred=RF.predict(X_train)"
   ]
  },
  {
   "cell_type": "code",
   "execution_count": 85,
   "metadata": {},
   "outputs": [],
   "source": [
    "# Converting the numpy array into a pandas series.\n",
    "RF_train_pred=pd.Series(RF_train_pred)"
   ]
  },
  {
   "cell_type": "code",
   "execution_count": 86,
   "metadata": {},
   "outputs": [],
   "source": [
    "# Creating a Dataframe with actual and predicted values.\n",
    "RF_train_output=pd.DataFrame({'id':df.id, 'actual':df.buy, 'predicted':RF_train_pred})"
   ]
  },
  {
   "cell_type": "code",
   "execution_count": 87,
   "metadata": {},
   "outputs": [
    {
     "data": {
      "text/html": [
       "<div>\n",
       "<style scoped>\n",
       "    .dataframe tbody tr th:only-of-type {\n",
       "        vertical-align: middle;\n",
       "    }\n",
       "\n",
       "    .dataframe tbody tr th {\n",
       "        vertical-align: top;\n",
       "    }\n",
       "\n",
       "    .dataframe thead th {\n",
       "        text-align: right;\n",
       "    }\n",
       "</style>\n",
       "<table border=\"1\" class=\"dataframe\">\n",
       "  <thead>\n",
       "    <tr style=\"text-align: right;\">\n",
       "      <th></th>\n",
       "      <th>id</th>\n",
       "      <th>actual</th>\n",
       "      <th>predicted</th>\n",
       "    </tr>\n",
       "  </thead>\n",
       "  <tbody>\n",
       "    <tr>\n",
       "      <th>0</th>\n",
       "      <td>1</td>\n",
       "      <td>0</td>\n",
       "      <td>0</td>\n",
       "    </tr>\n",
       "    <tr>\n",
       "      <th>1</th>\n",
       "      <td>2</td>\n",
       "      <td>0</td>\n",
       "      <td>0</td>\n",
       "    </tr>\n",
       "    <tr>\n",
       "      <th>2</th>\n",
       "      <td>3</td>\n",
       "      <td>0</td>\n",
       "      <td>0</td>\n",
       "    </tr>\n",
       "    <tr>\n",
       "      <th>3</th>\n",
       "      <td>4</td>\n",
       "      <td>0</td>\n",
       "      <td>0</td>\n",
       "    </tr>\n",
       "    <tr>\n",
       "      <th>4</th>\n",
       "      <td>5</td>\n",
       "      <td>0</td>\n",
       "      <td>0</td>\n",
       "    </tr>\n",
       "  </tbody>\n",
       "</table>\n",
       "</div>"
      ],
      "text/plain": [
       "   id  actual  predicted\n",
       "0   1       0          0\n",
       "1   2       0          0\n",
       "2   3       0          0\n",
       "3   4       0          0\n",
       "4   5       0          0"
      ]
     },
     "execution_count": 87,
     "metadata": {},
     "output_type": "execute_result"
    }
   ],
   "source": [
    "RF_train_output.head()"
   ]
  },
  {
   "cell_type": "code",
   "execution_count": 88,
   "metadata": {},
   "outputs": [],
   "source": [
    "# Confusion matrix.\n",
    "RF_conf_m=metrics.confusion_matrix(RF_train_output.actual, RF_train_output.predicted)"
   ]
  },
  {
   "cell_type": "code",
   "execution_count": 89,
   "metadata": {},
   "outputs": [],
   "source": [
    "# Mapping True positives, True negatives, False Positives and False negatives.\n",
    "TP3 = RF_conf_m[1,1]\n",
    "TN3 = RF_conf_m[0,0]\n",
    "FP3 = RF_conf_m[0,1]\n",
    "FN3 = RF_conf_m[1,0]"
   ]
  },
  {
   "cell_type": "code",
   "execution_count": 90,
   "metadata": {},
   "outputs": [
    {
     "name": "stdout",
     "output_type": "stream",
     "text": [
      "Sensitivity: 0.6871871871871872\n",
      "Specificity: 1.0\n"
     ]
    }
   ],
   "source": [
    "# Calculating parameters for evaluation.\n",
    "Sensitivity3 = TP3/float(TP3 + FN3)\n",
    "print(\"Sensitivity:\", Sensitivity3)\n",
    "Specificity3 = TN3/float(TN3 + FP3)\n",
    "print(\"Specificity:\", Specificity3)"
   ]
  },
  {
   "cell_type": "code",
   "execution_count": 91,
   "metadata": {},
   "outputs": [
    {
     "name": "stdout",
     "output_type": "stream",
     "text": [
      "Precision: 1.0\n",
      "Recall: 0.6871871871871872\n"
     ]
    }
   ],
   "source": [
    "# Calculating parameters for evaluation.\n",
    "Precision3 = metrics.precision_score(RF_train_output.actual, RF_train_output.predicted)\n",
    "print(\"Precision:\" ,Precision3)\n",
    "Recall3 = metrics.recall_score(RF_train_output.actual, RF_train_output.predicted)\n",
    "print(\"Recall:\" , Recall3)"
   ]
  },
  {
   "cell_type": "code",
   "execution_count": 92,
   "metadata": {},
   "outputs": [
    {
     "name": "stdout",
     "output_type": "stream",
     "text": [
      "F1 Score: 0.814595075645209\n"
     ]
    }
   ],
   "source": [
    "# Finding F1 Score.\n",
    "F1_RF = 2*(Precision3*Recall3)/(Precision3+Recall3)\n",
    "print('F1 Score:',F1_RF)"
   ]
  },
  {
   "cell_type": "code",
   "execution_count": 93,
   "metadata": {},
   "outputs": [],
   "source": [
    "# Importing the test dataset.\n",
    "test_df=pd.read_csv('C:\\\\Users\\\\shrey\\\\Downloads\\\\test_Wf7sxXF.csv')"
   ]
  },
  {
   "cell_type": "code",
   "execution_count": 94,
   "metadata": {},
   "outputs": [],
   "source": [
    "# Converting the date columns to Datetime datatype.\n",
    "test_df['created_at']=pd.to_datetime(test_df['created_at'])\n",
    "test_df['signup_date']=pd.to_datetime(test_df['signup_date'])"
   ]
  },
  {
   "cell_type": "code",
   "execution_count": 95,
   "metadata": {},
   "outputs": [
    {
     "data": {
      "text/plain": [
       "id                       0.000000\n",
       "created_at               0.000000\n",
       "campaign_var_1           0.000000\n",
       "campaign_var_2           0.000000\n",
       "products_purchased      61.711165\n",
       "signup_date             50.432342\n",
       "user_activity_var_1      0.000000\n",
       "user_activity_var_2      0.000000\n",
       "user_activity_var_3      0.000000\n",
       "user_activity_var_4      0.000000\n",
       "user_activity_var_5      0.000000\n",
       "user_activity_var_6      0.000000\n",
       "user_activity_var_7      0.000000\n",
       "user_activity_var_8      0.000000\n",
       "user_activity_var_9      0.000000\n",
       "user_activity_var_10     0.000000\n",
       "user_activity_var_11     0.000000\n",
       "user_activity_var_12     0.000000\n",
       "dtype: float64"
      ]
     },
     "execution_count": 95,
     "metadata": {},
     "output_type": "execute_result"
    }
   ],
   "source": [
    "# Finding the percentage of null values in test dataset.\n",
    "(test_df.isnull().sum()/test_df.shape[0])*100"
   ]
  },
  {
   "cell_type": "code",
   "execution_count": 96,
   "metadata": {},
   "outputs": [],
   "source": [
    "# Converting the date columns to int datatype.\n",
    "test_df['created_at']=test_df['created_at'].map(dt.datetime.toordinal)\n",
    "test_df['signup_date']=test_df['signup_date'].map(dt.datetime.toordinal)"
   ]
  },
  {
   "cell_type": "code",
   "execution_count": 97,
   "metadata": {},
   "outputs": [],
   "source": [
    "# Imputing the null values.\n",
    "test_df.products_purchased.replace(to_replace=np.NaN, value=test_df.products_purchased.mode().values[0], inplace=True)\n",
    "test_df['signup_date'].replace(to_replace=np.NaN, value= test_df['signup_date'].mode().values[0], inplace=True)"
   ]
  },
  {
   "cell_type": "code",
   "execution_count": 98,
   "metadata": {},
   "outputs": [],
   "source": [
    "# Creating test data for the model. \n",
    "X_test=test_df.drop(['id'],axis=1)"
   ]
  },
  {
   "cell_type": "code",
   "execution_count": 104,
   "metadata": {},
   "outputs": [],
   "source": [
    "# Prediction for the test data.\n",
    "RF_test_pred=RF.predict(X_test)"
   ]
  },
  {
   "cell_type": "code",
   "execution_count": 105,
   "metadata": {},
   "outputs": [],
   "source": [
    "# Converting numpy array to pandas series.\n",
    "RF_test_pred=pd.Series(RF_test_pred)"
   ]
  },
  {
   "cell_type": "code",
   "execution_count": 106,
   "metadata": {},
   "outputs": [],
   "source": [
    "# Creating a Dataframe with actual and predicted values.\n",
    "RF_final_output=pd.DataFrame({'id':test_df.id, 'buy':RF_test_pred})"
   ]
  },
  {
   "cell_type": "code",
   "execution_count": 107,
   "metadata": {},
   "outputs": [],
   "source": [
    "# Exporting the output file into csv.\n",
    "RF_final_output.to_csv('Sample_submission.csv', index=False)"
   ]
  },
  {
   "cell_type": "markdown",
   "metadata": {},
   "source": [
    "### Reasons for RF giving the best results.\n",
    "- It can also maintain accuracy when a large proportion of data is missing.\n",
    "- It prevents the overfitting issue which occurred in Decision trees. Random forests are created from subsets of data and the final output is based on average or majority ranking and hence the problem of overfitting is taken care of.\n"
   ]
  }
 ],
 "metadata": {
  "kernelspec": {
   "display_name": "Python 3",
   "language": "python",
   "name": "python3"
  },
  "language_info": {
   "codemirror_mode": {
    "name": "ipython",
    "version": 3
   },
   "file_extension": ".py",
   "mimetype": "text/x-python",
   "name": "python",
   "nbconvert_exporter": "python",
   "pygments_lexer": "ipython3",
   "version": "3.8.3"
  }
 },
 "nbformat": 4,
 "nbformat_minor": 4
}
